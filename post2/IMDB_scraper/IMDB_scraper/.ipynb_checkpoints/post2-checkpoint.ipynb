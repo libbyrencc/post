{
 "cells": [
  {
   "cell_type": "markdown",
   "id": "c2983dd0",
   "metadata": {},
   "source": [
    "# Webscraping"
   ]
  },
  {
   "cell_type": "markdown",
   "id": "62388e9a",
   "metadata": {},
   "source": [
    "In this blog post I will discuss the following question:  \n",
    "    *What movie or TV shows share actors with your favorite movie or show?*\n",
    "\n",
    "And the link to my project repository:  \n",
    "    https://github.com/libbyrencc/post/tree/main/post2"
   ]
  },
  {
   "cell_type": "markdown",
   "id": "4e0abcd3",
   "metadata": {},
   "source": [
    "### 1.Setup"
   ]
  },
  {
   "cell_type": "markdown",
   "id": "900901d7",
   "metadata": {},
   "source": [
    "First, we need to setup our webscraping environment, remember to install scrapy package in your conda environment.\n",
    "\n",
    "And run the following command in your terminal to initialize the project:"
   ]
  },
  {
   "cell_type": "code",
   "execution_count": null,
   "id": "7cd9f647",
   "metadata": {},
   "outputs": [],
   "source": [
    "conda activate PIC16B\n",
    "scrapy startproject IMDB_scraper\n",
    "cd IMDB_scraper\n"
   ]
  },
  {
   "cell_type": "markdown",
   "id": "e9818173",
   "metadata": {},
   "source": [
    "Now the file of scraper should be constructed correctly. Go to /IMDB_scraper/spiders/, and create a file \"imdb_spider.py\". And add following code to the start of the file"
   ]
  },
  {
   "cell_type": "code",
   "execution_count": 2,
   "id": "6b4f24ca",
   "metadata": {},
   "outputs": [],
   "source": [
    "import scrapy\n",
    "\n",
    "class ImdbSpider(scrapy.Spider):\n",
    "    name = 'imdb_spider'\n",
    "    \n",
    "    start_urls = ['https://www.imdb.com/title/tt1533117/']\n",
    "                #You can change your favorite film's url here\n",
    "                #Here I choose my favorite film: Let the Bullets Fly"
   ]
  },
  {
   "cell_type": "markdown",
   "id": "c6f815c6",
   "metadata": {},
   "source": [
    "## Implement three parsing methods for the ImdbSpider class"
   ]
  },
  {
   "cell_type": "markdown",
   "id": "34dc9344",
   "metadata": {},
   "source": [
    "### 1. prase(self,response)\n",
    "\n",
    "First we start writing the prase method. It should start on a movie page, and then navigate to the Cast&Crew page.  \n",
    "And call the next method prase_full_credits(self,response).\n",
    "\n",
    "Here I use the CSS selector to find the URL of the Cast&Crew page\n",
    "and yeild scrapy.Request"
   ]
  },
  {
   "cell_type": "code",
   "execution_count": null,
   "id": "f5b8e397",
   "metadata": {},
   "outputs": [],
   "source": [
    " def parse(self, response):\n",
    "        next_page = response.css(\"a.ipc-metadata-list-item__icon-link\").attrib[\"href\"]\n",
    "        #Find the partial url by located tag <a> with\n",
    "        #class= ipc-metadata-list-item__icon-link\n",
    "        # and url is in \"herf\"\n",
    "        if next_page:           \n",
    "            next_page=response.urljoin(next_page) \n",
    "            #Here we make the URL complete\n",
    "            yield scrapy.Request(next_page,callback= self.prase_full_credits)\n",
    "            #Call next function"
   ]
  },
  {
   "cell_type": "markdown",
   "id": "75fcff98",
   "metadata": {},
   "source": [
    "### 2. prase_full_credits(self, response)  \n",
    "Now we are at the Cast&Crew page, next we should look at each actors' page, and call the next method prase_actor_page(self,response)  \n",
    "\n",
    "We will use the css selector and the list comprehension to mimic the process of clicking on the headshots on this page.\n",
    "\n",
    "Here we select `<a>` tag, which is under `<td>` tag with `class ='primary_photo'`, and url is still in `\"herf\"`.\n",
    "Then we iterate each Cast&Crews' URL, use it as a parameter to call next method."
   ]
  },
  {
   "cell_type": "code",
   "execution_count": null,
   "id": "9c6cd7df",
   "metadata": {},
   "outputs": [],
   "source": [
    "def prase_full_credits(self,response):\n",
    "        for next_page in [a.attrib[\"href\"] for a in response.css(\"td.primary_photo a\")]:\n",
    "            next_page=response.urljoin(next_page)\n",
    "            yield scrapy.Request(next_page,callback= self.prase_actor_page)"
   ]
  },
  {
   "cell_type": "markdown",
   "id": "8f80ce40",
   "metadata": {},
   "source": [
    "### 3. prase_actor_page(self,response)  \n",
    "In each actors' page, we should first look up the actor's name.  \n",
    "Then we find each movie or TV name below.  \n",
    "Finally we yield a dictionary with two key-value pairs, of the form {\"actor\" : actor_name, \"movie_or_TV_name\" : movie_or_TV_name}."
   ]
  },
  {
   "cell_type": "code",
   "execution_count": null,
   "id": "a2c80265",
   "metadata": {},
   "outputs": [],
   "source": [
    "def prase_actor_page(self,response):\n",
    "        actor_name=response.css(\"h1.header span.itemprop::text\").get() \n",
    "        #get actor's name\n",
    "        #the name is in <h1 class=\"header\"><span class+\"itemprop\">name<\\span><\\h1>\n",
    "        for quote in response.css(\"div.filmo-row\"): \n",
    "            #get a list of  his/her works\n",
    "            movie_or_TV_name=quote.css(\"b a::text\").get()\n",
    "            # the name is in <b> <a>work name<\\a><\\b>, under tag <div> with class =\"filmo-row\"\n",
    "            yield {\"actor\" : actor_name, \"movie_or_TV_name\" : movie_or_TV_name} \n",
    "            #yeild an dictionary"
   ]
  },
  {
   "cell_type": "markdown",
   "id": "500757c8",
   "metadata": {},
   "source": [
    "Now we are done! The finally project looks like below:"
   ]
  },
  {
   "cell_type": "code",
   "execution_count": null,
   "id": "c31c2760",
   "metadata": {},
   "outputs": [],
   "source": [
    "import scrapy\n",
    "\n",
    "class ImdbSpider(scrapy.Spider):\n",
    "    name = 'imdb_spider'\n",
    "    \n",
    "    start_urls = ['https://www.imdb.com/title/tt1533117/']\n",
    "\n",
    "    def parse(self, response):\n",
    "        next_page = response.css(\"a.ipc-metadata-list-item__icon-link\").attrib[\"href\"]\n",
    "        if next_page:           \n",
    "            next_page=response.urljoin(next_page)\n",
    "            yield scrapy.Request(next_page,callback= self.prase_full_credits)\n",
    "\n",
    "    \n",
    "    \n",
    "    def prase_full_credits(self,response):\n",
    "        for next_page in [a.attrib[\"href\"] for a in response.css(\"td.primary_photo a\")]:\n",
    "            next_page=response.urljoin(next_page)\n",
    "            yield scrapy.Request(next_page,callback= self.prase_actor_page)\n",
    "\n",
    "    def prase_actor_page(self,response):\n",
    "        actor_name=response.css(\"h1.header span.itemprop::text\").get()                             \n",
    "        for quote in response.css(\"div.filmo-row\"):\n",
    "            movie_or_TV_name=quote.css(\"b a::text\").get()\n",
    "            yield {\"actor\" : actor_name, \"movie_or_TV_name\" : movie_or_TV_name}"
   ]
  },
  {
   "cell_type": "markdown",
   "id": "223ae98c",
   "metadata": {},
   "source": [
    "And to run this web scraper we build, we need to run the command below in this repository.  \n",
    "It will save all the results to results.csv"
   ]
  },
  {
   "cell_type": "code",
   "execution_count": null,
   "id": "da8c0a13",
   "metadata": {},
   "outputs": [],
   "source": [
    "scrapy crawl imdb_spider -o results.csv"
   ]
  },
  {
   "cell_type": "markdown",
   "id": "5de14721",
   "metadata": {},
   "source": [
    "## Data analysis  \n",
    "\n",
    "Import some useful package first"
   ]
  },
  {
   "cell_type": "code",
   "execution_count": 1,
   "id": "7587a03c",
   "metadata": {},
   "outputs": [],
   "source": [
    "import pandas as pd\n",
    "import seaborn as sns\n",
    "from matplotlib import pyplot as plt\n",
    "import numpy as np"
   ]
  },
  {
   "cell_type": "markdown",
   "id": "1c60ed04",
   "metadata": {},
   "source": [
    "read reasults.csv as pandas dataframe"
   ]
  },
  {
   "cell_type": "code",
   "execution_count": 2,
   "id": "54c65c74",
   "metadata": {},
   "outputs": [
    {
     "data": {
      "text/html": [
       "<div>\n",
       "<style scoped>\n",
       "    .dataframe tbody tr th:only-of-type {\n",
       "        vertical-align: middle;\n",
       "    }\n",
       "\n",
       "    .dataframe tbody tr th {\n",
       "        vertical-align: top;\n",
       "    }\n",
       "\n",
       "    .dataframe thead th {\n",
       "        text-align: right;\n",
       "    }\n",
       "</style>\n",
       "<table border=\"1\" class=\"dataframe\">\n",
       "  <thead>\n",
       "    <tr style=\"text-align: right;\">\n",
       "      <th></th>\n",
       "      <th>actor</th>\n",
       "      <th>movie_or_TV_name</th>\n",
       "    </tr>\n",
       "  </thead>\n",
       "  <tbody>\n",
       "    <tr>\n",
       "      <th>0</th>\n",
       "      <td>Marco Ma</td>\n",
       "      <td>Gone with the Bullets</td>\n",
       "    </tr>\n",
       "    <tr>\n",
       "      <th>1</th>\n",
       "      <td>Marco Ma</td>\n",
       "      <td>Let the Bullets Fly</td>\n",
       "    </tr>\n",
       "    <tr>\n",
       "      <th>2</th>\n",
       "      <td>Marco Ma</td>\n",
       "      <td>Pk.com.cn</td>\n",
       "    </tr>\n",
       "    <tr>\n",
       "      <th>3</th>\n",
       "      <td>Marco Ma</td>\n",
       "      <td>The Blossom of Roses</td>\n",
       "    </tr>\n",
       "    <tr>\n",
       "      <th>4</th>\n",
       "      <td>Marco Ma</td>\n",
       "      <td>Let the Bullets Fly</td>\n",
       "    </tr>\n",
       "    <tr>\n",
       "      <th>...</th>\n",
       "      <td>...</td>\n",
       "      <td>...</td>\n",
       "    </tr>\n",
       "    <tr>\n",
       "      <th>885</th>\n",
       "      <td>You Ge</td>\n",
       "      <td>The Troubleshooters</td>\n",
       "    </tr>\n",
       "    <tr>\n",
       "      <th>886</th>\n",
       "      <td>You Ge</td>\n",
       "      <td>Shan de nu er</td>\n",
       "    </tr>\n",
       "    <tr>\n",
       "      <th>887</th>\n",
       "      <td>You Ge</td>\n",
       "      <td>Sheng xia he ta de wei hun fu</td>\n",
       "    </tr>\n",
       "    <tr>\n",
       "      <th>888</th>\n",
       "      <td>You Ge</td>\n",
       "      <td>The 11th China Movie Awards</td>\n",
       "    </tr>\n",
       "    <tr>\n",
       "      <th>889</th>\n",
       "      <td>You Ge</td>\n",
       "      <td>I Love My Family</td>\n",
       "    </tr>\n",
       "  </tbody>\n",
       "</table>\n",
       "<p>890 rows × 2 columns</p>\n",
       "</div>"
      ],
      "text/plain": [
       "        actor               movie_or_TV_name\n",
       "0    Marco Ma          Gone with the Bullets\n",
       "1    Marco Ma            Let the Bullets Fly\n",
       "2    Marco Ma                      Pk.com.cn\n",
       "3    Marco Ma           The Blossom of Roses\n",
       "4    Marco Ma            Let the Bullets Fly\n",
       "..        ...                            ...\n",
       "885    You Ge            The Troubleshooters\n",
       "886    You Ge                  Shan de nu er\n",
       "887    You Ge  Sheng xia he ta de wei hun fu\n",
       "888    You Ge    The 11th China Movie Awards\n",
       "889    You Ge               I Love My Family\n",
       "\n",
       "[890 rows x 2 columns]"
      ]
     },
     "execution_count": 2,
     "metadata": {},
     "output_type": "execute_result"
    }
   ],
   "source": [
    "results=pd.read_csv(\"results.csv\")\n",
    "results"
   ]
  },
  {
   "cell_type": "markdown",
   "id": "8b2bbeca",
   "metadata": {},
   "source": [
    "Now we use aggregation to count each movie or TV contians how many shared actors"
   ]
  },
  {
   "cell_type": "code",
   "execution_count": 3,
   "id": "fee4c89c",
   "metadata": {},
   "outputs": [
    {
     "data": {
      "text/html": [
       "<div>\n",
       "<style scoped>\n",
       "    .dataframe tbody tr th:only-of-type {\n",
       "        vertical-align: middle;\n",
       "    }\n",
       "\n",
       "    .dataframe tbody tr th {\n",
       "        vertical-align: top;\n",
       "    }\n",
       "\n",
       "    .dataframe thead th {\n",
       "        text-align: right;\n",
       "    }\n",
       "</style>\n",
       "<table border=\"1\" class=\"dataframe\">\n",
       "  <thead>\n",
       "    <tr style=\"text-align: right;\">\n",
       "      <th></th>\n",
       "      <th>movie_or_TV_name</th>\n",
       "      <th>actor</th>\n",
       "    </tr>\n",
       "  </thead>\n",
       "  <tbody>\n",
       "    <tr>\n",
       "      <th>0</th>\n",
       "      <td>\"Swordsmen of the Passes\"</td>\n",
       "      <td>2</td>\n",
       "    </tr>\n",
       "    <tr>\n",
       "      <th>1</th>\n",
       "      <td>100 Ways to Murder Your Wife</td>\n",
       "      <td>1</td>\n",
       "    </tr>\n",
       "    <tr>\n",
       "      <th>2</th>\n",
       "      <td>1911</td>\n",
       "      <td>2</td>\n",
       "    </tr>\n",
       "    <tr>\n",
       "      <th>3</th>\n",
       "      <td>1921</td>\n",
       "      <td>1</td>\n",
       "    </tr>\n",
       "    <tr>\n",
       "      <th>4</th>\n",
       "      <td>2000 Blockbuster Entertainment Awards</td>\n",
       "      <td>1</td>\n",
       "    </tr>\n",
       "    <tr>\n",
       "      <th>...</th>\n",
       "      <td>...</td>\n",
       "      <td>...</td>\n",
       "    </tr>\n",
       "    <tr>\n",
       "      <th>663</th>\n",
       "      <td>Zhi Ming Yuan Wang</td>\n",
       "      <td>1</td>\n",
       "    </tr>\n",
       "    <tr>\n",
       "      <th>664</th>\n",
       "      <td>Zhongkui: Snow Girl and the Dark Crystal</td>\n",
       "      <td>1</td>\n",
       "    </tr>\n",
       "    <tr>\n",
       "      <th>665</th>\n",
       "      <td>Zou dao di</td>\n",
       "      <td>1</td>\n",
       "    </tr>\n",
       "    <tr>\n",
       "      <th>666</th>\n",
       "      <td>Zou xi kou</td>\n",
       "      <td>1</td>\n",
       "    </tr>\n",
       "    <tr>\n",
       "      <th>667</th>\n",
       "      <td>Ôsama no buranchi</td>\n",
       "      <td>1</td>\n",
       "    </tr>\n",
       "  </tbody>\n",
       "</table>\n",
       "<p>668 rows × 2 columns</p>\n",
       "</div>"
      ],
      "text/plain": [
       "                             movie_or_TV_name  actor\n",
       "0                   \"Swordsmen of the Passes\"      2\n",
       "1                100 Ways to Murder Your Wife      1\n",
       "2                                        1911      2\n",
       "3                                        1921      1\n",
       "4       2000 Blockbuster Entertainment Awards      1\n",
       "..                                        ...    ...\n",
       "663                        Zhi Ming Yuan Wang      1\n",
       "664  Zhongkui: Snow Girl and the Dark Crystal      1\n",
       "665                                Zou dao di      1\n",
       "666                                Zou xi kou      1\n",
       "667                         Ôsama no buranchi      1\n",
       "\n",
       "[668 rows x 2 columns]"
      ]
     },
     "execution_count": 3,
     "metadata": {},
     "output_type": "execute_result"
    }
   ],
   "source": [
    "k=results.groupby([\"movie_or_TV_name\"])[\"actor\"].aggregate(len)\n",
    "k=k.reset_index()\n",
    "k"
   ]
  },
  {
   "cell_type": "markdown",
   "id": "875b4902",
   "metadata": {},
   "source": [
    "Then sort it by actors number"
   ]
  },
  {
   "cell_type": "code",
   "execution_count": 4,
   "id": "113c680d",
   "metadata": {},
   "outputs": [
    {
     "data": {
      "text/html": [
       "<div>\n",
       "<style scoped>\n",
       "    .dataframe tbody tr th:only-of-type {\n",
       "        vertical-align: middle;\n",
       "    }\n",
       "\n",
       "    .dataframe tbody tr th {\n",
       "        vertical-align: top;\n",
       "    }\n",
       "\n",
       "    .dataframe thead th {\n",
       "        text-align: right;\n",
       "    }\n",
       "</style>\n",
       "<table border=\"1\" class=\"dataframe\">\n",
       "  <thead>\n",
       "    <tr style=\"text-align: right;\">\n",
       "      <th></th>\n",
       "      <th>movie_or_TV_name</th>\n",
       "      <th>actor</th>\n",
       "    </tr>\n",
       "  </thead>\n",
       "  <tbody>\n",
       "    <tr>\n",
       "      <th>0</th>\n",
       "      <td>Let the Bullets Fly</td>\n",
       "      <td>34</td>\n",
       "    </tr>\n",
       "    <tr>\n",
       "      <th>1</th>\n",
       "      <td>Gone with the Bullets</td>\n",
       "      <td>10</td>\n",
       "    </tr>\n",
       "    <tr>\n",
       "      <th>2</th>\n",
       "      <td>The Sun Also Rises</td>\n",
       "      <td>9</td>\n",
       "    </tr>\n",
       "    <tr>\n",
       "      <th>3</th>\n",
       "      <td>The Founding of a Republic</td>\n",
       "      <td>8</td>\n",
       "    </tr>\n",
       "    <tr>\n",
       "      <th>4</th>\n",
       "      <td>Hidden Man</td>\n",
       "      <td>8</td>\n",
       "    </tr>\n",
       "    <tr>\n",
       "      <th>5</th>\n",
       "      <td>If You Are the One 2</td>\n",
       "      <td>6</td>\n",
       "    </tr>\n",
       "    <tr>\n",
       "      <th>6</th>\n",
       "      <td>I Love My Family</td>\n",
       "      <td>5</td>\n",
       "    </tr>\n",
       "    <tr>\n",
       "      <th>7</th>\n",
       "      <td>The Robbers</td>\n",
       "      <td>5</td>\n",
       "    </tr>\n",
       "    <tr>\n",
       "      <th>8</th>\n",
       "      <td>Assembly</td>\n",
       "      <td>5</td>\n",
       "    </tr>\n",
       "    <tr>\n",
       "      <th>9</th>\n",
       "      <td>Beginning of the Great Revival</td>\n",
       "      <td>5</td>\n",
       "    </tr>\n",
       "  </tbody>\n",
       "</table>\n",
       "</div>"
      ],
      "text/plain": [
       "                 movie_or_TV_name  actor\n",
       "0             Let the Bullets Fly     34\n",
       "1           Gone with the Bullets     10\n",
       "2              The Sun Also Rises      9\n",
       "3      The Founding of a Republic      8\n",
       "4                      Hidden Man      8\n",
       "5            If You Are the One 2      6\n",
       "6                I Love My Family      5\n",
       "7                     The Robbers      5\n",
       "8                        Assembly      5\n",
       "9  Beginning of the Great Revival      5"
      ]
     },
     "execution_count": 4,
     "metadata": {},
     "output_type": "execute_result"
    }
   ],
   "source": [
    "k=k.sort_values(by=[\"actor\"],ascending=False).reset_index(drop=True)\n",
    "k.head(10)"
   ]
  },
  {
   "cell_type": "markdown",
   "id": "000d62cc",
   "metadata": {},
   "source": [
    "Then we can try to visulaize it."
   ]
  },
  {
   "cell_type": "code",
   "execution_count": 8,
   "id": "e06f6d59",
   "metadata": {},
   "outputs": [
    {
     "data": {
      "image/png": "[encoded data removed]",
      "text/plain": [
       "<Figure size 842.4x595.44 with 1 Axes>"
      ]
     },
     "metadata": {},
     "output_type": "display_data"
    }
   ],
   "source": [
    "sns.barplot(x='movie_or_TV_name', y='actor', data=k.head(5))\n",
    "sns.set(rc={'figure.figsize':(15,8.27)})"
   ]
  },
  {
   "cell_type": "markdown",
   "id": "af2087bc",
   "metadata": {},
   "source": [
    "It shows that Gone with the Bullets may be a good choice for me since it shares most same actors."
   ]
  },
  {
   "cell_type": "code",
   "execution_count": null,
   "id": "4e62f844",
   "metadata": {},
   "outputs": [],
   "source": []
  }
 ],
 "metadata": {
  "interpreter": {
   "hash": "6787530bf9925b057af33f954282f7ad07558b12920f3eef54087b2f6236d6d8"
  },
  "kernelspec": {
   "display_name": "Python 3",
   "language": "python",
   "name": "python3"
  },
  "language_info": {
   "codemirror_mode": {
    "name": "ipython",
    "version": 3
   },
   "file_extension": ".py",
   "mimetype": "text/x-python",
   "name": "python",
   "nbconvert_exporter": "python",
   "pygments_lexer": "ipython3",
   "version": "3.8.8"
  }
 },
 "nbformat": 4,
 "nbformat_minor": 5
}
