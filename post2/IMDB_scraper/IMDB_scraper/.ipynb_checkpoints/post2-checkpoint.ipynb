{
 "cells": [
  {
   "cell_type": "markdown",
   "id": "c2983dd0",
   "metadata": {},
   "source": [
    "# Webscraping"
   ]
  },
  {
   "cell_type": "markdown",
   "id": "62388e9a",
   "metadata": {},
   "source": [
    "In this blog post I will discuss the following question:  \n",
    "    *What movie or TV shows share actors with your favorite movie or show?*\n",
    "\n",
    "And the link to my project repository:  \n",
    "    https://github.com/libbyrencc/post/tree/main/post2"
   ]
  },
  {
   "cell_type": "markdown",
   "id": "4e0abcd3",
   "metadata": {},
   "source": [
    "### 1.Setup"
   ]
  },
  {
   "cell_type": "markdown",
   "id": "900901d7",
   "metadata": {},
   "source": [
    "First, we need to setup our webscraping environment, remember to install scrapy package in your conda environment.\n",
    "\n",
    "And run the following command in your terminal to initialize the project:"
   ]
  },
  {
   "cell_type": "code",
   "execution_count": null,
   "id": "367fb124",
   "metadata": {},
   "outputs": [],
   "source": [
    "conda activate PIC16B\n",
    "scrapy startproject IMDB_scraper\n",
    "cd IMDB_scraper\n"
   ]
  },
  {
   "cell_type": "markdown",
   "id": "e9818173",
   "metadata": {},
   "source": [
    "Now the file of scraper should be constructed correctly. Go to /IMDB_scraper/spiders/, and create a file \"imdb_spider.py\". And add following code to the start of the file"
   ]
  },
  {
   "cell_type": "code",
   "execution_count": 2,
   "id": "6b4f24ca",
   "metadata": {},
   "outputs": [
    {
     "name": "stdout",
     "output_type": "stream",
     "text": [
      "Couldn't find program: 'false'\n"
     ]
    }
   ],
   "source": [
    "import scrapy\n",
    "\n",
    "class ImdbSpider(scrapy.Spider):\n",
    "    name = 'imdb_spider'\n",
    "    \n",
    "    start_urls = ['https://www.imdb.com/title/tt1533117/']\n",
    "                #You can change your favorite film's url here"
   ]
  },
  {
   "cell_type": "markdown",
   "id": "c6f815c6",
   "metadata": {},
   "source": [
    "## Implement three parsing methods for the ImdbSpider class"
   ]
  },
  {
   "cell_type": "markdown",
   "id": "34dc9344",
   "metadata": {},
   "source": [
    "### 1. prase(self,response)\n",
    "\n",
    "First we start writing the prase method. It should start on a movie page, and then navigate to the Cast&Crew page.\n",
    "And Call the next method prase_full_credits(self,response).\n",
    "\n",
    "Here I use the CSS selector to find the URL of the Cast&Crew page\n",
    "and yeild scrapy.Request"
   ]
  },
  {
   "cell_type": "code",
   "execution_count": 1,
   "id": "7587a03c",
   "metadata": {},
   "outputs": [],
   "source": [
    "import pandas as pd\n",
    "import seaborn as sns\n",
    "from matplotlib import pyplot as plt\n",
    "import numpy as np"
   ]
  },
  {
   "cell_type": "code",
   "execution_count": 2,
   "id": "54c65c74",
   "metadata": {},
   "outputs": [
    {
     "data": {
      "text/html": [
       "<div>\n",
       "<style scoped>\n",
       "    .dataframe tbody tr th:only-of-type {\n",
       "        vertical-align: middle;\n",
       "    }\n",
       "\n",
       "    .dataframe tbody tr th {\n",
       "        vertical-align: top;\n",
       "    }\n",
       "\n",
       "    .dataframe thead th {\n",
       "        text-align: right;\n",
       "    }\n",
       "</style>\n",
       "<table border=\"1\" class=\"dataframe\">\n",
       "  <thead>\n",
       "    <tr style=\"text-align: right;\">\n",
       "      <th></th>\n",
       "      <th>actor</th>\n",
       "      <th>movie_or_TV_name</th>\n",
       "    </tr>\n",
       "  </thead>\n",
       "  <tbody>\n",
       "    <tr>\n",
       "      <th>0</th>\n",
       "      <td>Marco Ma</td>\n",
       "      <td>Gone with the Bullets</td>\n",
       "    </tr>\n",
       "    <tr>\n",
       "      <th>1</th>\n",
       "      <td>Marco Ma</td>\n",
       "      <td>Let the Bullets Fly</td>\n",
       "    </tr>\n",
       "    <tr>\n",
       "      <th>2</th>\n",
       "      <td>Marco Ma</td>\n",
       "      <td>Pk.com.cn</td>\n",
       "    </tr>\n",
       "    <tr>\n",
       "      <th>3</th>\n",
       "      <td>Marco Ma</td>\n",
       "      <td>The Blossom of Roses</td>\n",
       "    </tr>\n",
       "    <tr>\n",
       "      <th>4</th>\n",
       "      <td>Marco Ma</td>\n",
       "      <td>Let the Bullets Fly</td>\n",
       "    </tr>\n",
       "    <tr>\n",
       "      <th>...</th>\n",
       "      <td>...</td>\n",
       "      <td>...</td>\n",
       "    </tr>\n",
       "    <tr>\n",
       "      <th>885</th>\n",
       "      <td>You Ge</td>\n",
       "      <td>The Troubleshooters</td>\n",
       "    </tr>\n",
       "    <tr>\n",
       "      <th>886</th>\n",
       "      <td>You Ge</td>\n",
       "      <td>Shan de nu er</td>\n",
       "    </tr>\n",
       "    <tr>\n",
       "      <th>887</th>\n",
       "      <td>You Ge</td>\n",
       "      <td>Sheng xia he ta de wei hun fu</td>\n",
       "    </tr>\n",
       "    <tr>\n",
       "      <th>888</th>\n",
       "      <td>You Ge</td>\n",
       "      <td>The 11th China Movie Awards</td>\n",
       "    </tr>\n",
       "    <tr>\n",
       "      <th>889</th>\n",
       "      <td>You Ge</td>\n",
       "      <td>I Love My Family</td>\n",
       "    </tr>\n",
       "  </tbody>\n",
       "</table>\n",
       "<p>890 rows × 2 columns</p>\n",
       "</div>"
      ],
      "text/plain": [
       "        actor               movie_or_TV_name\n",
       "0    Marco Ma          Gone with the Bullets\n",
       "1    Marco Ma            Let the Bullets Fly\n",
       "2    Marco Ma                      Pk.com.cn\n",
       "3    Marco Ma           The Blossom of Roses\n",
       "4    Marco Ma            Let the Bullets Fly\n",
       "..        ...                            ...\n",
       "885    You Ge            The Troubleshooters\n",
       "886    You Ge                  Shan de nu er\n",
       "887    You Ge  Sheng xia he ta de wei hun fu\n",
       "888    You Ge    The 11th China Movie Awards\n",
       "889    You Ge               I Love My Family\n",
       "\n",
       "[890 rows x 2 columns]"
      ]
     },
     "execution_count": 2,
     "metadata": {},
     "output_type": "execute_result"
    }
   ],
   "source": [
    "results=pd.read_csv(\"results.csv\")\n",
    "results"
   ]
  },
  {
   "cell_type": "code",
   "execution_count": 3,
   "id": "fee4c89c",
   "metadata": {},
   "outputs": [],
   "source": [
    "k=results.groupby([\"movie_or_TV_name\"])[\"actor\"].aggregate(len)"
   ]
  },
  {
   "cell_type": "code",
   "execution_count": 4,
   "id": "35965818",
   "metadata": {},
   "outputs": [],
   "source": [
    "k=k.reset_index()"
   ]
  },
  {
   "cell_type": "code",
   "execution_count": 5,
   "id": "f15b269b",
   "metadata": {},
   "outputs": [
    {
     "data": {
      "text/html": [
       "<div>\n",
       "<style scoped>\n",
       "    .dataframe tbody tr th:only-of-type {\n",
       "        vertical-align: middle;\n",
       "    }\n",
       "\n",
       "    .dataframe tbody tr th {\n",
       "        vertical-align: top;\n",
       "    }\n",
       "\n",
       "    .dataframe thead th {\n",
       "        text-align: right;\n",
       "    }\n",
       "</style>\n",
       "<table border=\"1\" class=\"dataframe\">\n",
       "  <thead>\n",
       "    <tr style=\"text-align: right;\">\n",
       "      <th></th>\n",
       "      <th>movie_or_TV_name</th>\n",
       "      <th>actor</th>\n",
       "    </tr>\n",
       "  </thead>\n",
       "  <tbody>\n",
       "    <tr>\n",
       "      <th>0</th>\n",
       "      <td>\"Swordsmen of the Passes\"</td>\n",
       "      <td>2</td>\n",
       "    </tr>\n",
       "    <tr>\n",
       "      <th>1</th>\n",
       "      <td>100 Ways to Murder Your Wife</td>\n",
       "      <td>1</td>\n",
       "    </tr>\n",
       "    <tr>\n",
       "      <th>2</th>\n",
       "      <td>1911</td>\n",
       "      <td>2</td>\n",
       "    </tr>\n",
       "    <tr>\n",
       "      <th>3</th>\n",
       "      <td>1921</td>\n",
       "      <td>1</td>\n",
       "    </tr>\n",
       "    <tr>\n",
       "      <th>4</th>\n",
       "      <td>2000 Blockbuster Entertainment Awards</td>\n",
       "      <td>1</td>\n",
       "    </tr>\n",
       "    <tr>\n",
       "      <th>...</th>\n",
       "      <td>...</td>\n",
       "      <td>...</td>\n",
       "    </tr>\n",
       "    <tr>\n",
       "      <th>663</th>\n",
       "      <td>Zhi Ming Yuan Wang</td>\n",
       "      <td>1</td>\n",
       "    </tr>\n",
       "    <tr>\n",
       "      <th>664</th>\n",
       "      <td>Zhongkui: Snow Girl and the Dark Crystal</td>\n",
       "      <td>1</td>\n",
       "    </tr>\n",
       "    <tr>\n",
       "      <th>665</th>\n",
       "      <td>Zou dao di</td>\n",
       "      <td>1</td>\n",
       "    </tr>\n",
       "    <tr>\n",
       "      <th>666</th>\n",
       "      <td>Zou xi kou</td>\n",
       "      <td>1</td>\n",
       "    </tr>\n",
       "    <tr>\n",
       "      <th>667</th>\n",
       "      <td>Ôsama no buranchi</td>\n",
       "      <td>1</td>\n",
       "    </tr>\n",
       "  </tbody>\n",
       "</table>\n",
       "<p>668 rows × 2 columns</p>\n",
       "</div>"
      ],
      "text/plain": [
       "                             movie_or_TV_name  actor\n",
       "0                   \"Swordsmen of the Passes\"      2\n",
       "1                100 Ways to Murder Your Wife      1\n",
       "2                                        1911      2\n",
       "3                                        1921      1\n",
       "4       2000 Blockbuster Entertainment Awards      1\n",
       "..                                        ...    ...\n",
       "663                        Zhi Ming Yuan Wang      1\n",
       "664  Zhongkui: Snow Girl and the Dark Crystal      1\n",
       "665                                Zou dao di      1\n",
       "666                                Zou xi kou      1\n",
       "667                         Ôsama no buranchi      1\n",
       "\n",
       "[668 rows x 2 columns]"
      ]
     },
     "execution_count": 5,
     "metadata": {},
     "output_type": "execute_result"
    }
   ],
   "source": [
    "k"
   ]
  },
  {
   "cell_type": "code",
   "execution_count": 6,
   "id": "113c680d",
   "metadata": {},
   "outputs": [],
   "source": [
    "k=k.sort_values(by=[\"actor\"],ascending=False).reset_index(drop=True)"
   ]
  },
  {
   "cell_type": "code",
   "execution_count": 7,
   "id": "51abc4ca",
   "metadata": {},
   "outputs": [
    {
     "data": {
      "text/html": [
       "<div>\n",
       "<style scoped>\n",
       "    .dataframe tbody tr th:only-of-type {\n",
       "        vertical-align: middle;\n",
       "    }\n",
       "\n",
       "    .dataframe tbody tr th {\n",
       "        vertical-align: top;\n",
       "    }\n",
       "\n",
       "    .dataframe thead th {\n",
       "        text-align: right;\n",
       "    }\n",
       "</style>\n",
       "<table border=\"1\" class=\"dataframe\">\n",
       "  <thead>\n",
       "    <tr style=\"text-align: right;\">\n",
       "      <th></th>\n",
       "      <th>movie_or_TV_name</th>\n",
       "      <th>actor</th>\n",
       "    </tr>\n",
       "  </thead>\n",
       "  <tbody>\n",
       "    <tr>\n",
       "      <th>0</th>\n",
       "      <td>Let the Bullets Fly</td>\n",
       "      <td>34</td>\n",
       "    </tr>\n",
       "    <tr>\n",
       "      <th>1</th>\n",
       "      <td>Gone with the Bullets</td>\n",
       "      <td>10</td>\n",
       "    </tr>\n",
       "    <tr>\n",
       "      <th>2</th>\n",
       "      <td>The Sun Also Rises</td>\n",
       "      <td>9</td>\n",
       "    </tr>\n",
       "    <tr>\n",
       "      <th>3</th>\n",
       "      <td>The Founding of a Republic</td>\n",
       "      <td>8</td>\n",
       "    </tr>\n",
       "    <tr>\n",
       "      <th>4</th>\n",
       "      <td>Hidden Man</td>\n",
       "      <td>8</td>\n",
       "    </tr>\n",
       "    <tr>\n",
       "      <th>5</th>\n",
       "      <td>If You Are the One 2</td>\n",
       "      <td>6</td>\n",
       "    </tr>\n",
       "    <tr>\n",
       "      <th>6</th>\n",
       "      <td>I Love My Family</td>\n",
       "      <td>5</td>\n",
       "    </tr>\n",
       "    <tr>\n",
       "      <th>7</th>\n",
       "      <td>The Robbers</td>\n",
       "      <td>5</td>\n",
       "    </tr>\n",
       "    <tr>\n",
       "      <th>8</th>\n",
       "      <td>Assembly</td>\n",
       "      <td>5</td>\n",
       "    </tr>\n",
       "    <tr>\n",
       "      <th>9</th>\n",
       "      <td>Beginning of the Great Revival</td>\n",
       "      <td>5</td>\n",
       "    </tr>\n",
       "  </tbody>\n",
       "</table>\n",
       "</div>"
      ],
      "text/plain": [
       "                 movie_or_TV_name  actor\n",
       "0             Let the Bullets Fly     34\n",
       "1           Gone with the Bullets     10\n",
       "2              The Sun Also Rises      9\n",
       "3      The Founding of a Republic      8\n",
       "4                      Hidden Man      8\n",
       "5            If You Are the One 2      6\n",
       "6                I Love My Family      5\n",
       "7                     The Robbers      5\n",
       "8                        Assembly      5\n",
       "9  Beginning of the Great Revival      5"
      ]
     },
     "execution_count": 7,
     "metadata": {},
     "output_type": "execute_result"
    }
   ],
   "source": [
    "k.head(10)"
   ]
  },
  {
   "cell_type": "code",
   "execution_count": null,
   "id": "e06f6d59",
   "metadata": {},
   "outputs": [],
   "source": []
  }
 ],
 "metadata": {
  "interpreter": {
   "hash": "6787530bf9925b057af33f954282f7ad07558b12920f3eef54087b2f6236d6d8"
  },
  "kernelspec": {
   "display_name": "Python 3",
   "language": "python",
   "name": "python3"
  },
  "language_info": {
   "codemirror_mode": {
    "name": "ipython",
    "version": 3
   },
   "file_extension": ".py",
   "mimetype": "text/x-python",
   "name": "python",
   "nbconvert_exporter": "python",
   "pygments_lexer": "ipython3",
   "version": "3.8.8"
  }
 },
 "nbformat": 4,
 "nbformat_minor": 5
}
