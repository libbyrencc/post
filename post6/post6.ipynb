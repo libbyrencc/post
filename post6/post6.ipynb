{
 "cells": [
  {
   "cell_type": "markdown",
   "id": "eed8048a",
   "metadata": {},
   "source": [
    "# Blog Post 6--Fake news classifier"
   ]
  },
  {
   "cell_type": "code",
   "execution_count": 1,
   "id": "4c1cadd1",
   "metadata": {},
   "outputs": [],
   "source": [
    "import numpy as np\n",
    "import pandas as pd\n",
    "import tensorflow as tf\n",
    "import re\n",
    "import string\n",
    "\n",
    "from tensorflow.keras import layers\n",
    "from tensorflow.keras import losses\n",
    "from tensorflow import keras\n",
    "\n",
    "from tensorflow.keras.layers.experimental.preprocessing import TextVectorization\n",
    "from tensorflow.keras.layers.experimental.preprocessing import StringLookup\n",
    "\n",
    "import plotly.express as px \n",
    "import plotly.io as pio\n",
    "import pandas as pd\n",
    "from matplotlib import pyplot as plt\n",
    "pio.templates.default = \"plotly_white\""
   ]
  },
  {
   "cell_type": "markdown",
   "id": "b165b3d4",
   "metadata": {},
   "source": [
    "### Acquire Training Data"
   ]
  },
  {
   "cell_type": "code",
   "execution_count": 2,
   "id": "694416e0",
   "metadata": {},
   "outputs": [],
   "source": [
    "# Read csv from url\n",
    "train_url = \"https://github.com/PhilChodrow/PIC16b/blob/master/datasets/fake_news_train.csv?raw=true\"\n",
    "train_org=pd.read_csv(train_url)"
   ]
  },
  {
   "cell_type": "code",
   "execution_count": 5,
   "id": "f3adbeb1",
   "metadata": {},
   "outputs": [
    {
     "data": {
      "text/html": [
       "<div>\n",
       "<style scoped>\n",
       "    .dataframe tbody tr th:only-of-type {\n",
       "        vertical-align: middle;\n",
       "    }\n",
       "\n",
       "    .dataframe tbody tr th {\n",
       "        vertical-align: top;\n",
       "    }\n",
       "\n",
       "    .dataframe thead th {\n",
       "        text-align: right;\n",
       "    }\n",
       "</style>\n",
       "<table border=\"1\" class=\"dataframe\">\n",
       "  <thead>\n",
       "    <tr style=\"text-align: right;\">\n",
       "      <th></th>\n",
       "      <th>Unnamed: 0</th>\n",
       "      <th>title</th>\n",
       "      <th>text</th>\n",
       "      <th>fake</th>\n",
       "    </tr>\n",
       "  </thead>\n",
       "  <tbody>\n",
       "    <tr>\n",
       "      <th>0</th>\n",
       "      <td>17366</td>\n",
       "      <td>Merkel: Strong result for Austria's FPO 'big c...</td>\n",
       "      <td>German Chancellor Angela Merkel said on Monday...</td>\n",
       "      <td>0</td>\n",
       "    </tr>\n",
       "    <tr>\n",
       "      <th>1</th>\n",
       "      <td>5634</td>\n",
       "      <td>Trump says Pence will lead voter fraud panel</td>\n",
       "      <td>WEST PALM BEACH, Fla.President Donald Trump sa...</td>\n",
       "      <td>0</td>\n",
       "    </tr>\n",
       "    <tr>\n",
       "      <th>2</th>\n",
       "      <td>17487</td>\n",
       "      <td>JUST IN: SUSPECTED LEAKER and “Close Confidant...</td>\n",
       "      <td>On December 5, 2017, Circa s Sara Carter warne...</td>\n",
       "      <td>1</td>\n",
       "    </tr>\n",
       "    <tr>\n",
       "      <th>3</th>\n",
       "      <td>12217</td>\n",
       "      <td>Thyssenkrupp has offered help to Argentina ove...</td>\n",
       "      <td>Germany s Thyssenkrupp, has offered assistance...</td>\n",
       "      <td>0</td>\n",
       "    </tr>\n",
       "    <tr>\n",
       "      <th>4</th>\n",
       "      <td>5535</td>\n",
       "      <td>Trump say appeals court decision on travel ban...</td>\n",
       "      <td>President Donald Trump on Thursday called the ...</td>\n",
       "      <td>0</td>\n",
       "    </tr>\n",
       "  </tbody>\n",
       "</table>\n",
       "</div>"
      ],
      "text/plain": [
       "   Unnamed: 0                                              title  \\\n",
       "0       17366  Merkel: Strong result for Austria's FPO 'big c...   \n",
       "1        5634       Trump says Pence will lead voter fraud panel   \n",
       "2       17487  JUST IN: SUSPECTED LEAKER and “Close Confidant...   \n",
       "3       12217  Thyssenkrupp has offered help to Argentina ove...   \n",
       "4        5535  Trump say appeals court decision on travel ban...   \n",
       "\n",
       "                                                text  fake  \n",
       "0  German Chancellor Angela Merkel said on Monday...     0  \n",
       "1  WEST PALM BEACH, Fla.President Donald Trump sa...     0  \n",
       "2  On December 5, 2017, Circa s Sara Carter warne...     1  \n",
       "3  Germany s Thyssenkrupp, has offered assistance...     0  \n",
       "4  President Donald Trump on Thursday called the ...     0  "
      ]
     },
     "execution_count": 5,
     "metadata": {},
     "output_type": "execute_result"
    }
   ],
   "source": [
    "train_org.head(5)"
   ]
  },
  {
   "cell_type": "markdown",
   "id": "55dc1f57",
   "metadata": {},
   "source": [
    "Drop first column here."
   ]
  },
  {
   "cell_type": "code",
   "execution_count": 6,
   "id": "3a1d372c",
   "metadata": {},
   "outputs": [],
   "source": [
    "train_org= train_org.iloc[: , 1:]"
   ]
  },
  {
   "cell_type": "code",
   "execution_count": 7,
   "id": "947a434c",
   "metadata": {
    "scrolled": true
   },
   "outputs": [
    {
     "data": {
      "text/html": [
       "<div>\n",
       "<style scoped>\n",
       "    .dataframe tbody tr th:only-of-type {\n",
       "        vertical-align: middle;\n",
       "    }\n",
       "\n",
       "    .dataframe tbody tr th {\n",
       "        vertical-align: top;\n",
       "    }\n",
       "\n",
       "    .dataframe thead th {\n",
       "        text-align: right;\n",
       "    }\n",
       "</style>\n",
       "<table border=\"1\" class=\"dataframe\">\n",
       "  <thead>\n",
       "    <tr style=\"text-align: right;\">\n",
       "      <th></th>\n",
       "      <th>title</th>\n",
       "      <th>text</th>\n",
       "      <th>fake</th>\n",
       "    </tr>\n",
       "  </thead>\n",
       "  <tbody>\n",
       "    <tr>\n",
       "      <th>0</th>\n",
       "      <td>Merkel: Strong result for Austria's FPO 'big c...</td>\n",
       "      <td>German Chancellor Angela Merkel said on Monday...</td>\n",
       "      <td>0</td>\n",
       "    </tr>\n",
       "    <tr>\n",
       "      <th>1</th>\n",
       "      <td>Trump says Pence will lead voter fraud panel</td>\n",
       "      <td>WEST PALM BEACH, Fla.President Donald Trump sa...</td>\n",
       "      <td>0</td>\n",
       "    </tr>\n",
       "    <tr>\n",
       "      <th>2</th>\n",
       "      <td>JUST IN: SUSPECTED LEAKER and “Close Confidant...</td>\n",
       "      <td>On December 5, 2017, Circa s Sara Carter warne...</td>\n",
       "      <td>1</td>\n",
       "    </tr>\n",
       "    <tr>\n",
       "      <th>3</th>\n",
       "      <td>Thyssenkrupp has offered help to Argentina ove...</td>\n",
       "      <td>Germany s Thyssenkrupp, has offered assistance...</td>\n",
       "      <td>0</td>\n",
       "    </tr>\n",
       "    <tr>\n",
       "      <th>4</th>\n",
       "      <td>Trump say appeals court decision on travel ban...</td>\n",
       "      <td>President Donald Trump on Thursday called the ...</td>\n",
       "      <td>0</td>\n",
       "    </tr>\n",
       "  </tbody>\n",
       "</table>\n",
       "</div>"
      ],
      "text/plain": [
       "                                               title  \\\n",
       "0  Merkel: Strong result for Austria's FPO 'big c...   \n",
       "1       Trump says Pence will lead voter fraud panel   \n",
       "2  JUST IN: SUSPECTED LEAKER and “Close Confidant...   \n",
       "3  Thyssenkrupp has offered help to Argentina ove...   \n",
       "4  Trump say appeals court decision on travel ban...   \n",
       "\n",
       "                                                text  fake  \n",
       "0  German Chancellor Angela Merkel said on Monday...     0  \n",
       "1  WEST PALM BEACH, Fla.President Donald Trump sa...     0  \n",
       "2  On December 5, 2017, Circa s Sara Carter warne...     1  \n",
       "3  Germany s Thyssenkrupp, has offered assistance...     0  \n",
       "4  President Donald Trump on Thursday called the ...     0  "
      ]
     },
     "execution_count": 7,
     "metadata": {},
     "output_type": "execute_result"
    }
   ],
   "source": [
    "train_org.head()"
   ]
  },
  {
   "cell_type": "markdown",
   "id": "ddea47f2",
   "metadata": {},
   "source": [
    "### Make a Dataset\n",
    "\n",
    "First we need to remove stopwords(such as 'and','but', 'the') from `text` and `title`.  \n",
    "\n",
    "Then we construct the `tf.data.Dataset` with input `(title,text)` and output `fake`."
   ]
  },
  {
   "cell_type": "code",
   "execution_count": 3,
   "id": "e273ed74",
   "metadata": {},
   "outputs": [],
   "source": [
    "def make_dataset(data):\n",
    "    #Import stopwords from package\n",
    "    from nltk.corpus import stopwords\n",
    "    stop = stopwords.words('english')\n",
    "    #Remove stopwords from text and title\n",
    "    data['title']=data['title'].apply(lambda x: ' '.join([word for word in x.split() if word not in (stop)]))\n",
    "    data['text']=data['text'].apply(lambda x: ' '.join([word for word in x.split() if word not in (stop)]))\n",
    "    #construct the Dataset from dictionaries (title:,text:)\n",
    "    tfdata=tf.data.Dataset.from_tensor_slices(\n",
    "        ({'title': data['title'],'text':data['text']},\n",
    "         data['fake']\n",
    "        )\n",
    "    )\n",
    "    tfdata=tfdata.shuffle(buffer_size = len(tfdata))\n",
    "    #return as batch to imporve the performance\n",
    "    tfdata=tfdata.batch(100)\n",
    "    return tfdata"
   ]
  },
  {
   "cell_type": "markdown",
   "id": "5c2ac2c4",
   "metadata": {},
   "source": [
    "Call the function to make the Dataset from our raw data"
   ]
  },
  {
   "cell_type": "code",
   "execution_count": 4,
   "id": "53ec530b",
   "metadata": {},
   "outputs": [],
   "source": [
    "tfdata=make_dataset(train_org)"
   ]
  },
  {
   "cell_type": "markdown",
   "id": "2d303cb4",
   "metadata": {},
   "source": [
    "Split 20% of data for validation"
   ]
  },
  {
   "cell_type": "code",
   "execution_count": 5,
   "id": "dfe24ef0",
   "metadata": {},
   "outputs": [],
   "source": [
    "train_size=int(0.8*len(tfdata))\n",
    "val_size=int(0.2*len(tfdata))\n",
    "train = tfdata.take(train_size)\n",
    "val   = tfdata.skip(train_size).take(val_size)"
   ]
  },
  {
   "cell_type": "code",
   "execution_count": 6,
   "id": "5ab436cd",
   "metadata": {},
   "outputs": [
    {
     "data": {
      "text/plain": [
       "(180, 45)"
      ]
     },
     "execution_count": 6,
     "metadata": {},
     "output_type": "execute_result"
    }
   ],
   "source": [
    "len(train),len(val)"
   ]
  },
  {
   "cell_type": "markdown",
   "id": "ac3225ba",
   "metadata": {},
   "source": [
    "Check the base rate"
   ]
  },
  {
   "cell_type": "code",
   "execution_count": 15,
   "id": "95e565b9",
   "metadata": {},
   "outputs": [
    {
     "name": "stdout",
     "output_type": "stream",
     "text": [
      "true__freq =  8536\n",
      "false_freq =  9464\n"
     ]
    }
   ],
   "source": [
    "#The labels_iterator will return 0 or 1 to indicate whether the news is fake\n",
    "labels_iterator= train.unbatch().map(lambda imput,fake: fake).as_numpy_iterator()\n",
    "true__freq=0\n",
    "false_freq=0\n",
    "for label in labels_iterator:\n",
    "    if label==0:\n",
    "        true__freq=true__freq+1\n",
    "    else:\n",
    "        false_freq=false_freq+1\n",
    "print(\"true__freq = \",true__freq)\n",
    "print(\"false_freq = \",false_freq)"
   ]
  },
  {
   "cell_type": "markdown",
   "id": "3a6a0c96",
   "metadata": {},
   "source": [
    "Base line is 9511/18000=0.5284"
   ]
  },
  {
   "cell_type": "markdown",
   "id": "aaff8e76",
   "metadata": {},
   "source": [
    "### Create Models"
   ]
  },
  {
   "cell_type": "markdown",
   "id": "ec8aed25",
   "metadata": {},
   "source": [
    "#### Model 1--Title only Model"
   ]
  },
  {
   "cell_type": "markdown",
   "id": "e13a9e75",
   "metadata": {},
   "source": [
    "Below is code for **Text Standardization and Vectorization**.  \n",
    "\n",
    "\n",
    "Standardization step removes some text like capitals, punctuation, HTML elements or other non-semantic content.  \n",
    "Vectorization step will reperesent text as a vector"
   ]
  },
  {
   "cell_type": "code",
   "execution_count": 9,
   "id": "9cfa29c4",
   "metadata": {},
   "outputs": [],
   "source": [
    "size_vocabulary = 2000\n",
    "def standardization(input_data):\n",
    "    lowercase = tf.strings.lower(input_data)\n",
    "    no_punctuation = tf.strings.regex_replace(lowercase,\n",
    "                                  '[%s]' % re.escape(string.punctuation),'')\n",
    "    return no_punctuation"
   ]
  },
  {
   "cell_type": "code",
   "execution_count": 10,
   "id": "2df929c8",
   "metadata": {},
   "outputs": [],
   "source": [
    "vectorize_layer_title = TextVectorization(\n",
    "    standardize=standardization,\n",
    "    max_tokens=size_vocabulary,\n",
    "    output_mode='int',\n",
    "    output_sequence_length=500)"
   ]
  },
  {
   "cell_type": "code",
   "execution_count": 11,
   "id": "a515f720",
   "metadata": {},
   "outputs": [],
   "source": [
    "#vectorize layer\n",
    "vectorize_layer_title.adapt(train.map(lambda x, y: x['title']))"
   ]
  },
  {
   "cell_type": "code",
   "execution_count": 12,
   "id": "5df18d69",
   "metadata": {},
   "outputs": [],
   "source": [
    "#Setting title input\n",
    "title_input=keras.Input(\n",
    "    shape =(1,),\n",
    "    name='title',\n",
    "    dtype='string'\n",
    ")"
   ]
  },
  {
   "cell_type": "markdown",
   "id": "a46dfdd9",
   "metadata": {},
   "source": [
    "Add layers same as lecture notes.\n",
    "\n",
    "ref: https://nbviewer.org/github/PhilChodrow/PIC16B/blob/master/lectures/tf/tf-4.ipynb"
   ]
  },
  {
   "cell_type": "code",
   "execution_count": 20,
   "id": "40b240ea",
   "metadata": {},
   "outputs": [],
   "source": [
    "title_features = vectorize_layer_title(title_input)\n",
    "title_features = layers.Embedding(size_vocabulary, 3, name = \"embedding\")(title_features)\n",
    "title_features = layers.Dropout(0.2)(title_features)\n",
    "title_features = layers.GlobalAveragePooling1D()(title_features)\n",
    "title_features = layers.Dropout(0.2)(title_features)\n",
    "title_features = layers.Dense(32, activation='relu')(title_features)"
   ]
  },
  {
   "cell_type": "code",
   "execution_count": 21,
   "id": "5a4f064e",
   "metadata": {},
   "outputs": [],
   "source": [
    "title_output = layers.Dense(2,name='fake')(title_features)"
   ]
  },
  {
   "cell_type": "markdown",
   "id": "63ef5455",
   "metadata": {},
   "source": [
    "Specify the inputs so the model_1 only take `title` column as inputs"
   ]
  },
  {
   "cell_type": "code",
   "execution_count": 22,
   "id": "0222f5e0",
   "metadata": {},
   "outputs": [],
   "source": [
    "model_1 = keras.Model(inputs=title_input,\n",
    "                      outputs=title_output,\n",
    "                      name=\"title_model\")"
   ]
  },
  {
   "cell_type": "code",
   "execution_count": 23,
   "id": "5af51d53",
   "metadata": {},
   "outputs": [
    {
     "name": "stdout",
     "output_type": "stream",
     "text": [
      "Model: \"title_model\"\n",
      "_________________________________________________________________\n",
      " Layer (type)                Output Shape              Param #   \n",
      "=================================================================\n",
      " title (InputLayer)          [(None, 1)]               0         \n",
      "                                                                 \n",
      " text_vectorization (TextVec  (None, 500)              0         \n",
      " torization)                                                     \n",
      "                                                                 \n",
      " embedding (Embedding)       (None, 500, 3)            6000      \n",
      "                                                                 \n",
      " dropout (Dropout)           (None, 500, 3)            0         \n",
      "                                                                 \n",
      " global_average_pooling1d (G  (None, 3)                0         \n",
      " lobalAveragePooling1D)                                          \n",
      "                                                                 \n",
      " dropout_1 (Dropout)         (None, 3)                 0         \n",
      "                                                                 \n",
      " dense (Dense)               (None, 32)                128       \n",
      "                                                                 \n",
      " fake (Dense)                (None, 2)                 66        \n",
      "                                                                 \n",
      "=================================================================\n",
      "Total params: 6,194\n",
      "Trainable params: 6,194\n",
      "Non-trainable params: 0\n",
      "_________________________________________________________________\n"
     ]
    }
   ],
   "source": [
    "model_1.summary()"
   ]
  },
  {
   "cell_type": "code",
   "execution_count": 25,
   "id": "5d1079c9",
   "metadata": {},
   "outputs": [],
   "source": [
    "model_1.compile(optimizer = \"adam\",\n",
    "              loss = losses.SparseCategoricalCrossentropy(from_logits=True),\n",
    "              metrics=['accuracy']\n",
    ")"
   ]
  },
  {
   "cell_type": "markdown",
   "id": "b841f349",
   "metadata": {},
   "source": [
    "Then we train the model_1"
   ]
  },
  {
   "cell_type": "code",
   "execution_count": null,
   "id": "381adb69",
   "metadata": {},
   "outputs": [],
   "source": [
    "history = model_1.fit(train, \n",
    "                    validation_data=val,\n",
    "                    epochs = 50, \n",
    "                    verbose = False)"
   ]
  },
  {
   "cell_type": "code",
   "execution_count": 137,
   "id": "354f11c2",
   "metadata": {},
   "outputs": [
    {
     "data": {
      "text/plain": [
       "<matplotlib.legend.Legend at 0x1cb97fb8340>"
      ]
     },
     "execution_count": 137,
     "metadata": {},
     "output_type": "execute_result"
    },
    {
     "data": {
      "image/png": "[encoded data removed]",
      "text/plain": [
       "<Figure size 432x288 with 1 Axes>"
      ]
     },
     "metadata": {
      "needs_background": "light"
     },
     "output_type": "display_data"
    }
   ],
   "source": [
    "plt.plot(history.history[\"accuracy\"],label = \"training\")\n",
    "plt.plot(history.history[\"val_accuracy\"],label = \"validation\")\n",
    "plt.gca().set(xlabel = \"epoch\", ylabel = \"accuracy\")\n",
    "plt.axhline(y=0.97, color='r', linestyle='-')\n",
    "plt.legend()"
   ]
  },
  {
   "cell_type": "markdown",
   "id": "6911c5e0",
   "metadata": {},
   "source": [
    "The accuracy of my model 1 stabilized above 97% during training.  \n",
    "And there's no overfitting."
   ]
  },
  {
   "cell_type": "markdown",
   "id": "4df52e1b",
   "metadata": {},
   "source": [
    "#### Model_2 -- Text only Model  \n",
    "\n",
    "Details same as model_1"
   ]
  },
  {
   "cell_type": "code",
   "execution_count": 13,
   "id": "c11c4189",
   "metadata": {},
   "outputs": [],
   "source": [
    "# Setting for text_input_only\n",
    "text_input=keras.Input(\n",
    "    shape =(1,),\n",
    "    name='text',\n",
    "    dtype='string'\n",
    ")\n",
    "vectorize_layer_text = TextVectorization(\n",
    "    standardize=standardization,\n",
    "    max_tokens=size_vocabulary, \n",
    "    output_mode='int',\n",
    "    output_sequence_length=250)\n",
    "vectorize_layer_text.adapt(train.map(lambda x, y: x['text']))\n",
    "text_features = vectorize_layer_title(text_input)\n",
    "text_features = layers.Embedding(size_vocabulary, 3, name = \"embedding\")(text_features)\n",
    "text_features = layers.Dropout(0.2)(text_features)\n",
    "text_features = layers.GlobalAveragePooling1D()(text_features)\n",
    "text_features = layers.Dropout(0.2)(text_features)\n",
    "#A little difference here in order to speed up, since text's size is bigger\n",
    "text_features = layers.Dense(16, activation='relu')(text_features)\n",
    "text_output = layers.Dense(2,name='fake')(text_features)"
   ]
  },
  {
   "cell_type": "code",
   "execution_count": 28,
   "id": "05334c31",
   "metadata": {},
   "outputs": [],
   "source": [
    "model_2= keras.Model(inputs=text_input,outputs=text_output,name=\"text_model\")"
   ]
  },
  {
   "cell_type": "code",
   "execution_count": 29,
   "id": "6dff4650",
   "metadata": {},
   "outputs": [
    {
     "name": "stdout",
     "output_type": "stream",
     "text": [
      "Model: \"text_model\"\n",
      "_________________________________________________________________\n",
      " Layer (type)                Output Shape              Param #   \n",
      "=================================================================\n",
      " text (InputLayer)           [(None, 1)]               0         \n",
      "                                                                 \n",
      " text_vectorization (TextVec  (None, 500)              0         \n",
      " torization)                                                     \n",
      "                                                                 \n",
      " embedding (Embedding)       (None, 500, 3)            6000      \n",
      "                                                                 \n",
      " dropout_2 (Dropout)         (None, 500, 3)            0         \n",
      "                                                                 \n",
      " global_average_pooling1d_1   (None, 3)                0         \n",
      " (GlobalAveragePooling1D)                                        \n",
      "                                                                 \n",
      " dropout_3 (Dropout)         (None, 3)                 0         \n",
      "                                                                 \n",
      " dense_1 (Dense)             (None, 16)                64        \n",
      "                                                                 \n",
      " fake (Dense)                (None, 2)                 34        \n",
      "                                                                 \n",
      "=================================================================\n",
      "Total params: 6,098\n",
      "Trainable params: 6,098\n",
      "Non-trainable params: 0\n",
      "_________________________________________________________________\n"
     ]
    }
   ],
   "source": [
    "model_2.summary()"
   ]
  },
  {
   "cell_type": "code",
   "execution_count": 30,
   "id": "39d43afb",
   "metadata": {},
   "outputs": [],
   "source": [
    "model_2.compile(optimizer = \"adam\",\n",
    "              loss = losses.SparseCategoricalCrossentropy(from_logits=True),\n",
    "              metrics=['accuracy']\n",
    ")"
   ]
  },
  {
   "cell_type": "code",
   "execution_count": null,
   "id": "09864642",
   "metadata": {},
   "outputs": [],
   "source": [
    "history = model_2.fit(train, \n",
    "                    validation_data=val,\n",
    "                    epochs = 20\n",
    "                      #less epoches for speed\n",
    "                     )"
   ]
  },
  {
   "cell_type": "code",
   "execution_count": 158,
   "id": "0d58c8fb",
   "metadata": {},
   "outputs": [
    {
     "data": {
      "text/plain": [
       "<matplotlib.legend.Legend at 0x1cb97fa1640>"
      ]
     },
     "execution_count": 158,
     "metadata": {},
     "output_type": "execute_result"
    },
    {
     "data": {
      "image/png": "[encoded data removed]",
      "text/plain": [
       "<Figure size 432x288 with 1 Axes>"
      ]
     },
     "metadata": {
      "needs_background": "light"
     },
     "output_type": "display_data"
    }
   ],
   "source": [
    "plt.plot(history.history[\"accuracy\"],label = \"training\")\n",
    "plt.plot(history.history[\"val_accuracy\"],label = \"validation\")\n",
    "plt.gca().set(xlabel = \"epoch\", ylabel = \"accuracy\")\n",
    "plt.axhline(y=0.97, color='r', linestyle='-')\n",
    "plt.legend()"
   ]
  },
  {
   "cell_type": "markdown",
   "id": "ea1f1bc3",
   "metadata": {},
   "source": [
    "The accuracy of my model 2 stabilized above 97% during training, a little bit worse than model 1.  \n",
    "And there's no overfitting."
   ]
  },
  {
   "cell_type": "markdown",
   "id": "a87cbe80",
   "metadata": {},
   "source": [
    "#### Model 3 with both `title` and `text` inputs"
   ]
  },
  {
   "cell_type": "markdown",
   "id": "9261ae02",
   "metadata": {},
   "source": [
    "Add layers to both inputs"
   ]
  },
  {
   "cell_type": "code",
   "execution_count": 14,
   "id": "f1a05056",
   "metadata": {},
   "outputs": [],
   "source": [
    "#Same as model 1\n",
    "title_features = vectorize_layer_title(title_input)\n",
    "title_features = layers.Embedding(size_vocabulary, 3, name = \"embedding_title\")(title_features)\n",
    "title_features = layers.Dropout(0.2)(title_features)\n",
    "title_features = layers.GlobalAveragePooling1D()(title_features)\n",
    "title_features = layers.Dropout(0.2)(title_features)\n",
    "title_features = layers.Dense(32, activation='relu')(title_features)\n",
    "\n",
    "#Same as model 2\n",
    "text_features = vectorize_layer_title(text_input)\n",
    "text_features = layers.Embedding(size_vocabulary, 3, name = \"embedding_text\")(text_features)\n",
    "text_features = layers.Dropout(0.2)(text_features)\n",
    "text_features = layers.GlobalAveragePooling1D()(text_features)\n",
    "text_features = layers.Dropout(0.2)(text_features)\n",
    "text_features = layers.Dense(16, activation='relu')(text_features)"
   ]
  },
  {
   "cell_type": "markdown",
   "id": "87985bda",
   "metadata": {},
   "source": [
    "`Concatenate` the output of `title` pipline with `text` pipline"
   ]
  },
  {
   "cell_type": "code",
   "execution_count": 15,
   "id": "57be7bd2",
   "metadata": {},
   "outputs": [],
   "source": [
    "main = layers.concatenate([title_features, text_features], axis = 1)"
   ]
  },
  {
   "cell_type": "code",
   "execution_count": 16,
   "id": "45302b6c",
   "metadata": {},
   "outputs": [],
   "source": [
    "main = layers.Dense(32, activation='relu')(main)"
   ]
  },
  {
   "cell_type": "code",
   "execution_count": 17,
   "id": "8d865877",
   "metadata": {},
   "outputs": [],
   "source": [
    "#Setting output\n",
    "output = layers.Dense(2, name = \"fake\")(main)"
   ]
  },
  {
   "cell_type": "code",
   "execution_count": 18,
   "id": "c175a12c",
   "metadata": {},
   "outputs": [],
   "source": [
    "model_3 = keras.Model(\n",
    "    inputs = [title_input, text_input],\n",
    "    outputs = output\n",
    ")"
   ]
  },
  {
   "cell_type": "code",
   "execution_count": 19,
   "id": "b46ca75c",
   "metadata": {},
   "outputs": [
    {
     "name": "stdout",
     "output_type": "stream",
     "text": [
      "Model: \"model\"\n",
      "__________________________________________________________________________________________________\n",
      " Layer (type)                   Output Shape         Param #     Connected to                     \n",
      "==================================================================================================\n",
      " title (InputLayer)             [(None, 1)]          0           []                               \n",
      "                                                                                                  \n",
      " text (InputLayer)              [(None, 1)]          0           []                               \n",
      "                                                                                                  \n",
      " text_vectorization (TextVector  (None, 500)         0           ['title[0][0]',                  \n",
      " ization)                                                         'text[0][0]']                   \n",
      "                                                                                                  \n",
      " embedding_title (Embedding)    (None, 500, 3)       6000        ['text_vectorization[1][0]']     \n",
      "                                                                                                  \n",
      " embedding_text (Embedding)     (None, 500, 3)       6000        ['text_vectorization[2][0]']     \n",
      "                                                                                                  \n",
      " dropout_2 (Dropout)            (None, 500, 3)       0           ['embedding_title[0][0]']        \n",
      "                                                                                                  \n",
      " dropout_4 (Dropout)            (None, 500, 3)       0           ['embedding_text[0][0]']         \n",
      "                                                                                                  \n",
      " global_average_pooling1d_1 (Gl  (None, 3)           0           ['dropout_2[0][0]']              \n",
      " obalAveragePooling1D)                                                                            \n",
      "                                                                                                  \n",
      " global_average_pooling1d_2 (Gl  (None, 3)           0           ['dropout_4[0][0]']              \n",
      " obalAveragePooling1D)                                                                            \n",
      "                                                                                                  \n",
      " dropout_3 (Dropout)            (None, 3)            0           ['global_average_pooling1d_1[0][0\n",
      "                                                                 ]']                              \n",
      "                                                                                                  \n",
      " dropout_5 (Dropout)            (None, 3)            0           ['global_average_pooling1d_2[0][0\n",
      "                                                                 ]']                              \n",
      "                                                                                                  \n",
      " dense_1 (Dense)                (None, 32)           128         ['dropout_3[0][0]']              \n",
      "                                                                                                  \n",
      " dense_2 (Dense)                (None, 16)           64          ['dropout_5[0][0]']              \n",
      "                                                                                                  \n",
      " concatenate (Concatenate)      (None, 48)           0           ['dense_1[0][0]',                \n",
      "                                                                  'dense_2[0][0]']                \n",
      "                                                                                                  \n",
      " dense_3 (Dense)                (None, 32)           1568        ['concatenate[0][0]']            \n",
      "                                                                                                  \n",
      " fake (Dense)                   (None, 2)            66          ['dense_3[0][0]']                \n",
      "                                                                                                  \n",
      "==================================================================================================\n",
      "Total params: 13,826\n",
      "Trainable params: 13,826\n",
      "Non-trainable params: 0\n",
      "__________________________________________________________________________________________________\n"
     ]
    }
   ],
   "source": [
    "model_3.summary()"
   ]
  },
  {
   "cell_type": "markdown",
   "id": "63fb20a4",
   "metadata": {},
   "source": [
    "Use the `plot_model` function to have a better visualization for layers"
   ]
  },
  {
   "cell_type": "code",
   "execution_count": 42,
   "id": "673e0e30",
   "metadata": {},
   "outputs": [
    {
     "data": {
      "image/png": "[encoded data removed]",
      "text/plain": [
       "<IPython.core.display.Image object>"
      ]
     },
     "execution_count": 42,
     "metadata": {},
     "output_type": "execute_result"
    }
   ],
   "source": [
    "keras.utils.plot_model(model_3)"
   ]
  },
  {
   "cell_type": "code",
   "execution_count": 20,
   "id": "95740b2b",
   "metadata": {},
   "outputs": [],
   "source": [
    "model_3.compile(optimizer = \"adam\",\n",
    "              loss = losses.SparseCategoricalCrossentropy(from_logits=True),\n",
    "              metrics=['accuracy']\n",
    ")"
   ]
  },
  {
   "cell_type": "code",
   "execution_count": 21,
   "id": "d751c881",
   "metadata": {},
   "outputs": [
    {
     "name": "stdout",
     "output_type": "stream",
     "text": [
      "Epoch 1/30\n",
      "180/180 [==============================] - 11s 41ms/step - loss: 0.6425 - accuracy: 0.6344 - val_loss: 0.4419 - val_accuracy: 0.9081\n",
      "Epoch 2/30\n",
      "180/180 [==============================] - 7s 40ms/step - loss: 0.2686 - accuracy: 0.9283 - val_loss: 0.1593 - val_accuracy: 0.9575\n",
      "Epoch 3/30\n",
      "180/180 [==============================] - 7s 40ms/step - loss: 0.1372 - accuracy: 0.9641 - val_loss: 0.0925 - val_accuracy: 0.9757\n",
      "Epoch 4/30\n",
      "180/180 [==============================] - 7s 40ms/step - loss: 0.0831 - accuracy: 0.9775 - val_loss: 0.0575 - val_accuracy: 0.9849\n",
      "Epoch 5/30\n",
      "180/180 [==============================] - 7s 40ms/step - loss: 0.0580 - accuracy: 0.9834 - val_loss: 0.0404 - val_accuracy: 0.9879\n",
      "Epoch 6/30\n",
      "180/180 [==============================] - 7s 40ms/step - loss: 0.0410 - accuracy: 0.9882 - val_loss: 0.0267 - val_accuracy: 0.9921\n",
      "Epoch 7/30\n",
      "180/180 [==============================] - 7s 40ms/step - loss: 0.0306 - accuracy: 0.9909 - val_loss: 0.0278 - val_accuracy: 0.9910\n",
      "Epoch 8/30\n",
      "180/180 [==============================] - 7s 40ms/step - loss: 0.0282 - accuracy: 0.9916 - val_loss: 0.0177 - val_accuracy: 0.9942\n",
      "Epoch 9/30\n",
      "180/180 [==============================] - 7s 40ms/step - loss: 0.0259 - accuracy: 0.9922 - val_loss: 0.0140 - val_accuracy: 0.9964\n",
      "Epoch 10/30\n",
      "180/180 [==============================] - 7s 40ms/step - loss: 0.0225 - accuracy: 0.9928 - val_loss: 0.0096 - val_accuracy: 0.9980\n",
      "Epoch 11/30\n",
      "180/180 [==============================] - 7s 40ms/step - loss: 0.0165 - accuracy: 0.9952 - val_loss: 0.0204 - val_accuracy: 0.9926\n",
      "Epoch 12/30\n",
      "180/180 [==============================] - 7s 40ms/step - loss: 0.0196 - accuracy: 0.9936 - val_loss: 0.0075 - val_accuracy: 0.9982\n",
      "Epoch 13/30\n",
      "180/180 [==============================] - 7s 40ms/step - loss: 0.0136 - accuracy: 0.9961 - val_loss: 0.0069 - val_accuracy: 0.9984\n",
      "Epoch 14/30\n",
      "180/180 [==============================] - 7s 40ms/step - loss: 0.0122 - accuracy: 0.9963 - val_loss: 0.0086 - val_accuracy: 0.9978\n",
      "Epoch 15/30\n",
      "180/180 [==============================] - 7s 40ms/step - loss: 0.0111 - accuracy: 0.9968 - val_loss: 0.0104 - val_accuracy: 0.9960\n",
      "Epoch 16/30\n",
      "180/180 [==============================] - 7s 40ms/step - loss: 0.0098 - accuracy: 0.9969 - val_loss: 0.0031 - val_accuracy: 0.9993\n",
      "Epoch 17/30\n",
      "180/180 [==============================] - 7s 40ms/step - loss: 0.0117 - accuracy: 0.9957 - val_loss: 0.0053 - val_accuracy: 0.9989\n",
      "Epoch 18/30\n",
      "180/180 [==============================] - 7s 41ms/step - loss: 0.0126 - accuracy: 0.9959 - val_loss: 0.0016 - val_accuracy: 0.9996\n",
      "Epoch 19/30\n",
      "180/180 [==============================] - 7s 41ms/step - loss: 0.0093 - accuracy: 0.9971 - val_loss: 0.0022 - val_accuracy: 0.9998\n",
      "Epoch 20/30\n",
      "180/180 [==============================] - 7s 40ms/step - loss: 0.0092 - accuracy: 0.9969 - val_loss: 0.0041 - val_accuracy: 0.9982\n",
      "Epoch 21/30\n",
      "180/180 [==============================] - 7s 41ms/step - loss: 0.0090 - accuracy: 0.9973 - val_loss: 0.0019 - val_accuracy: 0.9996\n",
      "Epoch 22/30\n",
      "180/180 [==============================] - 7s 41ms/step - loss: 0.0076 - accuracy: 0.9977 - val_loss: 0.0023 - val_accuracy: 0.9991\n",
      "Epoch 23/30\n",
      "180/180 [==============================] - 7s 41ms/step - loss: 0.0082 - accuracy: 0.9975 - val_loss: 0.0011 - val_accuracy: 0.9998\n",
      "Epoch 24/30\n",
      "180/180 [==============================] - 7s 40ms/step - loss: 0.0072 - accuracy: 0.9980 - val_loss: 9.1774e-04 - val_accuracy: 0.9998\n",
      "Epoch 25/30\n",
      "180/180 [==============================] - 7s 41ms/step - loss: 0.0074 - accuracy: 0.9977 - val_loss: 0.0015 - val_accuracy: 0.9998\n",
      "Epoch 26/30\n",
      "180/180 [==============================] - 7s 40ms/step - loss: 0.0073 - accuracy: 0.9975 - val_loss: 0.0039 - val_accuracy: 0.9993\n",
      "Epoch 27/30\n",
      "180/180 [==============================] - 7s 41ms/step - loss: 0.0071 - accuracy: 0.9977 - val_loss: 0.0021 - val_accuracy: 0.9993\n",
      "Epoch 28/30\n",
      "180/180 [==============================] - 7s 40ms/step - loss: 0.0067 - accuracy: 0.9979 - val_loss: 8.7825e-04 - val_accuracy: 0.9998\n",
      "Epoch 29/30\n",
      "180/180 [==============================] - 7s 41ms/step - loss: 0.0043 - accuracy: 0.9988 - val_loss: 0.0018 - val_accuracy: 0.9996\n",
      "Epoch 30/30\n",
      "180/180 [==============================] - 7s 40ms/step - loss: 0.0065 - accuracy: 0.9974 - val_loss: 0.0016 - val_accuracy: 0.9996\n"
     ]
    }
   ],
   "source": [
    "history = model_3.fit(train, \n",
    "                    validation_data=val,\n",
    "                    epochs = 30)"
   ]
  },
  {
   "cell_type": "code",
   "execution_count": 45,
   "id": "6534f8c2",
   "metadata": {},
   "outputs": [
    {
     "data": {
      "text/plain": [
       "<matplotlib.legend.Legend at 0x20b7a740ac0>"
      ]
     },
     "execution_count": 45,
     "metadata": {},
     "output_type": "execute_result"
    },
    {
     "data": {
      "image/png": "[encoded data removed]",
      "text/plain": [
       "<Figure size 432x288 with 1 Axes>"
      ]
     },
     "metadata": {
      "needs_background": "light"
     },
     "output_type": "display_data"
    }
   ],
   "source": [
    "plt.plot(history.history[\"accuracy\"],label = \"training\")\n",
    "plt.plot(history.history[\"val_accuracy\"],label = \"validation\")\n",
    "plt.gca().set(xlabel = \"epoch\", ylabel = \"accuracy\")\n",
    "plt.axhline(y=0.97, color='r', linestyle='-')\n",
    "plt.legend()"
   ]
  },
  {
   "cell_type": "markdown",
   "id": "5072c20a",
   "metadata": {},
   "source": [
    "Good news!\n",
    "The accuracy of my model 3 stabilized very close to 100% during training.  \n",
    "And there's no overfitting."
   ]
  },
  {
   "cell_type": "markdown",
   "id": "7831fc1a",
   "metadata": {},
   "source": [
    "## Model Evaluation"
   ]
  },
  {
   "cell_type": "code",
   "execution_count": 22,
   "id": "647b398d",
   "metadata": {},
   "outputs": [],
   "source": [
    "#Read the data for testing\n",
    "test_url = \"https://github.com/PhilChodrow/PIC16b/blob/master/datasets/fake_news_test.csv?raw=true\"\n",
    "test_org=pd.read_csv(test_url)\n",
    "test_org=test_org.iloc[: , 1:]"
   ]
  },
  {
   "cell_type": "markdown",
   "id": "b04dadcb",
   "metadata": {},
   "source": [
    "Use the function `make_dataset` to process our test data"
   ]
  },
  {
   "cell_type": "code",
   "execution_count": 23,
   "id": "69e06555",
   "metadata": {},
   "outputs": [],
   "source": [
    "test_data=make_dataset(test_org)"
   ]
  },
  {
   "cell_type": "code",
   "execution_count": 50,
   "id": "592ed391",
   "metadata": {},
   "outputs": [
    {
     "name": "stdout",
     "output_type": "stream",
     "text": [
      "225/225 [==============================] - 3s 11ms/step - loss: 0.0171 - accuracy: 0.9955\n"
     ]
    },
    {
     "data": {
      "text/plain": [
       "[0.0171230249106884, 0.9954563975334167]"
      ]
     },
     "execution_count": 50,
     "metadata": {},
     "output_type": "execute_result"
    }
   ],
   "source": [
    "model_3.evaluate(test_data.)"
   ]
  },
  {
   "cell_type": "markdown",
   "id": "02827fee",
   "metadata": {},
   "source": [
    "The accuracy is 0.9954, which is extremely close to 1!  \n",
    "GOOD job!"
   ]
  },
  {
   "cell_type": "markdown",
   "id": "bbd16caf",
   "metadata": {},
   "source": [
    "### Embedding Visualization  \n",
    "\n",
    "Get the weights from both `embedding_title` layer and `embedding_text` layer.  \n",
    "Since the accuracy of model_1 is higher than model_2, we give `embedding_title` more weight as 0.6, and `embedding_text` with 0.4."
   ]
  },
  {
   "cell_type": "code",
   "execution_count": 60,
   "id": "889ea97b",
   "metadata": {},
   "outputs": [
    {
     "data": {
      "text/plain": [
       "array([[ 4.4220760e-03, -3.7515955e-03,  2.9505624e-03],\n",
       "       [-1.0663554e-01,  2.0389837e-01, -1.8373589e-01],\n",
       "       [ 1.0753224e-01, -1.6184452e-01, -7.7932082e-02],\n",
       "       ...,\n",
       "       [-7.4841455e-02,  1.1953704e-01, -1.2076619e-01],\n",
       "       [ 4.2736549e-02, -4.0900894e-05,  1.1663854e-02],\n",
       "       [ 1.8610361e-01, -1.7711309e-01,  1.2361175e-01]], dtype=float32)"
      ]
     },
     "execution_count": 60,
     "metadata": {},
     "output_type": "execute_result"
    }
   ],
   "source": [
    "weights = model_3.get_layer('embedding_title').get_weights()[0]*0.6+model_3.get_layer('embedding_text').get_weights()[0]*0.4\n",
    "weights"
   ]
  },
  {
   "cell_type": "code",
   "execution_count": 52,
   "id": "7fefa7b5",
   "metadata": {},
   "outputs": [],
   "source": [
    "# get the vocabulary from our data prep\n",
    "vocab = vectorize_layer_text.get_vocabulary()"
   ]
  },
  {
   "cell_type": "markdown",
   "id": "11efab6e",
   "metadata": {},
   "source": [
    "Reduce our data from 3d to a 2d using `PCA`"
   ]
  },
  {
   "cell_type": "code",
   "execution_count": 53,
   "id": "eea55c70",
   "metadata": {},
   "outputs": [],
   "source": [
    "from sklearn.decomposition import PCA\n",
    "pca = PCA(n_components=2)\n",
    "weights = pca.fit_transform(weights)"
   ]
  },
  {
   "cell_type": "code",
   "execution_count": 54,
   "id": "d44cac01",
   "metadata": {},
   "outputs": [
    {
     "data": {
      "text/html": [
       "<div>\n",
       "<style scoped>\n",
       "    .dataframe tbody tr th:only-of-type {\n",
       "        vertical-align: middle;\n",
       "    }\n",
       "\n",
       "    .dataframe tbody tr th {\n",
       "        vertical-align: top;\n",
       "    }\n",
       "\n",
       "    .dataframe thead th {\n",
       "        text-align: right;\n",
       "    }\n",
       "</style>\n",
       "<table border=\"1\" class=\"dataframe\">\n",
       "  <thead>\n",
       "    <tr style=\"text-align: right;\">\n",
       "      <th></th>\n",
       "      <th>word</th>\n",
       "      <th>x0</th>\n",
       "      <th>x1</th>\n",
       "    </tr>\n",
       "  </thead>\n",
       "  <tbody>\n",
       "    <tr>\n",
       "      <th>0</th>\n",
       "      <td></td>\n",
       "      <td>-0.095760</td>\n",
       "      <td>0.007419</td>\n",
       "    </tr>\n",
       "    <tr>\n",
       "      <th>1</th>\n",
       "      <td>[UNK]</td>\n",
       "      <td>0.196556</td>\n",
       "      <td>0.034882</td>\n",
       "    </tr>\n",
       "    <tr>\n",
       "      <th>2</th>\n",
       "      <td>said</td>\n",
       "      <td>-0.170584</td>\n",
       "      <td>-0.180881</td>\n",
       "    </tr>\n",
       "    <tr>\n",
       "      <th>3</th>\n",
       "      <td>trump</td>\n",
       "      <td>2.154822</td>\n",
       "      <td>0.275418</td>\n",
       "    </tr>\n",
       "    <tr>\n",
       "      <th>4</th>\n",
       "      <td>the</td>\n",
       "      <td>1.979405</td>\n",
       "      <td>0.249041</td>\n",
       "    </tr>\n",
       "    <tr>\n",
       "      <th>...</th>\n",
       "      <td>...</td>\n",
       "      <td>...</td>\n",
       "      <td>...</td>\n",
       "    </tr>\n",
       "    <tr>\n",
       "      <th>1995</th>\n",
       "      <td>christians</td>\n",
       "      <td>-0.253563</td>\n",
       "      <td>0.038703</td>\n",
       "    </tr>\n",
       "    <tr>\n",
       "      <th>1996</th>\n",
       "      <td>st</td>\n",
       "      <td>-0.023181</td>\n",
       "      <td>0.108869</td>\n",
       "    </tr>\n",
       "    <tr>\n",
       "      <th>1997</th>\n",
       "      <td>quoted</td>\n",
       "      <td>0.093434</td>\n",
       "      <td>0.020968</td>\n",
       "    </tr>\n",
       "    <tr>\n",
       "      <th>1998</th>\n",
       "      <td>products</td>\n",
       "      <td>-0.118910</td>\n",
       "      <td>-0.002864</td>\n",
       "    </tr>\n",
       "    <tr>\n",
       "      <th>1999</th>\n",
       "      <td>outlets</td>\n",
       "      <td>-0.358968</td>\n",
       "      <td>-0.083210</td>\n",
       "    </tr>\n",
       "  </tbody>\n",
       "</table>\n",
       "<p>2000 rows × 3 columns</p>\n",
       "</div>"
      ],
      "text/plain": [
       "            word        x0        x1\n",
       "0                -0.095760  0.007419\n",
       "1          [UNK]  0.196556  0.034882\n",
       "2           said -0.170584 -0.180881\n",
       "3          trump  2.154822  0.275418\n",
       "4            the  1.979405  0.249041\n",
       "...          ...       ...       ...\n",
       "1995  christians -0.253563  0.038703\n",
       "1996          st -0.023181  0.108869\n",
       "1997      quoted  0.093434  0.020968\n",
       "1998    products -0.118910 -0.002864\n",
       "1999     outlets -0.358968 -0.083210\n",
       "\n",
       "[2000 rows x 3 columns]"
      ]
     },
     "execution_count": 54,
     "metadata": {},
     "output_type": "execute_result"
    }
   ],
   "source": [
    "embedding_df = pd.DataFrame({\n",
    "    'word' : vocab, \n",
    "    'x0'   : weights[:,0],\n",
    "    'x1'   : weights[:,1]\n",
    "})\n",
    "embedding_df"
   ]
  },
  {
   "cell_type": "code",
   "execution_count": null,
   "id": "efc64745",
   "metadata": {},
   "outputs": [],
   "source": [
    "import plotly.express as px \n",
    "fig = px.scatter(embedding_df, \n",
    "                 x = \"x0\", \n",
    "                 y = \"x1\", \n",
    "                 size = list(np.ones(len(embedding_df))),\n",
    "                 size_max = 2,\n",
    "                 hover_name = \"word\")\n",
    "\n",
    "fig.show()"
   ]
  },
  {
   "cell_type": "markdown",
   "id": "b763f257",
   "metadata": {},
   "source": [
    "Embedding finished! \n",
    "This embedding is really interesting.   \n",
    "In the right part **trump, president,obama,election,republican** is close to each other when detecting \"fake news\".   \n",
    "And **korea** is close to **missiles**.  \n",
    "More than that, **women** is close to **power**.    \n",
    "\n",
    "These words somekind reflect the ralations between each other, the closer group may share some same topics,"
   ]
  }
 ],
 "metadata": {
  "kernelspec": {
   "display_name": "Python 3",
   "language": "python",
   "name": "python3"
  },
  "language_info": {
   "codemirror_mode": {
    "name": "ipython",
    "version": 3
   },
   "file_extension": ".py",
   "mimetype": "text/x-python",
   "name": "python",
   "nbconvert_exporter": "python",
   "pygments_lexer": "ipython3",
   "version": "3.8.8"
  }
 },
 "nbformat": 4,
 "nbformat_minor": 5
}
