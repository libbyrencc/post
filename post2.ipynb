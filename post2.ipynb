{
 "cells": [
  {
   "cell_type": "markdown",
   "id": "52f75bb8",
   "metadata": {},
   "source": [
    "# Data analysis of Climate change"
   ]
  },
  {
   "cell_type": "markdown",
   "id": "f4e42cf8",
   "metadata": {},
   "source": [
    "## I. Create a Database"
   ]
  },
  {
   "cell_type": "code",
   "execution_count": 1,
   "id": "57f408db",
   "metadata": {},
   "outputs": [],
   "source": [
    "import pandas as pd\n",
    "import seaborn as sns\n",
    "from matplotlib import pyplot as plt\n",
    "import numpy as np\n",
    "\n",
    "# First import useful tools for data analysis"
   ]
  },
  {
   "cell_type": "markdown",
   "id": "cc1fe10c",
   "metadata": {},
   "source": [
    "Then we need to access and read three tables.(temperatures stations and countries)  \n",
    "Using pd.read_csv()"
   ]
  },
  {
   "cell_type": "code",
   "execution_count": 11,
   "id": "c8c8bc14",
   "metadata": {},
   "outputs": [],
   "source": [
    "temps = pd.read_csv('temps.csv')\n",
    "#Since I already download the file, just import is enougha"
   ]
  },
  {
   "cell_type": "code",
   "execution_count": 12,
   "id": "e6b405f2",
   "metadata": {},
   "outputs": [
    {
     "data": {
      "text/html": [
       "<div>\n",
       "<style scoped>\n",
       "    .dataframe tbody tr th:only-of-type {\n",
       "        vertical-align: middle;\n",
       "    }\n",
       "\n",
       "    .dataframe tbody tr th {\n",
       "        vertical-align: top;\n",
       "    }\n",
       "\n",
       "    .dataframe thead th {\n",
       "        text-align: right;\n",
       "    }\n",
       "</style>\n",
       "<table border=\"1\" class=\"dataframe\">\n",
       "  <thead>\n",
       "    <tr style=\"text-align: right;\">\n",
       "      <th></th>\n",
       "      <th>ID</th>\n",
       "      <th>Year</th>\n",
       "      <th>VALUE1</th>\n",
       "      <th>VALUE2</th>\n",
       "      <th>VALUE3</th>\n",
       "      <th>VALUE4</th>\n",
       "      <th>VALUE5</th>\n",
       "      <th>VALUE6</th>\n",
       "      <th>VALUE7</th>\n",
       "      <th>VALUE8</th>\n",
       "      <th>VALUE9</th>\n",
       "      <th>VALUE10</th>\n",
       "      <th>VALUE11</th>\n",
       "      <th>VALUE12</th>\n",
       "    </tr>\n",
       "  </thead>\n",
       "  <tbody>\n",
       "    <tr>\n",
       "      <th>0</th>\n",
       "      <td>ACW00011604</td>\n",
       "      <td>1961</td>\n",
       "      <td>-89.0</td>\n",
       "      <td>236.0</td>\n",
       "      <td>472.0</td>\n",
       "      <td>773.0</td>\n",
       "      <td>1128.0</td>\n",
       "      <td>1599.0</td>\n",
       "      <td>1570.0</td>\n",
       "      <td>1481.0</td>\n",
       "      <td>1413.0</td>\n",
       "      <td>1174.0</td>\n",
       "      <td>510.0</td>\n",
       "      <td>-39.0</td>\n",
       "    </tr>\n",
       "    <tr>\n",
       "      <th>1</th>\n",
       "      <td>ACW00011604</td>\n",
       "      <td>1962</td>\n",
       "      <td>113.0</td>\n",
       "      <td>85.0</td>\n",
       "      <td>-154.0</td>\n",
       "      <td>635.0</td>\n",
       "      <td>908.0</td>\n",
       "      <td>1381.0</td>\n",
       "      <td>1510.0</td>\n",
       "      <td>1393.0</td>\n",
       "      <td>1163.0</td>\n",
       "      <td>994.0</td>\n",
       "      <td>323.0</td>\n",
       "      <td>-126.0</td>\n",
       "    </tr>\n",
       "    <tr>\n",
       "      <th>2</th>\n",
       "      <td>ACW00011604</td>\n",
       "      <td>1963</td>\n",
       "      <td>-713.0</td>\n",
       "      <td>-553.0</td>\n",
       "      <td>-99.0</td>\n",
       "      <td>541.0</td>\n",
       "      <td>1224.0</td>\n",
       "      <td>1627.0</td>\n",
       "      <td>1620.0</td>\n",
       "      <td>1596.0</td>\n",
       "      <td>1332.0</td>\n",
       "      <td>940.0</td>\n",
       "      <td>566.0</td>\n",
       "      <td>-108.0</td>\n",
       "    </tr>\n",
       "    <tr>\n",
       "      <th>3</th>\n",
       "      <td>ACW00011604</td>\n",
       "      <td>1964</td>\n",
       "      <td>62.0</td>\n",
       "      <td>-85.0</td>\n",
       "      <td>55.0</td>\n",
       "      <td>738.0</td>\n",
       "      <td>1219.0</td>\n",
       "      <td>1442.0</td>\n",
       "      <td>1506.0</td>\n",
       "      <td>1557.0</td>\n",
       "      <td>1221.0</td>\n",
       "      <td>788.0</td>\n",
       "      <td>546.0</td>\n",
       "      <td>112.0</td>\n",
       "    </tr>\n",
       "    <tr>\n",
       "      <th>4</th>\n",
       "      <td>ACW00011604</td>\n",
       "      <td>1965</td>\n",
       "      <td>44.0</td>\n",
       "      <td>-105.0</td>\n",
       "      <td>38.0</td>\n",
       "      <td>590.0</td>\n",
       "      <td>987.0</td>\n",
       "      <td>1500.0</td>\n",
       "      <td>1487.0</td>\n",
       "      <td>1477.0</td>\n",
       "      <td>1377.0</td>\n",
       "      <td>974.0</td>\n",
       "      <td>31.0</td>\n",
       "      <td>-178.0</td>\n",
       "    </tr>\n",
       "  </tbody>\n",
       "</table>\n",
       "</div>"
      ],
      "text/plain": [
       "            ID  Year  VALUE1  VALUE2  VALUE3  VALUE4  VALUE5  VALUE6  VALUE7  \\\n",
       "0  ACW00011604  1961   -89.0   236.0   472.0   773.0  1128.0  1599.0  1570.0   \n",
       "1  ACW00011604  1962   113.0    85.0  -154.0   635.0   908.0  1381.0  1510.0   \n",
       "2  ACW00011604  1963  -713.0  -553.0   -99.0   541.0  1224.0  1627.0  1620.0   \n",
       "3  ACW00011604  1964    62.0   -85.0    55.0   738.0  1219.0  1442.0  1506.0   \n",
       "4  ACW00011604  1965    44.0  -105.0    38.0   590.0   987.0  1500.0  1487.0   \n",
       "\n",
       "   VALUE8  VALUE9  VALUE10  VALUE11  VALUE12  \n",
       "0  1481.0  1413.0   1174.0    510.0    -39.0  \n",
       "1  1393.0  1163.0    994.0    323.0   -126.0  \n",
       "2  1596.0  1332.0    940.0    566.0   -108.0  \n",
       "3  1557.0  1221.0    788.0    546.0    112.0  \n",
       "4  1477.0  1377.0    974.0     31.0   -178.0  "
      ]
     },
     "execution_count": 12,
     "metadata": {},
     "output_type": "execute_result"
    }
   ],
   "source": [
    "temps.head(5)"
   ]
  },
  {
   "cell_type": "markdown",
   "id": "2f0f86d9",
   "metadata": {},
   "source": [
    "As provided, the data set contains the following columns: \n",
    "\n",
    "- `ID`: the ID number of the station. We can use this to figure out which country the station is in, as well as the spatial location of the station. \n",
    "- `Year`: the year of the measurement. \n",
    "- `VALUE1`-`VALUE12`: the temperature measurements themselves. `VALUE1` contains the temperature measurements for January, `VALUE2` for February, and so on. \n",
    "- The measurements are in hundredths of a degree, Celsius. "
   ]
  },
  {
   "cell_type": "markdown",
   "id": "7769ea44",
   "metadata": {},
   "source": [
    "And such data is hard to deal with, we may need to do some changes so that each months' data is in a single column. "
   ]
  },
  {
   "cell_type": "markdown",
   "id": "41c30fa5",
   "metadata": {},
   "source": [
    "First, we could convert all the columns into a mulit-index for the data frame. Here we use ID and Year."
   ]
  },
  {
   "cell_type": "code",
   "execution_count": 13,
   "id": "4846c8ee",
   "metadata": {},
   "outputs": [
    {
     "data": {
      "text/html": [
       "<div>\n",
       "<style scoped>\n",
       "    .dataframe tbody tr th:only-of-type {\n",
       "        vertical-align: middle;\n",
       "    }\n",
       "\n",
       "    .dataframe tbody tr th {\n",
       "        vertical-align: top;\n",
       "    }\n",
       "\n",
       "    .dataframe thead th {\n",
       "        text-align: right;\n",
       "    }\n",
       "</style>\n",
       "<table border=\"1\" class=\"dataframe\">\n",
       "  <thead>\n",
       "    <tr style=\"text-align: right;\">\n",
       "      <th></th>\n",
       "      <th></th>\n",
       "      <th>VALUE1</th>\n",
       "      <th>VALUE2</th>\n",
       "      <th>VALUE3</th>\n",
       "      <th>VALUE4</th>\n",
       "      <th>VALUE5</th>\n",
       "      <th>VALUE6</th>\n",
       "      <th>VALUE7</th>\n",
       "      <th>VALUE8</th>\n",
       "      <th>VALUE9</th>\n",
       "      <th>VALUE10</th>\n",
       "      <th>VALUE11</th>\n",
       "      <th>VALUE12</th>\n",
       "    </tr>\n",
       "    <tr>\n",
       "      <th>ID</th>\n",
       "      <th>Year</th>\n",
       "      <th></th>\n",
       "      <th></th>\n",
       "      <th></th>\n",
       "      <th></th>\n",
       "      <th></th>\n",
       "      <th></th>\n",
       "      <th></th>\n",
       "      <th></th>\n",
       "      <th></th>\n",
       "      <th></th>\n",
       "      <th></th>\n",
       "      <th></th>\n",
       "    </tr>\n",
       "  </thead>\n",
       "  <tbody>\n",
       "    <tr>\n",
       "      <th rowspan=\"5\" valign=\"top\">ACW00011604</th>\n",
       "      <th>1961</th>\n",
       "      <td>-89.0</td>\n",
       "      <td>236.0</td>\n",
       "      <td>472.0</td>\n",
       "      <td>773.0</td>\n",
       "      <td>1128.0</td>\n",
       "      <td>1599.0</td>\n",
       "      <td>1570.0</td>\n",
       "      <td>1481.0</td>\n",
       "      <td>1413.0</td>\n",
       "      <td>1174.0</td>\n",
       "      <td>510.0</td>\n",
       "      <td>-39.0</td>\n",
       "    </tr>\n",
       "    <tr>\n",
       "      <th>1962</th>\n",
       "      <td>113.0</td>\n",
       "      <td>85.0</td>\n",
       "      <td>-154.0</td>\n",
       "      <td>635.0</td>\n",
       "      <td>908.0</td>\n",
       "      <td>1381.0</td>\n",
       "      <td>1510.0</td>\n",
       "      <td>1393.0</td>\n",
       "      <td>1163.0</td>\n",
       "      <td>994.0</td>\n",
       "      <td>323.0</td>\n",
       "      <td>-126.0</td>\n",
       "    </tr>\n",
       "    <tr>\n",
       "      <th>1963</th>\n",
       "      <td>-713.0</td>\n",
       "      <td>-553.0</td>\n",
       "      <td>-99.0</td>\n",
       "      <td>541.0</td>\n",
       "      <td>1224.0</td>\n",
       "      <td>1627.0</td>\n",
       "      <td>1620.0</td>\n",
       "      <td>1596.0</td>\n",
       "      <td>1332.0</td>\n",
       "      <td>940.0</td>\n",
       "      <td>566.0</td>\n",
       "      <td>-108.0</td>\n",
       "    </tr>\n",
       "    <tr>\n",
       "      <th>1964</th>\n",
       "      <td>62.0</td>\n",
       "      <td>-85.0</td>\n",
       "      <td>55.0</td>\n",
       "      <td>738.0</td>\n",
       "      <td>1219.0</td>\n",
       "      <td>1442.0</td>\n",
       "      <td>1506.0</td>\n",
       "      <td>1557.0</td>\n",
       "      <td>1221.0</td>\n",
       "      <td>788.0</td>\n",
       "      <td>546.0</td>\n",
       "      <td>112.0</td>\n",
       "    </tr>\n",
       "    <tr>\n",
       "      <th>1965</th>\n",
       "      <td>44.0</td>\n",
       "      <td>-105.0</td>\n",
       "      <td>38.0</td>\n",
       "      <td>590.0</td>\n",
       "      <td>987.0</td>\n",
       "      <td>1500.0</td>\n",
       "      <td>1487.0</td>\n",
       "      <td>1477.0</td>\n",
       "      <td>1377.0</td>\n",
       "      <td>974.0</td>\n",
       "      <td>31.0</td>\n",
       "      <td>-178.0</td>\n",
       "    </tr>\n",
       "  </tbody>\n",
       "</table>\n",
       "</div>"
      ],
      "text/plain": [
       "                  VALUE1  VALUE2  VALUE3  VALUE4  VALUE5  VALUE6  VALUE7  \\\n",
       "ID          Year                                                           \n",
       "ACW00011604 1961   -89.0   236.0   472.0   773.0  1128.0  1599.0  1570.0   \n",
       "            1962   113.0    85.0  -154.0   635.0   908.0  1381.0  1510.0   \n",
       "            1963  -713.0  -553.0   -99.0   541.0  1224.0  1627.0  1620.0   \n",
       "            1964    62.0   -85.0    55.0   738.0  1219.0  1442.0  1506.0   \n",
       "            1965    44.0  -105.0    38.0   590.0   987.0  1500.0  1487.0   \n",
       "\n",
       "                  VALUE8  VALUE9  VALUE10  VALUE11  VALUE12  \n",
       "ID          Year                                             \n",
       "ACW00011604 1961  1481.0  1413.0   1174.0    510.0    -39.0  \n",
       "            1962  1393.0  1163.0    994.0    323.0   -126.0  \n",
       "            1963  1596.0  1332.0    940.0    566.0   -108.0  \n",
       "            1964  1557.0  1221.0    788.0    546.0    112.0  \n",
       "            1965  1477.0  1377.0    974.0     31.0   -178.0  "
      ]
     },
     "execution_count": 13,
     "metadata": {},
     "output_type": "execute_result"
    }
   ],
   "source": [
    "temps=temps.set_index(keys=[\"ID\",\"Year\"])\n",
    "temps.head()"
   ]
  },
  {
   "cell_type": "markdown",
   "id": "ab634972",
   "metadata": {},
   "source": [
    "Then, we use stack() method to rotate the axis of \"value\". A new column will be creadted. "
   ]
  },
  {
   "cell_type": "code",
   "execution_count": 14,
   "id": "e0e2d1e1",
   "metadata": {},
   "outputs": [
    {
     "data": {
      "text/plain": [
       "ID           Year        \n",
       "ACW00011604  1961  VALUE1     -89.0\n",
       "                   VALUE2     236.0\n",
       "                   VALUE3     472.0\n",
       "                   VALUE4     773.0\n",
       "                   VALUE5    1128.0\n",
       "dtype: float64"
      ]
     },
     "execution_count": 14,
     "metadata": {},
     "output_type": "execute_result"
    }
   ],
   "source": [
    "temps = temps.stack() \n",
    "#note here we must have\"=\", stack() method does not change the origin\n",
    "temps.head()"
   ]
  },
  {
   "cell_type": "markdown",
   "id": "65371b3e",
   "metadata": {},
   "source": [
    "And now we can use reset_index() method."
   ]
  },
  {
   "cell_type": "code",
   "execution_count": 15,
   "id": "dcf00a2e",
   "metadata": {},
   "outputs": [
    {
     "data": {
      "text/html": [
       "<div>\n",
       "<style scoped>\n",
       "    .dataframe tbody tr th:only-of-type {\n",
       "        vertical-align: middle;\n",
       "    }\n",
       "\n",
       "    .dataframe tbody tr th {\n",
       "        vertical-align: top;\n",
       "    }\n",
       "\n",
       "    .dataframe thead th {\n",
       "        text-align: right;\n",
       "    }\n",
       "</style>\n",
       "<table border=\"1\" class=\"dataframe\">\n",
       "  <thead>\n",
       "    <tr style=\"text-align: right;\">\n",
       "      <th></th>\n",
       "      <th>ID</th>\n",
       "      <th>Year</th>\n",
       "      <th>level_2</th>\n",
       "      <th>0</th>\n",
       "    </tr>\n",
       "  </thead>\n",
       "  <tbody>\n",
       "    <tr>\n",
       "      <th>0</th>\n",
       "      <td>ACW00011604</td>\n",
       "      <td>1961</td>\n",
       "      <td>VALUE1</td>\n",
       "      <td>-89.0</td>\n",
       "    </tr>\n",
       "    <tr>\n",
       "      <th>1</th>\n",
       "      <td>ACW00011604</td>\n",
       "      <td>1961</td>\n",
       "      <td>VALUE2</td>\n",
       "      <td>236.0</td>\n",
       "    </tr>\n",
       "    <tr>\n",
       "      <th>2</th>\n",
       "      <td>ACW00011604</td>\n",
       "      <td>1961</td>\n",
       "      <td>VALUE3</td>\n",
       "      <td>472.0</td>\n",
       "    </tr>\n",
       "    <tr>\n",
       "      <th>3</th>\n",
       "      <td>ACW00011604</td>\n",
       "      <td>1961</td>\n",
       "      <td>VALUE4</td>\n",
       "      <td>773.0</td>\n",
       "    </tr>\n",
       "    <tr>\n",
       "      <th>4</th>\n",
       "      <td>ACW00011604</td>\n",
       "      <td>1961</td>\n",
       "      <td>VALUE5</td>\n",
       "      <td>1128.0</td>\n",
       "    </tr>\n",
       "    <tr>\n",
       "      <th>...</th>\n",
       "      <td>...</td>\n",
       "      <td>...</td>\n",
       "      <td>...</td>\n",
       "      <td>...</td>\n",
       "    </tr>\n",
       "    <tr>\n",
       "      <th>13992657</th>\n",
       "      <td>ZIXLT622116</td>\n",
       "      <td>1970</td>\n",
       "      <td>VALUE8</td>\n",
       "      <td>1540.0</td>\n",
       "    </tr>\n",
       "    <tr>\n",
       "      <th>13992658</th>\n",
       "      <td>ZIXLT622116</td>\n",
       "      <td>1970</td>\n",
       "      <td>VALUE9</td>\n",
       "      <td>2040.0</td>\n",
       "    </tr>\n",
       "    <tr>\n",
       "      <th>13992659</th>\n",
       "      <td>ZIXLT622116</td>\n",
       "      <td>1970</td>\n",
       "      <td>VALUE10</td>\n",
       "      <td>2030.0</td>\n",
       "    </tr>\n",
       "    <tr>\n",
       "      <th>13992660</th>\n",
       "      <td>ZIXLT622116</td>\n",
       "      <td>1970</td>\n",
       "      <td>VALUE11</td>\n",
       "      <td>2130.0</td>\n",
       "    </tr>\n",
       "    <tr>\n",
       "      <th>13992661</th>\n",
       "      <td>ZIXLT622116</td>\n",
       "      <td>1970</td>\n",
       "      <td>VALUE12</td>\n",
       "      <td>2150.0</td>\n",
       "    </tr>\n",
       "  </tbody>\n",
       "</table>\n",
       "<p>13992662 rows × 4 columns</p>\n",
       "</div>"
      ],
      "text/plain": [
       "                   ID  Year  level_2       0\n",
       "0         ACW00011604  1961   VALUE1   -89.0\n",
       "1         ACW00011604  1961   VALUE2   236.0\n",
       "2         ACW00011604  1961   VALUE3   472.0\n",
       "3         ACW00011604  1961   VALUE4   773.0\n",
       "4         ACW00011604  1961   VALUE5  1128.0\n",
       "...               ...   ...      ...     ...\n",
       "13992657  ZIXLT622116  1970   VALUE8  1540.0\n",
       "13992658  ZIXLT622116  1970   VALUE9  2040.0\n",
       "13992659  ZIXLT622116  1970  VALUE10  2030.0\n",
       "13992660  ZIXLT622116  1970  VALUE11  2130.0\n",
       "13992661  ZIXLT622116  1970  VALUE12  2150.0\n",
       "\n",
       "[13992662 rows x 4 columns]"
      ]
     },
     "execution_count": 15,
     "metadata": {},
     "output_type": "execute_result"
    }
   ],
   "source": [
    "temps= temps.reset_index()\n",
    "temps"
   ]
  },
  {
   "cell_type": "markdown",
   "id": "3207fdbb",
   "metadata": {},
   "source": [
    "Now it's time to relabel the ugly \"lebel_0\" and \"0\""
   ]
  },
  {
   "cell_type": "code",
   "execution_count": 16,
   "id": "0e26cc1c",
   "metadata": {},
   "outputs": [
    {
     "data": {
      "text/html": [
       "<div>\n",
       "<style scoped>\n",
       "    .dataframe tbody tr th:only-of-type {\n",
       "        vertical-align: middle;\n",
       "    }\n",
       "\n",
       "    .dataframe tbody tr th {\n",
       "        vertical-align: top;\n",
       "    }\n",
       "\n",
       "    .dataframe thead th {\n",
       "        text-align: right;\n",
       "    }\n",
       "</style>\n",
       "<table border=\"1\" class=\"dataframe\">\n",
       "  <thead>\n",
       "    <tr style=\"text-align: right;\">\n",
       "      <th></th>\n",
       "      <th>ID</th>\n",
       "      <th>Year</th>\n",
       "      <th>Month</th>\n",
       "      <th>temp</th>\n",
       "    </tr>\n",
       "  </thead>\n",
       "  <tbody>\n",
       "    <tr>\n",
       "      <th>0</th>\n",
       "      <td>ACW00011604</td>\n",
       "      <td>1961</td>\n",
       "      <td>VALUE1</td>\n",
       "      <td>-89.0</td>\n",
       "    </tr>\n",
       "    <tr>\n",
       "      <th>1</th>\n",
       "      <td>ACW00011604</td>\n",
       "      <td>1961</td>\n",
       "      <td>VALUE2</td>\n",
       "      <td>236.0</td>\n",
       "    </tr>\n",
       "    <tr>\n",
       "      <th>2</th>\n",
       "      <td>ACW00011604</td>\n",
       "      <td>1961</td>\n",
       "      <td>VALUE3</td>\n",
       "      <td>472.0</td>\n",
       "    </tr>\n",
       "    <tr>\n",
       "      <th>3</th>\n",
       "      <td>ACW00011604</td>\n",
       "      <td>1961</td>\n",
       "      <td>VALUE4</td>\n",
       "      <td>773.0</td>\n",
       "    </tr>\n",
       "    <tr>\n",
       "      <th>4</th>\n",
       "      <td>ACW00011604</td>\n",
       "      <td>1961</td>\n",
       "      <td>VALUE5</td>\n",
       "      <td>1128.0</td>\n",
       "    </tr>\n",
       "    <tr>\n",
       "      <th>...</th>\n",
       "      <td>...</td>\n",
       "      <td>...</td>\n",
       "      <td>...</td>\n",
       "      <td>...</td>\n",
       "    </tr>\n",
       "    <tr>\n",
       "      <th>13992657</th>\n",
       "      <td>ZIXLT622116</td>\n",
       "      <td>1970</td>\n",
       "      <td>VALUE8</td>\n",
       "      <td>1540.0</td>\n",
       "    </tr>\n",
       "    <tr>\n",
       "      <th>13992658</th>\n",
       "      <td>ZIXLT622116</td>\n",
       "      <td>1970</td>\n",
       "      <td>VALUE9</td>\n",
       "      <td>2040.0</td>\n",
       "    </tr>\n",
       "    <tr>\n",
       "      <th>13992659</th>\n",
       "      <td>ZIXLT622116</td>\n",
       "      <td>1970</td>\n",
       "      <td>VALUE10</td>\n",
       "      <td>2030.0</td>\n",
       "    </tr>\n",
       "    <tr>\n",
       "      <th>13992660</th>\n",
       "      <td>ZIXLT622116</td>\n",
       "      <td>1970</td>\n",
       "      <td>VALUE11</td>\n",
       "      <td>2130.0</td>\n",
       "    </tr>\n",
       "    <tr>\n",
       "      <th>13992661</th>\n",
       "      <td>ZIXLT622116</td>\n",
       "      <td>1970</td>\n",
       "      <td>VALUE12</td>\n",
       "      <td>2150.0</td>\n",
       "    </tr>\n",
       "  </tbody>\n",
       "</table>\n",
       "<p>13992662 rows × 4 columns</p>\n",
       "</div>"
      ],
      "text/plain": [
       "                   ID  Year    Month    temp\n",
       "0         ACW00011604  1961   VALUE1   -89.0\n",
       "1         ACW00011604  1961   VALUE2   236.0\n",
       "2         ACW00011604  1961   VALUE3   472.0\n",
       "3         ACW00011604  1961   VALUE4   773.0\n",
       "4         ACW00011604  1961   VALUE5  1128.0\n",
       "...               ...   ...      ...     ...\n",
       "13992657  ZIXLT622116  1970   VALUE8  1540.0\n",
       "13992658  ZIXLT622116  1970   VALUE9  2040.0\n",
       "13992659  ZIXLT622116  1970  VALUE10  2030.0\n",
       "13992660  ZIXLT622116  1970  VALUE11  2130.0\n",
       "13992661  ZIXLT622116  1970  VALUE12  2150.0\n",
       "\n",
       "[13992662 rows x 4 columns]"
      ]
     },
     "execution_count": 16,
     "metadata": {},
     "output_type": "execute_result"
    }
   ],
   "source": [
    "temps=temps.rename(columns={\"level_2\":\"Month\",0:\"temp\"})\n",
    "temps"
   ]
  },
  {
   "cell_type": "markdown",
   "id": "9ca89e29",
   "metadata": {},
   "source": [
    "It looks much better. And we need to replace value12345... by 123456, which is true month "
   ]
  },
  {
   "cell_type": "code",
   "execution_count": 17,
   "id": "1f71c921",
   "metadata": {},
   "outputs": [],
   "source": [
    "temps[\"Month\"] = temps[\"Month\"].str[5:].astype(int)"
   ]
  },
  {
   "cell_type": "code",
   "execution_count": 18,
   "id": "df457351",
   "metadata": {},
   "outputs": [
    {
     "data": {
      "text/html": [
       "<div>\n",
       "<style scoped>\n",
       "    .dataframe tbody tr th:only-of-type {\n",
       "        vertical-align: middle;\n",
       "    }\n",
       "\n",
       "    .dataframe tbody tr th {\n",
       "        vertical-align: top;\n",
       "    }\n",
       "\n",
       "    .dataframe thead th {\n",
       "        text-align: right;\n",
       "    }\n",
       "</style>\n",
       "<table border=\"1\" class=\"dataframe\">\n",
       "  <thead>\n",
       "    <tr style=\"text-align: right;\">\n",
       "      <th></th>\n",
       "      <th>ID</th>\n",
       "      <th>Year</th>\n",
       "      <th>Month</th>\n",
       "      <th>temp</th>\n",
       "    </tr>\n",
       "  </thead>\n",
       "  <tbody>\n",
       "    <tr>\n",
       "      <th>0</th>\n",
       "      <td>ACW00011604</td>\n",
       "      <td>1961</td>\n",
       "      <td>1</td>\n",
       "      <td>-89.0</td>\n",
       "    </tr>\n",
       "    <tr>\n",
       "      <th>1</th>\n",
       "      <td>ACW00011604</td>\n",
       "      <td>1961</td>\n",
       "      <td>2</td>\n",
       "      <td>236.0</td>\n",
       "    </tr>\n",
       "    <tr>\n",
       "      <th>2</th>\n",
       "      <td>ACW00011604</td>\n",
       "      <td>1961</td>\n",
       "      <td>3</td>\n",
       "      <td>472.0</td>\n",
       "    </tr>\n",
       "    <tr>\n",
       "      <th>3</th>\n",
       "      <td>ACW00011604</td>\n",
       "      <td>1961</td>\n",
       "      <td>4</td>\n",
       "      <td>773.0</td>\n",
       "    </tr>\n",
       "    <tr>\n",
       "      <th>4</th>\n",
       "      <td>ACW00011604</td>\n",
       "      <td>1961</td>\n",
       "      <td>5</td>\n",
       "      <td>1128.0</td>\n",
       "    </tr>\n",
       "    <tr>\n",
       "      <th>...</th>\n",
       "      <td>...</td>\n",
       "      <td>...</td>\n",
       "      <td>...</td>\n",
       "      <td>...</td>\n",
       "    </tr>\n",
       "    <tr>\n",
       "      <th>13992657</th>\n",
       "      <td>ZIXLT622116</td>\n",
       "      <td>1970</td>\n",
       "      <td>8</td>\n",
       "      <td>1540.0</td>\n",
       "    </tr>\n",
       "    <tr>\n",
       "      <th>13992658</th>\n",
       "      <td>ZIXLT622116</td>\n",
       "      <td>1970</td>\n",
       "      <td>9</td>\n",
       "      <td>2040.0</td>\n",
       "    </tr>\n",
       "    <tr>\n",
       "      <th>13992659</th>\n",
       "      <td>ZIXLT622116</td>\n",
       "      <td>1970</td>\n",
       "      <td>10</td>\n",
       "      <td>2030.0</td>\n",
       "    </tr>\n",
       "    <tr>\n",
       "      <th>13992660</th>\n",
       "      <td>ZIXLT622116</td>\n",
       "      <td>1970</td>\n",
       "      <td>11</td>\n",
       "      <td>2130.0</td>\n",
       "    </tr>\n",
       "    <tr>\n",
       "      <th>13992661</th>\n",
       "      <td>ZIXLT622116</td>\n",
       "      <td>1970</td>\n",
       "      <td>12</td>\n",
       "      <td>2150.0</td>\n",
       "    </tr>\n",
       "  </tbody>\n",
       "</table>\n",
       "<p>13992662 rows × 4 columns</p>\n",
       "</div>"
      ],
      "text/plain": [
       "                   ID  Year  Month    temp\n",
       "0         ACW00011604  1961      1   -89.0\n",
       "1         ACW00011604  1961      2   236.0\n",
       "2         ACW00011604  1961      3   472.0\n",
       "3         ACW00011604  1961      4   773.0\n",
       "4         ACW00011604  1961      5  1128.0\n",
       "...               ...   ...    ...     ...\n",
       "13992657  ZIXLT622116  1970      8  1540.0\n",
       "13992658  ZIXLT622116  1970      9  2040.0\n",
       "13992659  ZIXLT622116  1970     10  2030.0\n",
       "13992660  ZIXLT622116  1970     11  2130.0\n",
       "13992661  ZIXLT622116  1970     12  2150.0\n",
       "\n",
       "[13992662 rows x 4 columns]"
      ]
     },
     "execution_count": 18,
     "metadata": {},
     "output_type": "execute_result"
    }
   ],
   "source": [
    "temps"
   ]
  },
  {
   "cell_type": "markdown",
   "id": "33df2b8d",
   "metadata": {},
   "source": [
    "And we need to make our temp more familiar by divide 100"
   ]
  },
  {
   "cell_type": "code",
   "execution_count": 19,
   "id": "86dfcfe5",
   "metadata": {},
   "outputs": [
    {
     "data": {
      "text/html": [
       "<div>\n",
       "<style scoped>\n",
       "    .dataframe tbody tr th:only-of-type {\n",
       "        vertical-align: middle;\n",
       "    }\n",
       "\n",
       "    .dataframe tbody tr th {\n",
       "        vertical-align: top;\n",
       "    }\n",
       "\n",
       "    .dataframe thead th {\n",
       "        text-align: right;\n",
       "    }\n",
       "</style>\n",
       "<table border=\"1\" class=\"dataframe\">\n",
       "  <thead>\n",
       "    <tr style=\"text-align: right;\">\n",
       "      <th></th>\n",
       "      <th>ID</th>\n",
       "      <th>Year</th>\n",
       "      <th>Month</th>\n",
       "      <th>temp</th>\n",
       "    </tr>\n",
       "  </thead>\n",
       "  <tbody>\n",
       "    <tr>\n",
       "      <th>0</th>\n",
       "      <td>ACW00011604</td>\n",
       "      <td>1961</td>\n",
       "      <td>1</td>\n",
       "      <td>-0.89</td>\n",
       "    </tr>\n",
       "    <tr>\n",
       "      <th>1</th>\n",
       "      <td>ACW00011604</td>\n",
       "      <td>1961</td>\n",
       "      <td>2</td>\n",
       "      <td>2.36</td>\n",
       "    </tr>\n",
       "    <tr>\n",
       "      <th>2</th>\n",
       "      <td>ACW00011604</td>\n",
       "      <td>1961</td>\n",
       "      <td>3</td>\n",
       "      <td>4.72</td>\n",
       "    </tr>\n",
       "    <tr>\n",
       "      <th>3</th>\n",
       "      <td>ACW00011604</td>\n",
       "      <td>1961</td>\n",
       "      <td>4</td>\n",
       "      <td>7.73</td>\n",
       "    </tr>\n",
       "    <tr>\n",
       "      <th>4</th>\n",
       "      <td>ACW00011604</td>\n",
       "      <td>1961</td>\n",
       "      <td>5</td>\n",
       "      <td>11.28</td>\n",
       "    </tr>\n",
       "    <tr>\n",
       "      <th>...</th>\n",
       "      <td>...</td>\n",
       "      <td>...</td>\n",
       "      <td>...</td>\n",
       "      <td>...</td>\n",
       "    </tr>\n",
       "    <tr>\n",
       "      <th>13992657</th>\n",
       "      <td>ZIXLT622116</td>\n",
       "      <td>1970</td>\n",
       "      <td>8</td>\n",
       "      <td>15.40</td>\n",
       "    </tr>\n",
       "    <tr>\n",
       "      <th>13992658</th>\n",
       "      <td>ZIXLT622116</td>\n",
       "      <td>1970</td>\n",
       "      <td>9</td>\n",
       "      <td>20.40</td>\n",
       "    </tr>\n",
       "    <tr>\n",
       "      <th>13992659</th>\n",
       "      <td>ZIXLT622116</td>\n",
       "      <td>1970</td>\n",
       "      <td>10</td>\n",
       "      <td>20.30</td>\n",
       "    </tr>\n",
       "    <tr>\n",
       "      <th>13992660</th>\n",
       "      <td>ZIXLT622116</td>\n",
       "      <td>1970</td>\n",
       "      <td>11</td>\n",
       "      <td>21.30</td>\n",
       "    </tr>\n",
       "    <tr>\n",
       "      <th>13992661</th>\n",
       "      <td>ZIXLT622116</td>\n",
       "      <td>1970</td>\n",
       "      <td>12</td>\n",
       "      <td>21.50</td>\n",
       "    </tr>\n",
       "  </tbody>\n",
       "</table>\n",
       "<p>13992662 rows × 4 columns</p>\n",
       "</div>"
      ],
      "text/plain": [
       "                   ID  Year  Month   temp\n",
       "0         ACW00011604  1961      1  -0.89\n",
       "1         ACW00011604  1961      2   2.36\n",
       "2         ACW00011604  1961      3   4.72\n",
       "3         ACW00011604  1961      4   7.73\n",
       "4         ACW00011604  1961      5  11.28\n",
       "...               ...   ...    ...    ...\n",
       "13992657  ZIXLT622116  1970      8  15.40\n",
       "13992658  ZIXLT622116  1970      9  20.40\n",
       "13992659  ZIXLT622116  1970     10  20.30\n",
       "13992660  ZIXLT622116  1970     11  21.30\n",
       "13992661  ZIXLT622116  1970     12  21.50\n",
       "\n",
       "[13992662 rows x 4 columns]"
      ]
     },
     "execution_count": 19,
     "metadata": {},
     "output_type": "execute_result"
    }
   ],
   "source": [
    "temps[\"temp\"]  =temps[\"temp\"] / 100\n",
    "temps"
   ]
  },
  {
   "cell_type": "markdown",
   "id": "39335db4",
   "metadata": {},
   "source": [
    "Now we can import this table to our data base."
   ]
  },
  {
   "cell_type": "code",
   "execution_count": 20,
   "id": "cb104f10",
   "metadata": {},
   "outputs": [],
   "source": [
    "import sqlite3 \n",
    "# use module sqlite3 to help to create ,edit and query databases"
   ]
  },
  {
   "cell_type": "code",
   "execution_count": 21,
   "id": "ea20ccf2",
   "metadata": {},
   "outputs": [],
   "source": [
    "db=sqlite3.connect(\"climate-data.db\")\n",
    "#create an empty database called climate-data"
   ]
  },
  {
   "cell_type": "markdown",
   "id": "dc8f23b9",
   "metadata": {},
   "source": [
    "Use .to_sql() method to write this table in the database (db here).  \n",
    "About .to_sql, check https://pandas.pydata.org/pandas-docs/version/0.23/generated/pandas.DataFrame.to_sql.html"
   ]
  },
  {
   "cell_type": "code",
   "execution_count": 22,
   "id": "6ba4bcef",
   "metadata": {},
   "outputs": [],
   "source": [
    "temps.to_sql(\"temps\",db,if_exists=\"replace\",index=False)\n",
    "#Here we use if_exists=\"replace\" since we write the whole table at once"
   ]
  },
  {
   "cell_type": "markdown",
   "id": "dd815571",
   "metadata": {},
   "source": [
    "Now we should import stations and countries"
   ]
  },
  {
   "cell_type": "code",
   "execution_count": 23,
   "id": "650c524e",
   "metadata": {},
   "outputs": [
    {
     "data": {
      "text/html": [
       "<div>\n",
       "<style scoped>\n",
       "    .dataframe tbody tr th:only-of-type {\n",
       "        vertical-align: middle;\n",
       "    }\n",
       "\n",
       "    .dataframe tbody tr th {\n",
       "        vertical-align: top;\n",
       "    }\n",
       "\n",
       "    .dataframe thead th {\n",
       "        text-align: right;\n",
       "    }\n",
       "</style>\n",
       "<table border=\"1\" class=\"dataframe\">\n",
       "  <thead>\n",
       "    <tr style=\"text-align: right;\">\n",
       "      <th></th>\n",
       "      <th>ID</th>\n",
       "      <th>LATITUDE</th>\n",
       "      <th>LONGITUDE</th>\n",
       "      <th>STNELEV</th>\n",
       "      <th>NAME</th>\n",
       "    </tr>\n",
       "  </thead>\n",
       "  <tbody>\n",
       "    <tr>\n",
       "      <th>0</th>\n",
       "      <td>ACW00011604</td>\n",
       "      <td>57.7667</td>\n",
       "      <td>11.8667</td>\n",
       "      <td>18.0</td>\n",
       "      <td>SAVE</td>\n",
       "    </tr>\n",
       "    <tr>\n",
       "      <th>1</th>\n",
       "      <td>AE000041196</td>\n",
       "      <td>25.3330</td>\n",
       "      <td>55.5170</td>\n",
       "      <td>34.0</td>\n",
       "      <td>SHARJAH_INTER_AIRP</td>\n",
       "    </tr>\n",
       "    <tr>\n",
       "      <th>2</th>\n",
       "      <td>AEM00041184</td>\n",
       "      <td>25.6170</td>\n",
       "      <td>55.9330</td>\n",
       "      <td>31.0</td>\n",
       "      <td>RAS_AL_KHAIMAH_INTE</td>\n",
       "    </tr>\n",
       "    <tr>\n",
       "      <th>3</th>\n",
       "      <td>AEM00041194</td>\n",
       "      <td>25.2550</td>\n",
       "      <td>55.3640</td>\n",
       "      <td>10.4</td>\n",
       "      <td>DUBAI_INTL</td>\n",
       "    </tr>\n",
       "    <tr>\n",
       "      <th>4</th>\n",
       "      <td>AEM00041216</td>\n",
       "      <td>24.4300</td>\n",
       "      <td>54.4700</td>\n",
       "      <td>3.0</td>\n",
       "      <td>ABU_DHABI_BATEEN_AIR</td>\n",
       "    </tr>\n",
       "  </tbody>\n",
       "</table>\n",
       "</div>"
      ],
      "text/plain": [
       "            ID  LATITUDE  LONGITUDE  STNELEV                  NAME\n",
       "0  ACW00011604   57.7667    11.8667     18.0                  SAVE\n",
       "1  AE000041196   25.3330    55.5170     34.0    SHARJAH_INTER_AIRP\n",
       "2  AEM00041184   25.6170    55.9330     31.0   RAS_AL_KHAIMAH_INTE\n",
       "3  AEM00041194   25.2550    55.3640     10.4            DUBAI_INTL\n",
       "4  AEM00041216   24.4300    54.4700      3.0  ABU_DHABI_BATEEN_AIR"
      ]
     },
     "execution_count": 23,
     "metadata": {},
     "output_type": "execute_result"
    }
   ],
   "source": [
    "url = \"https://raw.githubusercontent.com/PhilChodrow/PIC16B/master/datasets/noaa-ghcn/station-metadata.csv\"\n",
    "stations = pd.read_csv(url)\n",
    "stations.head(5)"
   ]
  },
  {
   "cell_type": "markdown",
   "id": "9aea0eaa",
   "metadata": {},
   "source": [
    "The data here is good enough to use, next we just write it into our database"
   ]
  },
  {
   "cell_type": "code",
   "execution_count": 24,
   "id": "2c10f1cf",
   "metadata": {},
   "outputs": [],
   "source": [
    "stations.to_sql(\"stations\", db, if_exists = \"replace\", index = False)"
   ]
  },
  {
   "cell_type": "markdown",
   "id": "37cc85bb",
   "metadata": {},
   "source": [
    "Import countries, same as above."
   ]
  },
  {
   "cell_type": "code",
   "execution_count": 25,
   "id": "dd3de722",
   "metadata": {},
   "outputs": [
    {
     "data": {
      "text/html": [
       "<div>\n",
       "<style scoped>\n",
       "    .dataframe tbody tr th:only-of-type {\n",
       "        vertical-align: middle;\n",
       "    }\n",
       "\n",
       "    .dataframe tbody tr th {\n",
       "        vertical-align: top;\n",
       "    }\n",
       "\n",
       "    .dataframe thead th {\n",
       "        text-align: right;\n",
       "    }\n",
       "</style>\n",
       "<table border=\"1\" class=\"dataframe\">\n",
       "  <thead>\n",
       "    <tr style=\"text-align: right;\">\n",
       "      <th></th>\n",
       "      <th>FIPS 10-4</th>\n",
       "      <th>ISO 3166</th>\n",
       "      <th>Name</th>\n",
       "    </tr>\n",
       "  </thead>\n",
       "  <tbody>\n",
       "    <tr>\n",
       "      <th>0</th>\n",
       "      <td>AF</td>\n",
       "      <td>AF</td>\n",
       "      <td>Afghanistan</td>\n",
       "    </tr>\n",
       "    <tr>\n",
       "      <th>1</th>\n",
       "      <td>AX</td>\n",
       "      <td>-</td>\n",
       "      <td>Akrotiri</td>\n",
       "    </tr>\n",
       "    <tr>\n",
       "      <th>2</th>\n",
       "      <td>AL</td>\n",
       "      <td>AL</td>\n",
       "      <td>Albania</td>\n",
       "    </tr>\n",
       "    <tr>\n",
       "      <th>3</th>\n",
       "      <td>AG</td>\n",
       "      <td>DZ</td>\n",
       "      <td>Algeria</td>\n",
       "    </tr>\n",
       "    <tr>\n",
       "      <th>4</th>\n",
       "      <td>AQ</td>\n",
       "      <td>AS</td>\n",
       "      <td>American Samoa</td>\n",
       "    </tr>\n",
       "  </tbody>\n",
       "</table>\n",
       "</div>"
      ],
      "text/plain": [
       "  FIPS 10-4 ISO 3166            Name\n",
       "0        AF       AF     Afghanistan\n",
       "1        AX        -        Akrotiri\n",
       "2        AL       AL         Albania\n",
       "3        AG       DZ         Algeria\n",
       "4        AQ       AS  American Samoa"
      ]
     },
     "execution_count": 25,
     "metadata": {},
     "output_type": "execute_result"
    }
   ],
   "source": [
    "countries_url = \"https://raw.githubusercontent.com/mysociety/gaze/master/data/fips-10-4-to-iso-country-codes.csv\"\n",
    "countries = pd.read_csv(countries_url)\n",
    "countries.head(5)"
   ]
  },
  {
   "cell_type": "code",
   "execution_count": 26,
   "id": "5862adbe",
   "metadata": {},
   "outputs": [
    {
     "name": "stderr",
     "output_type": "stream",
     "text": [
      "H:\\conda\\lib\\site-packages\\pandas\\core\\generic.py:2779: UserWarning: The spaces in these column names will not be changed. In pandas versions < 0.14, spaces were converted to underscores.\n",
      "  sql.to_sql(\n"
     ]
    }
   ],
   "source": [
    "countries.to_sql(\"country\", db, if_exists = \"replace\", index = False)"
   ]
  },
  {
   "cell_type": "markdown",
   "id": "8acea3e5",
   "metadata": {},
   "source": [
    "Now the first part is done, lets check what our database looks like."
   ]
  },
  {
   "cell_type": "code",
   "execution_count": 27,
   "id": "d93a77b0",
   "metadata": {},
   "outputs": [
    {
     "name": "stdout",
     "output_type": "stream",
     "text": [
      "CREATE TABLE \"temps\" (\n",
      "\"ID\" TEXT,\n",
      "  \"Year\" INTEGER,\n",
      "  \"Month\" INTEGER,\n",
      "  \"temp\" REAL\n",
      ")\n",
      "CREATE TABLE \"stations\" (\n",
      "\"ID\" TEXT,\n",
      "  \"LATITUDE\" REAL,\n",
      "  \"LONGITUDE\" REAL,\n",
      "  \"STNELEV\" REAL,\n",
      "  \"NAME\" TEXT\n",
      ")\n",
      "CREATE TABLE \"country\" (\n",
      "\"FIPS 10-4\" TEXT,\n",
      "  \"ISO 3166\" TEXT,\n",
      "  \"Name\" TEXT\n",
      ")\n"
     ]
    }
   ],
   "source": [
    "cursor = db.cursor()# cursor is used to interact woth the database and \n",
    "#will execute SQL commands.\n",
    "cursor.execute(\"SELECT sql FROM sqlite_master WHERE type='table';\")\n",
    "for result in cursor.fetchall():\n",
    "    print(result[0])"
   ]
  },
  {
   "cell_type": "markdown",
   "id": "3d80b87d",
   "metadata": {},
   "source": [
    "After finishing construsting our database. It's needed to close the connection."
   ]
  },
  {
   "cell_type": "code",
   "execution_count": 28,
   "id": "0f80b07e",
   "metadata": {},
   "outputs": [],
   "source": [
    "db.close()"
   ]
  },
  {
   "cell_type": "markdown",
   "id": "59c7d02b",
   "metadata": {},
   "source": [
    "## II. Query Function"
   ]
  },
  {
   "cell_type": "markdown",
   "id": "d48cd3c3",
   "metadata": {},
   "source": [
    "We could build a function that make it much easier to query some data we need, instead of using complex SQL commands each time."
   ]
  },
  {
   "cell_type": "markdown",
   "id": "239c10ad",
   "metadata": {},
   "source": [
    "The function accept 4 arguments as inputs (Country, year_begin, year_end, month)  \n",
    "And should return a Pandas dataframe contains as follows:  \n",
    "###### The station name.  \n",
    "###### The latitude of the station.  \n",
    "###### The longitude of the station.  \n",
    "###### The name of the country in which the station is located.  \n",
    "###### The year in which the reading was taken.  \n",
    "###### The month in which the reading was taken.  \n",
    "###### The average temperature at the specified station during the specified year and month.   "
   ]
  },
  {
   "cell_type": "markdown",
   "id": "78ed8fba",
   "metadata": {},
   "source": [
    "Let's try how we should get our ideal results in an example that input is country = \"India\", \n",
    "                       year_begin = 1980, \n",
    "                       year_end = 2020,\n",
    "                       month = 1"
   ]
  },
  {
   "cell_type": "code",
   "execution_count": 53,
   "id": "719dc7fc",
   "metadata": {},
   "outputs": [
    {
     "data": {
      "text/plain": [
       "'IN'"
      ]
     },
     "execution_count": 53,
     "metadata": {},
     "output_type": "execute_result"
    }
   ],
   "source": [
    "db=sqlite3.connect(\"climate-data.db\") \n",
    "# First we need connect the database\n",
    "cursor = db.cursor()\n",
    "cmd = \\\n",
    "\"\"\"\n",
    "SELECT \"FIPS 10-4\" FROM country where Name = \"India\";\n",
    "\"\"\"\n",
    "#quary what FIP 10-4 code is for India\n",
    "cursor.execute(cmd)\n",
    "result=cursor.fetchone()\n",
    "result[0]\n"
   ]
  },
  {
   "cell_type": "markdown",
   "id": "21bee966",
   "metadata": {},
   "source": [
    "Next we should query the specific data from table temps and stations with condtions."
   ]
  },
  {
   "cell_type": "code",
   "execution_count": 77,
   "id": "14b53839",
   "metadata": {},
   "outputs": [],
   "source": [
    "cmd = \\\n",
    "\"\"\"\n",
    "SELECT S.name,S.LATITUDE,S.LONGITUDE,T.year, T.month, T.temp\n",
    "FROM temps T\n",
    "LEFT JOIN stations S ON T.id = S.id\n",
    "WHERE S.id LIKE 'IN%' AND T.year >=1980 AND T.year<=2020 AND T.month=1\n",
    "\"\"\"\n",
    "#Here we use LIKE operator in the WHERE sentance, it will match the pattern \n",
    "#that S.id begins with IN, which is the FIPS code of India"
   ]
  },
  {
   "cell_type": "markdown",
   "id": "a0467bdb",
   "metadata": {},
   "source": [
    "And we use .read_sql_query() to read the result in pandas"
   ]
  },
  {
   "cell_type": "code",
   "execution_count": 78,
   "id": "6cf72120",
   "metadata": {},
   "outputs": [],
   "source": [
    "result=pd.read_sql_query(cmd, db)"
   ]
  },
  {
   "cell_type": "code",
   "execution_count": 79,
   "id": "c85547fb",
   "metadata": {},
   "outputs": [
    {
     "data": {
      "text/html": [
       "<div>\n",
       "<style scoped>\n",
       "    .dataframe tbody tr th:only-of-type {\n",
       "        vertical-align: middle;\n",
       "    }\n",
       "\n",
       "    .dataframe tbody tr th {\n",
       "        vertical-align: top;\n",
       "    }\n",
       "\n",
       "    .dataframe thead th {\n",
       "        text-align: right;\n",
       "    }\n",
       "</style>\n",
       "<table border=\"1\" class=\"dataframe\">\n",
       "  <thead>\n",
       "    <tr style=\"text-align: right;\">\n",
       "      <th></th>\n",
       "      <th>NAME</th>\n",
       "      <th>LATITUDE</th>\n",
       "      <th>LONGITUDE</th>\n",
       "      <th>Year</th>\n",
       "      <th>Month</th>\n",
       "      <th>temp</th>\n",
       "    </tr>\n",
       "  </thead>\n",
       "  <tbody>\n",
       "    <tr>\n",
       "      <th>0</th>\n",
       "      <td>PBO_ANANTAPUR</td>\n",
       "      <td>14.583</td>\n",
       "      <td>77.633</td>\n",
       "      <td>1980</td>\n",
       "      <td>1</td>\n",
       "      <td>23.48</td>\n",
       "    </tr>\n",
       "    <tr>\n",
       "      <th>1</th>\n",
       "      <td>PBO_ANANTAPUR</td>\n",
       "      <td>14.583</td>\n",
       "      <td>77.633</td>\n",
       "      <td>1981</td>\n",
       "      <td>1</td>\n",
       "      <td>24.57</td>\n",
       "    </tr>\n",
       "    <tr>\n",
       "      <th>2</th>\n",
       "      <td>PBO_ANANTAPUR</td>\n",
       "      <td>14.583</td>\n",
       "      <td>77.633</td>\n",
       "      <td>1982</td>\n",
       "      <td>1</td>\n",
       "      <td>24.19</td>\n",
       "    </tr>\n",
       "    <tr>\n",
       "      <th>3</th>\n",
       "      <td>PBO_ANANTAPUR</td>\n",
       "      <td>14.583</td>\n",
       "      <td>77.633</td>\n",
       "      <td>1983</td>\n",
       "      <td>1</td>\n",
       "      <td>23.51</td>\n",
       "    </tr>\n",
       "    <tr>\n",
       "      <th>4</th>\n",
       "      <td>PBO_ANANTAPUR</td>\n",
       "      <td>14.583</td>\n",
       "      <td>77.633</td>\n",
       "      <td>1984</td>\n",
       "      <td>1</td>\n",
       "      <td>24.81</td>\n",
       "    </tr>\n",
       "    <tr>\n",
       "      <th>...</th>\n",
       "      <td>...</td>\n",
       "      <td>...</td>\n",
       "      <td>...</td>\n",
       "      <td>...</td>\n",
       "      <td>...</td>\n",
       "      <td>...</td>\n",
       "    </tr>\n",
       "    <tr>\n",
       "      <th>3147</th>\n",
       "      <td>DARJEELING</td>\n",
       "      <td>27.050</td>\n",
       "      <td>88.270</td>\n",
       "      <td>1983</td>\n",
       "      <td>1</td>\n",
       "      <td>5.10</td>\n",
       "    </tr>\n",
       "    <tr>\n",
       "      <th>3148</th>\n",
       "      <td>DARJEELING</td>\n",
       "      <td>27.050</td>\n",
       "      <td>88.270</td>\n",
       "      <td>1986</td>\n",
       "      <td>1</td>\n",
       "      <td>6.90</td>\n",
       "    </tr>\n",
       "    <tr>\n",
       "      <th>3149</th>\n",
       "      <td>DARJEELING</td>\n",
       "      <td>27.050</td>\n",
       "      <td>88.270</td>\n",
       "      <td>1994</td>\n",
       "      <td>1</td>\n",
       "      <td>8.10</td>\n",
       "    </tr>\n",
       "    <tr>\n",
       "      <th>3150</th>\n",
       "      <td>DARJEELING</td>\n",
       "      <td>27.050</td>\n",
       "      <td>88.270</td>\n",
       "      <td>1995</td>\n",
       "      <td>1</td>\n",
       "      <td>5.60</td>\n",
       "    </tr>\n",
       "    <tr>\n",
       "      <th>3151</th>\n",
       "      <td>DARJEELING</td>\n",
       "      <td>27.050</td>\n",
       "      <td>88.270</td>\n",
       "      <td>1997</td>\n",
       "      <td>1</td>\n",
       "      <td>5.70</td>\n",
       "    </tr>\n",
       "  </tbody>\n",
       "</table>\n",
       "<p>3152 rows × 6 columns</p>\n",
       "</div>"
      ],
      "text/plain": [
       "               NAME  LATITUDE  LONGITUDE  Year  Month   temp\n",
       "0     PBO_ANANTAPUR    14.583     77.633  1980      1  23.48\n",
       "1     PBO_ANANTAPUR    14.583     77.633  1981      1  24.57\n",
       "2     PBO_ANANTAPUR    14.583     77.633  1982      1  24.19\n",
       "3     PBO_ANANTAPUR    14.583     77.633  1983      1  23.51\n",
       "4     PBO_ANANTAPUR    14.583     77.633  1984      1  24.81\n",
       "...             ...       ...        ...   ...    ...    ...\n",
       "3147     DARJEELING    27.050     88.270  1983      1   5.10\n",
       "3148     DARJEELING    27.050     88.270  1986      1   6.90\n",
       "3149     DARJEELING    27.050     88.270  1994      1   8.10\n",
       "3150     DARJEELING    27.050     88.270  1995      1   5.60\n",
       "3151     DARJEELING    27.050     88.270  1997      1   5.70\n",
       "\n",
       "[3152 rows x 6 columns]"
      ]
     },
     "execution_count": 79,
     "metadata": {},
     "output_type": "execute_result"
    }
   ],
   "source": [
    "result\n",
    "db.close()\n",
    "# Always close the connection when we finish."
   ]
  },
  {
   "cell_type": "markdown",
   "id": "a59befd0",
   "metadata": {},
   "source": [
    "Here we missed one column \"Country\", we could add it manually."
   ]
  },
  {
   "cell_type": "code",
   "execution_count": 81,
   "id": "f4287c38",
   "metadata": {},
   "outputs": [],
   "source": [
    "result.insert(3,'Country',\"India\")"
   ]
  },
  {
   "cell_type": "code",
   "execution_count": 82,
   "id": "68fd1be6",
   "metadata": {},
   "outputs": [
    {
     "data": {
      "text/html": [
       "<div>\n",
       "<style scoped>\n",
       "    .dataframe tbody tr th:only-of-type {\n",
       "        vertical-align: middle;\n",
       "    }\n",
       "\n",
       "    .dataframe tbody tr th {\n",
       "        vertical-align: top;\n",
       "    }\n",
       "\n",
       "    .dataframe thead th {\n",
       "        text-align: right;\n",
       "    }\n",
       "</style>\n",
       "<table border=\"1\" class=\"dataframe\">\n",
       "  <thead>\n",
       "    <tr style=\"text-align: right;\">\n",
       "      <th></th>\n",
       "      <th>NAME</th>\n",
       "      <th>LATITUDE</th>\n",
       "      <th>LONGITUDE</th>\n",
       "      <th>Country</th>\n",
       "      <th>Year</th>\n",
       "      <th>Month</th>\n",
       "      <th>temp</th>\n",
       "    </tr>\n",
       "  </thead>\n",
       "  <tbody>\n",
       "    <tr>\n",
       "      <th>0</th>\n",
       "      <td>PBO_ANANTAPUR</td>\n",
       "      <td>14.583</td>\n",
       "      <td>77.633</td>\n",
       "      <td>India</td>\n",
       "      <td>1980</td>\n",
       "      <td>1</td>\n",
       "      <td>23.48</td>\n",
       "    </tr>\n",
       "    <tr>\n",
       "      <th>1</th>\n",
       "      <td>PBO_ANANTAPUR</td>\n",
       "      <td>14.583</td>\n",
       "      <td>77.633</td>\n",
       "      <td>India</td>\n",
       "      <td>1981</td>\n",
       "      <td>1</td>\n",
       "      <td>24.57</td>\n",
       "    </tr>\n",
       "    <tr>\n",
       "      <th>2</th>\n",
       "      <td>PBO_ANANTAPUR</td>\n",
       "      <td>14.583</td>\n",
       "      <td>77.633</td>\n",
       "      <td>India</td>\n",
       "      <td>1982</td>\n",
       "      <td>1</td>\n",
       "      <td>24.19</td>\n",
       "    </tr>\n",
       "    <tr>\n",
       "      <th>3</th>\n",
       "      <td>PBO_ANANTAPUR</td>\n",
       "      <td>14.583</td>\n",
       "      <td>77.633</td>\n",
       "      <td>India</td>\n",
       "      <td>1983</td>\n",
       "      <td>1</td>\n",
       "      <td>23.51</td>\n",
       "    </tr>\n",
       "    <tr>\n",
       "      <th>4</th>\n",
       "      <td>PBO_ANANTAPUR</td>\n",
       "      <td>14.583</td>\n",
       "      <td>77.633</td>\n",
       "      <td>India</td>\n",
       "      <td>1984</td>\n",
       "      <td>1</td>\n",
       "      <td>24.81</td>\n",
       "    </tr>\n",
       "    <tr>\n",
       "      <th>...</th>\n",
       "      <td>...</td>\n",
       "      <td>...</td>\n",
       "      <td>...</td>\n",
       "      <td>...</td>\n",
       "      <td>...</td>\n",
       "      <td>...</td>\n",
       "      <td>...</td>\n",
       "    </tr>\n",
       "    <tr>\n",
       "      <th>3147</th>\n",
       "      <td>DARJEELING</td>\n",
       "      <td>27.050</td>\n",
       "      <td>88.270</td>\n",
       "      <td>India</td>\n",
       "      <td>1983</td>\n",
       "      <td>1</td>\n",
       "      <td>5.10</td>\n",
       "    </tr>\n",
       "    <tr>\n",
       "      <th>3148</th>\n",
       "      <td>DARJEELING</td>\n",
       "      <td>27.050</td>\n",
       "      <td>88.270</td>\n",
       "      <td>India</td>\n",
       "      <td>1986</td>\n",
       "      <td>1</td>\n",
       "      <td>6.90</td>\n",
       "    </tr>\n",
       "    <tr>\n",
       "      <th>3149</th>\n",
       "      <td>DARJEELING</td>\n",
       "      <td>27.050</td>\n",
       "      <td>88.270</td>\n",
       "      <td>India</td>\n",
       "      <td>1994</td>\n",
       "      <td>1</td>\n",
       "      <td>8.10</td>\n",
       "    </tr>\n",
       "    <tr>\n",
       "      <th>3150</th>\n",
       "      <td>DARJEELING</td>\n",
       "      <td>27.050</td>\n",
       "      <td>88.270</td>\n",
       "      <td>India</td>\n",
       "      <td>1995</td>\n",
       "      <td>1</td>\n",
       "      <td>5.60</td>\n",
       "    </tr>\n",
       "    <tr>\n",
       "      <th>3151</th>\n",
       "      <td>DARJEELING</td>\n",
       "      <td>27.050</td>\n",
       "      <td>88.270</td>\n",
       "      <td>India</td>\n",
       "      <td>1997</td>\n",
       "      <td>1</td>\n",
       "      <td>5.70</td>\n",
       "    </tr>\n",
       "  </tbody>\n",
       "</table>\n",
       "<p>3152 rows × 7 columns</p>\n",
       "</div>"
      ],
      "text/plain": [
       "               NAME  LATITUDE  LONGITUDE Country  Year  Month   temp\n",
       "0     PBO_ANANTAPUR    14.583     77.633   India  1980      1  23.48\n",
       "1     PBO_ANANTAPUR    14.583     77.633   India  1981      1  24.57\n",
       "2     PBO_ANANTAPUR    14.583     77.633   India  1982      1  24.19\n",
       "3     PBO_ANANTAPUR    14.583     77.633   India  1983      1  23.51\n",
       "4     PBO_ANANTAPUR    14.583     77.633   India  1984      1  24.81\n",
       "...             ...       ...        ...     ...   ...    ...    ...\n",
       "3147     DARJEELING    27.050     88.270   India  1983      1   5.10\n",
       "3148     DARJEELING    27.050     88.270   India  1986      1   6.90\n",
       "3149     DARJEELING    27.050     88.270   India  1994      1   8.10\n",
       "3150     DARJEELING    27.050     88.270   India  1995      1   5.60\n",
       "3151     DARJEELING    27.050     88.270   India  1997      1   5.70\n",
       "\n",
       "[3152 rows x 7 columns]"
      ]
     },
     "execution_count": 82,
     "metadata": {},
     "output_type": "execute_result"
    }
   ],
   "source": [
    "result"
   ]
  },
  {
   "cell_type": "markdown",
   "id": "cd2b3ec8",
   "metadata": {},
   "source": [
    "Now this is what we want, writing the related function should be easy."
   ]
  },
  {
   "cell_type": "code",
   "execution_count": 107,
   "id": "fe70e410",
   "metadata": {},
   "outputs": [],
   "source": [
    "def query_climate_database(country,year_begin,year_end,month):\n",
    "    db=sqlite3.connect(\"climate-data.db\")\n",
    "    cursor = db.cursor()\n",
    "    country_check=\\\n",
    "    f\"\"\"SELECT \"FIPS 10-4\" FROM country where Name =\"{country}\" \"\"\"\n",
    "    cursor.execute(country_check)\n",
    "    result=cursor.fetchone()\n",
    "    country_code=result[0]\n",
    "    main_query= \\\n",
    "    f\"\"\"\n",
    "    SELECT S.name,S.LATITUDE,S.LONGITUDE,T.year, T.month, T.temp\n",
    "    FROM temps T\n",
    "    LEFT JOIN stations S ON T.id = S.id\n",
    "    WHERE S.id LIKE '{country_code}%' AND T.year >={year_begin} AND T.year<={year_end} AND T.month={month}\n",
    "    \"\"\"\n",
    "    result=pd.read_sql_query(main_query, db)\n",
    "    result.insert(3,'Country',country)\n",
    "    db.close()\n",
    "    return result"
   ]
  },
  {
   "cell_type": "markdown",
   "id": "66c7c1cd",
   "metadata": {},
   "source": [
    "Done! We can try the same input to see if we can get the same output above"
   ]
  },
  {
   "cell_type": "code",
   "execution_count": 108,
   "id": "8ce85f39",
   "metadata": {},
   "outputs": [
    {
     "data": {
      "text/html": [
       "<div>\n",
       "<style scoped>\n",
       "    .dataframe tbody tr th:only-of-type {\n",
       "        vertical-align: middle;\n",
       "    }\n",
       "\n",
       "    .dataframe tbody tr th {\n",
       "        vertical-align: top;\n",
       "    }\n",
       "\n",
       "    .dataframe thead th {\n",
       "        text-align: right;\n",
       "    }\n",
       "</style>\n",
       "<table border=\"1\" class=\"dataframe\">\n",
       "  <thead>\n",
       "    <tr style=\"text-align: right;\">\n",
       "      <th></th>\n",
       "      <th>NAME</th>\n",
       "      <th>LATITUDE</th>\n",
       "      <th>LONGITUDE</th>\n",
       "      <th>Country</th>\n",
       "      <th>Year</th>\n",
       "      <th>Month</th>\n",
       "      <th>temp</th>\n",
       "    </tr>\n",
       "  </thead>\n",
       "  <tbody>\n",
       "    <tr>\n",
       "      <th>0</th>\n",
       "      <td>PBO_ANANTAPUR</td>\n",
       "      <td>14.583</td>\n",
       "      <td>77.633</td>\n",
       "      <td>India</td>\n",
       "      <td>1980</td>\n",
       "      <td>1</td>\n",
       "      <td>23.48</td>\n",
       "    </tr>\n",
       "    <tr>\n",
       "      <th>1</th>\n",
       "      <td>PBO_ANANTAPUR</td>\n",
       "      <td>14.583</td>\n",
       "      <td>77.633</td>\n",
       "      <td>India</td>\n",
       "      <td>1981</td>\n",
       "      <td>1</td>\n",
       "      <td>24.57</td>\n",
       "    </tr>\n",
       "    <tr>\n",
       "      <th>2</th>\n",
       "      <td>PBO_ANANTAPUR</td>\n",
       "      <td>14.583</td>\n",
       "      <td>77.633</td>\n",
       "      <td>India</td>\n",
       "      <td>1982</td>\n",
       "      <td>1</td>\n",
       "      <td>24.19</td>\n",
       "    </tr>\n",
       "    <tr>\n",
       "      <th>3</th>\n",
       "      <td>PBO_ANANTAPUR</td>\n",
       "      <td>14.583</td>\n",
       "      <td>77.633</td>\n",
       "      <td>India</td>\n",
       "      <td>1983</td>\n",
       "      <td>1</td>\n",
       "      <td>23.51</td>\n",
       "    </tr>\n",
       "    <tr>\n",
       "      <th>4</th>\n",
       "      <td>PBO_ANANTAPUR</td>\n",
       "      <td>14.583</td>\n",
       "      <td>77.633</td>\n",
       "      <td>India</td>\n",
       "      <td>1984</td>\n",
       "      <td>1</td>\n",
       "      <td>24.81</td>\n",
       "    </tr>\n",
       "    <tr>\n",
       "      <th>...</th>\n",
       "      <td>...</td>\n",
       "      <td>...</td>\n",
       "      <td>...</td>\n",
       "      <td>...</td>\n",
       "      <td>...</td>\n",
       "      <td>...</td>\n",
       "      <td>...</td>\n",
       "    </tr>\n",
       "    <tr>\n",
       "      <th>3147</th>\n",
       "      <td>DARJEELING</td>\n",
       "      <td>27.050</td>\n",
       "      <td>88.270</td>\n",
       "      <td>India</td>\n",
       "      <td>1983</td>\n",
       "      <td>1</td>\n",
       "      <td>5.10</td>\n",
       "    </tr>\n",
       "    <tr>\n",
       "      <th>3148</th>\n",
       "      <td>DARJEELING</td>\n",
       "      <td>27.050</td>\n",
       "      <td>88.270</td>\n",
       "      <td>India</td>\n",
       "      <td>1986</td>\n",
       "      <td>1</td>\n",
       "      <td>6.90</td>\n",
       "    </tr>\n",
       "    <tr>\n",
       "      <th>3149</th>\n",
       "      <td>DARJEELING</td>\n",
       "      <td>27.050</td>\n",
       "      <td>88.270</td>\n",
       "      <td>India</td>\n",
       "      <td>1994</td>\n",
       "      <td>1</td>\n",
       "      <td>8.10</td>\n",
       "    </tr>\n",
       "    <tr>\n",
       "      <th>3150</th>\n",
       "      <td>DARJEELING</td>\n",
       "      <td>27.050</td>\n",
       "      <td>88.270</td>\n",
       "      <td>India</td>\n",
       "      <td>1995</td>\n",
       "      <td>1</td>\n",
       "      <td>5.60</td>\n",
       "    </tr>\n",
       "    <tr>\n",
       "      <th>3151</th>\n",
       "      <td>DARJEELING</td>\n",
       "      <td>27.050</td>\n",
       "      <td>88.270</td>\n",
       "      <td>India</td>\n",
       "      <td>1997</td>\n",
       "      <td>1</td>\n",
       "      <td>5.70</td>\n",
       "    </tr>\n",
       "  </tbody>\n",
       "</table>\n",
       "<p>3152 rows × 7 columns</p>\n",
       "</div>"
      ],
      "text/plain": [
       "               NAME  LATITUDE  LONGITUDE Country  Year  Month   temp\n",
       "0     PBO_ANANTAPUR    14.583     77.633   India  1980      1  23.48\n",
       "1     PBO_ANANTAPUR    14.583     77.633   India  1981      1  24.57\n",
       "2     PBO_ANANTAPUR    14.583     77.633   India  1982      1  24.19\n",
       "3     PBO_ANANTAPUR    14.583     77.633   India  1983      1  23.51\n",
       "4     PBO_ANANTAPUR    14.583     77.633   India  1984      1  24.81\n",
       "...             ...       ...        ...     ...   ...    ...    ...\n",
       "3147     DARJEELING    27.050     88.270   India  1983      1   5.10\n",
       "3148     DARJEELING    27.050     88.270   India  1986      1   6.90\n",
       "3149     DARJEELING    27.050     88.270   India  1994      1   8.10\n",
       "3150     DARJEELING    27.050     88.270   India  1995      1   5.60\n",
       "3151     DARJEELING    27.050     88.270   India  1997      1   5.70\n",
       "\n",
       "[3152 rows x 7 columns]"
      ]
     },
     "execution_count": 108,
     "metadata": {},
     "output_type": "execute_result"
    }
   ],
   "source": [
    "query_climate_database(country = \"India\", \n",
    "                       year_begin = 1980, \n",
    "                       year_end = 2020,\n",
    "                       month = 1)"
   ]
  },
  {
   "cell_type": "markdown",
   "id": "016c65bb",
   "metadata": {},
   "source": [
    "## Data Visualization"
   ]
  },
  {
   "cell_type": "markdown",
   "id": "b2d74282",
   "metadata": {},
   "source": [
    "First we need to import a package plotly"
   ]
  },
  {
   "cell_type": "code",
   "execution_count": 109,
   "id": "5d5c2b2a",
   "metadata": {},
   "outputs": [],
   "source": [
    "from plotly import express as px"
   ]
  },
  {
   "cell_type": "markdown",
   "id": "3131278b",
   "metadata": {},
   "source": [
    "Again first try to figure it out without function. We can use query_climate_database() we write above to find data required"
   ]
  },
  {
   "cell_type": "code",
   "execution_count": 111,
   "id": "f7a7e425",
   "metadata": {},
   "outputs": [
    {
     "data": {
      "text/html": [
       "<div>\n",
       "<style scoped>\n",
       "    .dataframe tbody tr th:only-of-type {\n",
       "        vertical-align: middle;\n",
       "    }\n",
       "\n",
       "    .dataframe tbody tr th {\n",
       "        vertical-align: top;\n",
       "    }\n",
       "\n",
       "    .dataframe thead th {\n",
       "        text-align: right;\n",
       "    }\n",
       "</style>\n",
       "<table border=\"1\" class=\"dataframe\">\n",
       "  <thead>\n",
       "    <tr style=\"text-align: right;\">\n",
       "      <th></th>\n",
       "      <th>NAME</th>\n",
       "      <th>LATITUDE</th>\n",
       "      <th>LONGITUDE</th>\n",
       "      <th>Country</th>\n",
       "      <th>Year</th>\n",
       "      <th>Month</th>\n",
       "      <th>temp</th>\n",
       "    </tr>\n",
       "  </thead>\n",
       "  <tbody>\n",
       "    <tr>\n",
       "      <th>0</th>\n",
       "      <td>PBO_ANANTAPUR</td>\n",
       "      <td>14.583</td>\n",
       "      <td>77.633</td>\n",
       "      <td>India</td>\n",
       "      <td>1980</td>\n",
       "      <td>1</td>\n",
       "      <td>23.48</td>\n",
       "    </tr>\n",
       "    <tr>\n",
       "      <th>1</th>\n",
       "      <td>PBO_ANANTAPUR</td>\n",
       "      <td>14.583</td>\n",
       "      <td>77.633</td>\n",
       "      <td>India</td>\n",
       "      <td>1981</td>\n",
       "      <td>1</td>\n",
       "      <td>24.57</td>\n",
       "    </tr>\n",
       "    <tr>\n",
       "      <th>2</th>\n",
       "      <td>PBO_ANANTAPUR</td>\n",
       "      <td>14.583</td>\n",
       "      <td>77.633</td>\n",
       "      <td>India</td>\n",
       "      <td>1982</td>\n",
       "      <td>1</td>\n",
       "      <td>24.19</td>\n",
       "    </tr>\n",
       "    <tr>\n",
       "      <th>3</th>\n",
       "      <td>PBO_ANANTAPUR</td>\n",
       "      <td>14.583</td>\n",
       "      <td>77.633</td>\n",
       "      <td>India</td>\n",
       "      <td>1983</td>\n",
       "      <td>1</td>\n",
       "      <td>23.51</td>\n",
       "    </tr>\n",
       "    <tr>\n",
       "      <th>4</th>\n",
       "      <td>PBO_ANANTAPUR</td>\n",
       "      <td>14.583</td>\n",
       "      <td>77.633</td>\n",
       "      <td>India</td>\n",
       "      <td>1984</td>\n",
       "      <td>1</td>\n",
       "      <td>24.81</td>\n",
       "    </tr>\n",
       "    <tr>\n",
       "      <th>...</th>\n",
       "      <td>...</td>\n",
       "      <td>...</td>\n",
       "      <td>...</td>\n",
       "      <td>...</td>\n",
       "      <td>...</td>\n",
       "      <td>...</td>\n",
       "      <td>...</td>\n",
       "    </tr>\n",
       "    <tr>\n",
       "      <th>3147</th>\n",
       "      <td>DARJEELING</td>\n",
       "      <td>27.050</td>\n",
       "      <td>88.270</td>\n",
       "      <td>India</td>\n",
       "      <td>1983</td>\n",
       "      <td>1</td>\n",
       "      <td>5.10</td>\n",
       "    </tr>\n",
       "    <tr>\n",
       "      <th>3148</th>\n",
       "      <td>DARJEELING</td>\n",
       "      <td>27.050</td>\n",
       "      <td>88.270</td>\n",
       "      <td>India</td>\n",
       "      <td>1986</td>\n",
       "      <td>1</td>\n",
       "      <td>6.90</td>\n",
       "    </tr>\n",
       "    <tr>\n",
       "      <th>3149</th>\n",
       "      <td>DARJEELING</td>\n",
       "      <td>27.050</td>\n",
       "      <td>88.270</td>\n",
       "      <td>India</td>\n",
       "      <td>1994</td>\n",
       "      <td>1</td>\n",
       "      <td>8.10</td>\n",
       "    </tr>\n",
       "    <tr>\n",
       "      <th>3150</th>\n",
       "      <td>DARJEELING</td>\n",
       "      <td>27.050</td>\n",
       "      <td>88.270</td>\n",
       "      <td>India</td>\n",
       "      <td>1995</td>\n",
       "      <td>1</td>\n",
       "      <td>5.60</td>\n",
       "    </tr>\n",
       "    <tr>\n",
       "      <th>3151</th>\n",
       "      <td>DARJEELING</td>\n",
       "      <td>27.050</td>\n",
       "      <td>88.270</td>\n",
       "      <td>India</td>\n",
       "      <td>1997</td>\n",
       "      <td>1</td>\n",
       "      <td>5.70</td>\n",
       "    </tr>\n",
       "  </tbody>\n",
       "</table>\n",
       "<p>3152 rows × 7 columns</p>\n",
       "</div>"
      ],
      "text/plain": [
       "               NAME  LATITUDE  LONGITUDE Country  Year  Month   temp\n",
       "0     PBO_ANANTAPUR    14.583     77.633   India  1980      1  23.48\n",
       "1     PBO_ANANTAPUR    14.583     77.633   India  1981      1  24.57\n",
       "2     PBO_ANANTAPUR    14.583     77.633   India  1982      1  24.19\n",
       "3     PBO_ANANTAPUR    14.583     77.633   India  1983      1  23.51\n",
       "4     PBO_ANANTAPUR    14.583     77.633   India  1984      1  24.81\n",
       "...             ...       ...        ...     ...   ...    ...    ...\n",
       "3147     DARJEELING    27.050     88.270   India  1983      1   5.10\n",
       "3148     DARJEELING    27.050     88.270   India  1986      1   6.90\n",
       "3149     DARJEELING    27.050     88.270   India  1994      1   8.10\n",
       "3150     DARJEELING    27.050     88.270   India  1995      1   5.60\n",
       "3151     DARJEELING    27.050     88.270   India  1997      1   5.70\n",
       "\n",
       "[3152 rows x 7 columns]"
      ]
     },
     "execution_count": 111,
     "metadata": {},
     "output_type": "execute_result"
    }
   ],
   "source": [
    "temp_vs_data=query_climate_database(country = \"India\", \n",
    "                       year_begin = 1980, \n",
    "                       year_end = 2020,\n",
    "                       month = 1)\n",
    "temp_vs_data"
   ]
  },
  {
   "cell_type": "markdown",
   "id": "701c5f83",
   "metadata": {},
   "source": [
    "Now we filter out data that not satisfy the minimum required number of years of data.  \n",
    "Assume the minimum required number=10"
   ]
  },
  {
   "cell_type": "code",
   "execution_count": 128,
   "id": "c852f133",
   "metadata": {},
   "outputs": [],
   "source": [
    "min_obs=10\n",
    "def year_dur(x):\n",
    "    max_s=np.max(x)\n",
    "    min_s=np.min(x)\n",
    "    return max_s-min_s+1\n",
    "#Note here +1 since we need how many years, not the difference\n",
    "temp_vs_data[\"years_of_data\"]=temp_vs_data.groupby([\"NAME\"])['Year'].transform(year_dur)"
   ]
  },
  {
   "cell_type": "code",
   "execution_count": 129,
   "id": "ec59f10b",
   "metadata": {},
   "outputs": [
    {
     "data": {
      "text/html": [
       "<div>\n",
       "<style scoped>\n",
       "    .dataframe tbody tr th:only-of-type {\n",
       "        vertical-align: middle;\n",
       "    }\n",
       "\n",
       "    .dataframe tbody tr th {\n",
       "        vertical-align: top;\n",
       "    }\n",
       "\n",
       "    .dataframe thead th {\n",
       "        text-align: right;\n",
       "    }\n",
       "</style>\n",
       "<table border=\"1\" class=\"dataframe\">\n",
       "  <thead>\n",
       "    <tr style=\"text-align: right;\">\n",
       "      <th></th>\n",
       "      <th>NAME</th>\n",
       "      <th>LATITUDE</th>\n",
       "      <th>LONGITUDE</th>\n",
       "      <th>Country</th>\n",
       "      <th>Year</th>\n",
       "      <th>Month</th>\n",
       "      <th>temp</th>\n",
       "      <th>years_of_data</th>\n",
       "    </tr>\n",
       "  </thead>\n",
       "  <tbody>\n",
       "    <tr>\n",
       "      <th>0</th>\n",
       "      <td>PBO_ANANTAPUR</td>\n",
       "      <td>14.583</td>\n",
       "      <td>77.633</td>\n",
       "      <td>India</td>\n",
       "      <td>1980</td>\n",
       "      <td>1</td>\n",
       "      <td>23.48</td>\n",
       "      <td>41</td>\n",
       "    </tr>\n",
       "    <tr>\n",
       "      <th>1</th>\n",
       "      <td>PBO_ANANTAPUR</td>\n",
       "      <td>14.583</td>\n",
       "      <td>77.633</td>\n",
       "      <td>India</td>\n",
       "      <td>1981</td>\n",
       "      <td>1</td>\n",
       "      <td>24.57</td>\n",
       "      <td>41</td>\n",
       "    </tr>\n",
       "    <tr>\n",
       "      <th>2</th>\n",
       "      <td>PBO_ANANTAPUR</td>\n",
       "      <td>14.583</td>\n",
       "      <td>77.633</td>\n",
       "      <td>India</td>\n",
       "      <td>1982</td>\n",
       "      <td>1</td>\n",
       "      <td>24.19</td>\n",
       "      <td>41</td>\n",
       "    </tr>\n",
       "    <tr>\n",
       "      <th>3</th>\n",
       "      <td>PBO_ANANTAPUR</td>\n",
       "      <td>14.583</td>\n",
       "      <td>77.633</td>\n",
       "      <td>India</td>\n",
       "      <td>1983</td>\n",
       "      <td>1</td>\n",
       "      <td>23.51</td>\n",
       "      <td>41</td>\n",
       "    </tr>\n",
       "    <tr>\n",
       "      <th>4</th>\n",
       "      <td>PBO_ANANTAPUR</td>\n",
       "      <td>14.583</td>\n",
       "      <td>77.633</td>\n",
       "      <td>India</td>\n",
       "      <td>1984</td>\n",
       "      <td>1</td>\n",
       "      <td>24.81</td>\n",
       "      <td>41</td>\n",
       "    </tr>\n",
       "    <tr>\n",
       "      <th>...</th>\n",
       "      <td>...</td>\n",
       "      <td>...</td>\n",
       "      <td>...</td>\n",
       "      <td>...</td>\n",
       "      <td>...</td>\n",
       "      <td>...</td>\n",
       "      <td>...</td>\n",
       "      <td>...</td>\n",
       "    </tr>\n",
       "    <tr>\n",
       "      <th>3147</th>\n",
       "      <td>DARJEELING</td>\n",
       "      <td>27.050</td>\n",
       "      <td>88.270</td>\n",
       "      <td>India</td>\n",
       "      <td>1983</td>\n",
       "      <td>1</td>\n",
       "      <td>5.10</td>\n",
       "      <td>17</td>\n",
       "    </tr>\n",
       "    <tr>\n",
       "      <th>3148</th>\n",
       "      <td>DARJEELING</td>\n",
       "      <td>27.050</td>\n",
       "      <td>88.270</td>\n",
       "      <td>India</td>\n",
       "      <td>1986</td>\n",
       "      <td>1</td>\n",
       "      <td>6.90</td>\n",
       "      <td>17</td>\n",
       "    </tr>\n",
       "    <tr>\n",
       "      <th>3149</th>\n",
       "      <td>DARJEELING</td>\n",
       "      <td>27.050</td>\n",
       "      <td>88.270</td>\n",
       "      <td>India</td>\n",
       "      <td>1994</td>\n",
       "      <td>1</td>\n",
       "      <td>8.10</td>\n",
       "      <td>17</td>\n",
       "    </tr>\n",
       "    <tr>\n",
       "      <th>3150</th>\n",
       "      <td>DARJEELING</td>\n",
       "      <td>27.050</td>\n",
       "      <td>88.270</td>\n",
       "      <td>India</td>\n",
       "      <td>1995</td>\n",
       "      <td>1</td>\n",
       "      <td>5.60</td>\n",
       "      <td>17</td>\n",
       "    </tr>\n",
       "    <tr>\n",
       "      <th>3151</th>\n",
       "      <td>DARJEELING</td>\n",
       "      <td>27.050</td>\n",
       "      <td>88.270</td>\n",
       "      <td>India</td>\n",
       "      <td>1997</td>\n",
       "      <td>1</td>\n",
       "      <td>5.70</td>\n",
       "      <td>17</td>\n",
       "    </tr>\n",
       "  </tbody>\n",
       "</table>\n",
       "<p>3152 rows × 8 columns</p>\n",
       "</div>"
      ],
      "text/plain": [
       "               NAME  LATITUDE  LONGITUDE Country  Year  Month   temp  \\\n",
       "0     PBO_ANANTAPUR    14.583     77.633   India  1980      1  23.48   \n",
       "1     PBO_ANANTAPUR    14.583     77.633   India  1981      1  24.57   \n",
       "2     PBO_ANANTAPUR    14.583     77.633   India  1982      1  24.19   \n",
       "3     PBO_ANANTAPUR    14.583     77.633   India  1983      1  23.51   \n",
       "4     PBO_ANANTAPUR    14.583     77.633   India  1984      1  24.81   \n",
       "...             ...       ...        ...     ...   ...    ...    ...   \n",
       "3147     DARJEELING    27.050     88.270   India  1983      1   5.10   \n",
       "3148     DARJEELING    27.050     88.270   India  1986      1   6.90   \n",
       "3149     DARJEELING    27.050     88.270   India  1994      1   8.10   \n",
       "3150     DARJEELING    27.050     88.270   India  1995      1   5.60   \n",
       "3151     DARJEELING    27.050     88.270   India  1997      1   5.70   \n",
       "\n",
       "      years_of_data  \n",
       "0                41  \n",
       "1                41  \n",
       "2                41  \n",
       "3                41  \n",
       "4                41  \n",
       "...             ...  \n",
       "3147             17  \n",
       "3148             17  \n",
       "3149             17  \n",
       "3150             17  \n",
       "3151             17  \n",
       "\n",
       "[3152 rows x 8 columns]"
      ]
     },
     "execution_count": 129,
     "metadata": {},
     "output_type": "execute_result"
    }
   ],
   "source": [
    "temp_vs_data"
   ]
  },
  {
   "cell_type": "markdown",
   "id": "75039fae",
   "metadata": {},
   "source": [
    "Now we filter out years_of_data<10"
   ]
  },
  {
   "cell_type": "code",
   "execution_count": 133,
   "id": "f979c99b",
   "metadata": {},
   "outputs": [],
   "source": [
    "temp_vs_data_2=temp_vs_data[temp_vs_data[\"years_of_data\"]>=10]"
   ]
  },
  {
   "cell_type": "code",
   "execution_count": 134,
   "id": "fc48ff01",
   "metadata": {},
   "outputs": [
    {
     "data": {
      "text/html": [
       "<div>\n",
       "<style scoped>\n",
       "    .dataframe tbody tr th:only-of-type {\n",
       "        vertical-align: middle;\n",
       "    }\n",
       "\n",
       "    .dataframe tbody tr th {\n",
       "        vertical-align: top;\n",
       "    }\n",
       "\n",
       "    .dataframe thead th {\n",
       "        text-align: right;\n",
       "    }\n",
       "</style>\n",
       "<table border=\"1\" class=\"dataframe\">\n",
       "  <thead>\n",
       "    <tr style=\"text-align: right;\">\n",
       "      <th></th>\n",
       "      <th>NAME</th>\n",
       "      <th>LATITUDE</th>\n",
       "      <th>LONGITUDE</th>\n",
       "      <th>Country</th>\n",
       "      <th>Year</th>\n",
       "      <th>Month</th>\n",
       "      <th>temp</th>\n",
       "      <th>years_of_data</th>\n",
       "    </tr>\n",
       "  </thead>\n",
       "  <tbody>\n",
       "    <tr>\n",
       "      <th>0</th>\n",
       "      <td>PBO_ANANTAPUR</td>\n",
       "      <td>14.583</td>\n",
       "      <td>77.633</td>\n",
       "      <td>India</td>\n",
       "      <td>1980</td>\n",
       "      <td>1</td>\n",
       "      <td>23.48</td>\n",
       "      <td>41</td>\n",
       "    </tr>\n",
       "    <tr>\n",
       "      <th>1</th>\n",
       "      <td>PBO_ANANTAPUR</td>\n",
       "      <td>14.583</td>\n",
       "      <td>77.633</td>\n",
       "      <td>India</td>\n",
       "      <td>1981</td>\n",
       "      <td>1</td>\n",
       "      <td>24.57</td>\n",
       "      <td>41</td>\n",
       "    </tr>\n",
       "    <tr>\n",
       "      <th>2</th>\n",
       "      <td>PBO_ANANTAPUR</td>\n",
       "      <td>14.583</td>\n",
       "      <td>77.633</td>\n",
       "      <td>India</td>\n",
       "      <td>1982</td>\n",
       "      <td>1</td>\n",
       "      <td>24.19</td>\n",
       "      <td>41</td>\n",
       "    </tr>\n",
       "    <tr>\n",
       "      <th>3</th>\n",
       "      <td>PBO_ANANTAPUR</td>\n",
       "      <td>14.583</td>\n",
       "      <td>77.633</td>\n",
       "      <td>India</td>\n",
       "      <td>1983</td>\n",
       "      <td>1</td>\n",
       "      <td>23.51</td>\n",
       "      <td>41</td>\n",
       "    </tr>\n",
       "    <tr>\n",
       "      <th>4</th>\n",
       "      <td>PBO_ANANTAPUR</td>\n",
       "      <td>14.583</td>\n",
       "      <td>77.633</td>\n",
       "      <td>India</td>\n",
       "      <td>1984</td>\n",
       "      <td>1</td>\n",
       "      <td>24.81</td>\n",
       "      <td>41</td>\n",
       "    </tr>\n",
       "    <tr>\n",
       "      <th>...</th>\n",
       "      <td>...</td>\n",
       "      <td>...</td>\n",
       "      <td>...</td>\n",
       "      <td>...</td>\n",
       "      <td>...</td>\n",
       "      <td>...</td>\n",
       "      <td>...</td>\n",
       "      <td>...</td>\n",
       "    </tr>\n",
       "    <tr>\n",
       "      <th>3147</th>\n",
       "      <td>DARJEELING</td>\n",
       "      <td>27.050</td>\n",
       "      <td>88.270</td>\n",
       "      <td>India</td>\n",
       "      <td>1983</td>\n",
       "      <td>1</td>\n",
       "      <td>5.10</td>\n",
       "      <td>17</td>\n",
       "    </tr>\n",
       "    <tr>\n",
       "      <th>3148</th>\n",
       "      <td>DARJEELING</td>\n",
       "      <td>27.050</td>\n",
       "      <td>88.270</td>\n",
       "      <td>India</td>\n",
       "      <td>1986</td>\n",
       "      <td>1</td>\n",
       "      <td>6.90</td>\n",
       "      <td>17</td>\n",
       "    </tr>\n",
       "    <tr>\n",
       "      <th>3149</th>\n",
       "      <td>DARJEELING</td>\n",
       "      <td>27.050</td>\n",
       "      <td>88.270</td>\n",
       "      <td>India</td>\n",
       "      <td>1994</td>\n",
       "      <td>1</td>\n",
       "      <td>8.10</td>\n",
       "      <td>17</td>\n",
       "    </tr>\n",
       "    <tr>\n",
       "      <th>3150</th>\n",
       "      <td>DARJEELING</td>\n",
       "      <td>27.050</td>\n",
       "      <td>88.270</td>\n",
       "      <td>India</td>\n",
       "      <td>1995</td>\n",
       "      <td>1</td>\n",
       "      <td>5.60</td>\n",
       "      <td>17</td>\n",
       "    </tr>\n",
       "    <tr>\n",
       "      <th>3151</th>\n",
       "      <td>DARJEELING</td>\n",
       "      <td>27.050</td>\n",
       "      <td>88.270</td>\n",
       "      <td>India</td>\n",
       "      <td>1997</td>\n",
       "      <td>1</td>\n",
       "      <td>5.70</td>\n",
       "      <td>17</td>\n",
       "    </tr>\n",
       "  </tbody>\n",
       "</table>\n",
       "<p>3145 rows × 8 columns</p>\n",
       "</div>"
      ],
      "text/plain": [
       "               NAME  LATITUDE  LONGITUDE Country  Year  Month   temp  \\\n",
       "0     PBO_ANANTAPUR    14.583     77.633   India  1980      1  23.48   \n",
       "1     PBO_ANANTAPUR    14.583     77.633   India  1981      1  24.57   \n",
       "2     PBO_ANANTAPUR    14.583     77.633   India  1982      1  24.19   \n",
       "3     PBO_ANANTAPUR    14.583     77.633   India  1983      1  23.51   \n",
       "4     PBO_ANANTAPUR    14.583     77.633   India  1984      1  24.81   \n",
       "...             ...       ...        ...     ...   ...    ...    ...   \n",
       "3147     DARJEELING    27.050     88.270   India  1983      1   5.10   \n",
       "3148     DARJEELING    27.050     88.270   India  1986      1   6.90   \n",
       "3149     DARJEELING    27.050     88.270   India  1994      1   8.10   \n",
       "3150     DARJEELING    27.050     88.270   India  1995      1   5.60   \n",
       "3151     DARJEELING    27.050     88.270   India  1997      1   5.70   \n",
       "\n",
       "      years_of_data  \n",
       "0                41  \n",
       "1                41  \n",
       "2                41  \n",
       "3                41  \n",
       "4                41  \n",
       "...             ...  \n",
       "3147             17  \n",
       "3148             17  \n",
       "3149             17  \n",
       "3150             17  \n",
       "3151             17  \n",
       "\n",
       "[3145 rows x 8 columns]"
      ]
     },
     "execution_count": 134,
     "metadata": {},
     "output_type": "execute_result"
    }
   ],
   "source": [
    "temp_vs_data_2"
   ]
  },
  {
   "cell_type": "markdown",
   "id": "d39067a8",
   "metadata": {},
   "source": [
    "Now we compute the year-over-year average change in temperature by finding the cofficient of linear regression"
   ]
  },
  {
   "cell_type": "code",
   "execution_count": 135,
   "id": "1b350930",
   "metadata": {},
   "outputs": [],
   "source": [
    "from sklearn.linear_model import LinearRegression"
   ]
  },
  {
   "cell_type": "code",
   "execution_count": 136,
   "id": "ec6ca5fe",
   "metadata": {},
   "outputs": [],
   "source": [
    "def coef(data_group):\n",
    "    x = data_group[[\"Year\"]] # 2 brackets because X should be a df\n",
    "    y = data_group[\"temp\"]   # 1 bracket because y should be a series\n",
    "    LR = LinearRegression()\n",
    "    LR.fit(x, y)\n",
    "    return LR.coef_[0]"
   ]
  },
  {
   "cell_type": "code",
   "execution_count": 142,
   "id": "043cfbb5",
   "metadata": {},
   "outputs": [],
   "source": [
    "coefs = temp_vs_data_2.groupby([\"NAME\"]).apply(coef)"
   ]
  },
  {
   "cell_type": "code",
   "execution_count": 153,
   "id": "5518f08b",
   "metadata": {},
   "outputs": [],
   "source": [
    "coefs=coefs.reset_index()"
   ]
  },
  {
   "cell_type": "code",
   "execution_count": 154,
   "id": "afdde143",
   "metadata": {},
   "outputs": [
    {
     "data": {
      "text/html": [
       "<div>\n",
       "<style scoped>\n",
       "    .dataframe tbody tr th:only-of-type {\n",
       "        vertical-align: middle;\n",
       "    }\n",
       "\n",
       "    .dataframe tbody tr th {\n",
       "        vertical-align: top;\n",
       "    }\n",
       "\n",
       "    .dataframe thead th {\n",
       "        text-align: right;\n",
       "    }\n",
       "</style>\n",
       "<table border=\"1\" class=\"dataframe\">\n",
       "  <thead>\n",
       "    <tr style=\"text-align: right;\">\n",
       "      <th></th>\n",
       "      <th>NAME</th>\n",
       "      <th>0</th>\n",
       "    </tr>\n",
       "  </thead>\n",
       "  <tbody>\n",
       "    <tr>\n",
       "      <th>0</th>\n",
       "      <td>AGARTALA</td>\n",
       "      <td>-0.006184</td>\n",
       "    </tr>\n",
       "    <tr>\n",
       "      <th>1</th>\n",
       "      <td>AGRA</td>\n",
       "      <td>-0.095413</td>\n",
       "    </tr>\n",
       "    <tr>\n",
       "      <th>2</th>\n",
       "      <td>AHMADABAD</td>\n",
       "      <td>0.006731</td>\n",
       "    </tr>\n",
       "    <tr>\n",
       "      <th>3</th>\n",
       "      <td>AKOLA</td>\n",
       "      <td>-0.008063</td>\n",
       "    </tr>\n",
       "    <tr>\n",
       "      <th>4</th>\n",
       "      <td>ALLAHABAD</td>\n",
       "      <td>-0.029375</td>\n",
       "    </tr>\n",
       "    <tr>\n",
       "      <th>...</th>\n",
       "      <td>...</td>\n",
       "      <td>...</td>\n",
       "    </tr>\n",
       "    <tr>\n",
       "      <th>97</th>\n",
       "      <td>TRIVANDRUM</td>\n",
       "      <td>0.022892</td>\n",
       "    </tr>\n",
       "    <tr>\n",
       "      <th>98</th>\n",
       "      <td>UDAIPUR_DABOK</td>\n",
       "      <td>0.072424</td>\n",
       "    </tr>\n",
       "    <tr>\n",
       "      <th>99</th>\n",
       "      <td>VARANASI_BABATPUR</td>\n",
       "      <td>-0.012996</td>\n",
       "    </tr>\n",
       "    <tr>\n",
       "      <th>100</th>\n",
       "      <td>VERAVAL</td>\n",
       "      <td>0.024848</td>\n",
       "    </tr>\n",
       "    <tr>\n",
       "      <th>101</th>\n",
       "      <td>VISHAKHAPATNAM</td>\n",
       "      <td>-0.034050</td>\n",
       "    </tr>\n",
       "  </tbody>\n",
       "</table>\n",
       "<p>102 rows × 2 columns</p>\n",
       "</div>"
      ],
      "text/plain": [
       "                  NAME         0\n",
       "0             AGARTALA -0.006184\n",
       "1                 AGRA -0.095413\n",
       "2            AHMADABAD  0.006731\n",
       "3                AKOLA -0.008063\n",
       "4            ALLAHABAD -0.029375\n",
       "..                 ...       ...\n",
       "97          TRIVANDRUM  0.022892\n",
       "98       UDAIPUR_DABOK  0.072424\n",
       "99   VARANASI_BABATPUR -0.012996\n",
       "100            VERAVAL  0.024848\n",
       "101     VISHAKHAPATNAM -0.034050\n",
       "\n",
       "[102 rows x 2 columns]"
      ]
     },
     "execution_count": 154,
     "metadata": {},
     "output_type": "execute_result"
    }
   ],
   "source": [
    "coefs"
   ]
  },
  {
   "cell_type": "markdown",
   "id": "cb32cf15",
   "metadata": {},
   "source": [
    "Note here we lose LATITUDE and LONGITUDE, and we can use merge to restore them"
   ]
  },
  {
   "cell_type": "code",
   "execution_count": 170,
   "id": "2c1aacb0",
   "metadata": {},
   "outputs": [],
   "source": [
    "final=pd.merge(coefs,temp_vs_data_2,how='inner',on = [\"NAME\"]).drop_duplicates('NAME')"
   ]
  },
  {
   "cell_type": "code",
   "execution_count": 176,
   "id": "f4d82e2f",
   "metadata": {},
   "outputs": [
    {
     "data": {
      "text/html": [
       "<div>\n",
       "<style scoped>\n",
       "    .dataframe tbody tr th:only-of-type {\n",
       "        vertical-align: middle;\n",
       "    }\n",
       "\n",
       "    .dataframe tbody tr th {\n",
       "        vertical-align: top;\n",
       "    }\n",
       "\n",
       "    .dataframe thead th {\n",
       "        text-align: right;\n",
       "    }\n",
       "</style>\n",
       "<table border=\"1\" class=\"dataframe\">\n",
       "  <thead>\n",
       "    <tr style=\"text-align: right;\">\n",
       "      <th></th>\n",
       "      <th>NAME</th>\n",
       "      <th>change</th>\n",
       "      <th>LATITUDE</th>\n",
       "      <th>LONGITUDE</th>\n",
       "      <th>Country</th>\n",
       "      <th>Year</th>\n",
       "      <th>Month</th>\n",
       "      <th>temp</th>\n",
       "      <th>years_of_data</th>\n",
       "    </tr>\n",
       "  </thead>\n",
       "  <tbody>\n",
       "    <tr>\n",
       "      <th>0</th>\n",
       "      <td>AGARTALA</td>\n",
       "      <td>-0.006184</td>\n",
       "      <td>23.8830</td>\n",
       "      <td>91.2500</td>\n",
       "      <td>India</td>\n",
       "      <td>1980</td>\n",
       "      <td>1</td>\n",
       "      <td>18.21</td>\n",
       "      <td>41</td>\n",
       "    </tr>\n",
       "    <tr>\n",
       "      <th>33</th>\n",
       "      <td>AGRA</td>\n",
       "      <td>-0.095413</td>\n",
       "      <td>27.1667</td>\n",
       "      <td>78.0333</td>\n",
       "      <td>India</td>\n",
       "      <td>1980</td>\n",
       "      <td>1</td>\n",
       "      <td>15.30</td>\n",
       "      <td>19</td>\n",
       "    </tr>\n",
       "    <tr>\n",
       "      <th>42</th>\n",
       "      <td>AHMADABAD</td>\n",
       "      <td>0.006731</td>\n",
       "      <td>23.0670</td>\n",
       "      <td>72.6330</td>\n",
       "      <td>India</td>\n",
       "      <td>1980</td>\n",
       "      <td>1</td>\n",
       "      <td>20.39</td>\n",
       "      <td>41</td>\n",
       "    </tr>\n",
       "    <tr>\n",
       "      <th>80</th>\n",
       "      <td>AKOLA</td>\n",
       "      <td>-0.008063</td>\n",
       "      <td>20.7000</td>\n",
       "      <td>77.0330</td>\n",
       "      <td>India</td>\n",
       "      <td>1980</td>\n",
       "      <td>1</td>\n",
       "      <td>22.47</td>\n",
       "      <td>41</td>\n",
       "    </tr>\n",
       "    <tr>\n",
       "      <th>140</th>\n",
       "      <td>ALLAHABAD</td>\n",
       "      <td>-0.029375</td>\n",
       "      <td>25.4410</td>\n",
       "      <td>81.7350</td>\n",
       "      <td>India</td>\n",
       "      <td>1982</td>\n",
       "      <td>1</td>\n",
       "      <td>17.47</td>\n",
       "      <td>33</td>\n",
       "    </tr>\n",
       "    <tr>\n",
       "      <th>...</th>\n",
       "      <td>...</td>\n",
       "      <td>...</td>\n",
       "      <td>...</td>\n",
       "      <td>...</td>\n",
       "      <td>...</td>\n",
       "      <td>...</td>\n",
       "      <td>...</td>\n",
       "      <td>...</td>\n",
       "      <td>...</td>\n",
       "    </tr>\n",
       "    <tr>\n",
       "      <th>3020</th>\n",
       "      <td>TRIVANDRUM</td>\n",
       "      <td>0.022892</td>\n",
       "      <td>8.5000</td>\n",
       "      <td>77.0000</td>\n",
       "      <td>India</td>\n",
       "      <td>1980</td>\n",
       "      <td>1</td>\n",
       "      <td>27.10</td>\n",
       "      <td>36</td>\n",
       "    </tr>\n",
       "    <tr>\n",
       "      <th>3045</th>\n",
       "      <td>UDAIPUR_DABOK</td>\n",
       "      <td>0.072424</td>\n",
       "      <td>24.6170</td>\n",
       "      <td>73.8830</td>\n",
       "      <td>India</td>\n",
       "      <td>2010</td>\n",
       "      <td>1</td>\n",
       "      <td>16.84</td>\n",
       "      <td>11</td>\n",
       "    </tr>\n",
       "    <tr>\n",
       "      <th>3055</th>\n",
       "      <td>VARANASI_BABATPUR</td>\n",
       "      <td>-0.012996</td>\n",
       "      <td>25.4500</td>\n",
       "      <td>82.8670</td>\n",
       "      <td>India</td>\n",
       "      <td>1997</td>\n",
       "      <td>1</td>\n",
       "      <td>15.83</td>\n",
       "      <td>24</td>\n",
       "    </tr>\n",
       "    <tr>\n",
       "      <th>3077</th>\n",
       "      <td>VERAVAL</td>\n",
       "      <td>0.024848</td>\n",
       "      <td>20.9000</td>\n",
       "      <td>70.3670</td>\n",
       "      <td>India</td>\n",
       "      <td>1980</td>\n",
       "      <td>1</td>\n",
       "      <td>21.45</td>\n",
       "      <td>41</td>\n",
       "    </tr>\n",
       "    <tr>\n",
       "      <th>3118</th>\n",
       "      <td>VISHAKHAPATNAM</td>\n",
       "      <td>-0.034050</td>\n",
       "      <td>17.7170</td>\n",
       "      <td>83.2330</td>\n",
       "      <td>India</td>\n",
       "      <td>1980</td>\n",
       "      <td>1</td>\n",
       "      <td>25.44</td>\n",
       "      <td>41</td>\n",
       "    </tr>\n",
       "  </tbody>\n",
       "</table>\n",
       "<p>102 rows × 9 columns</p>\n",
       "</div>"
      ],
      "text/plain": [
       "                   NAME    change  LATITUDE  LONGITUDE Country  Year  Month  \\\n",
       "0              AGARTALA -0.006184   23.8830    91.2500   India  1980      1   \n",
       "33                 AGRA -0.095413   27.1667    78.0333   India  1980      1   \n",
       "42            AHMADABAD  0.006731   23.0670    72.6330   India  1980      1   \n",
       "80                AKOLA -0.008063   20.7000    77.0330   India  1980      1   \n",
       "140           ALLAHABAD -0.029375   25.4410    81.7350   India  1982      1   \n",
       "...                 ...       ...       ...        ...     ...   ...    ...   \n",
       "3020         TRIVANDRUM  0.022892    8.5000    77.0000   India  1980      1   \n",
       "3045      UDAIPUR_DABOK  0.072424   24.6170    73.8830   India  2010      1   \n",
       "3055  VARANASI_BABATPUR -0.012996   25.4500    82.8670   India  1997      1   \n",
       "3077            VERAVAL  0.024848   20.9000    70.3670   India  1980      1   \n",
       "3118     VISHAKHAPATNAM -0.034050   17.7170    83.2330   India  1980      1   \n",
       "\n",
       "       temp  years_of_data  \n",
       "0     18.21             41  \n",
       "33    15.30             19  \n",
       "42    20.39             41  \n",
       "80    22.47             41  \n",
       "140   17.47             33  \n",
       "...     ...            ...  \n",
       "3020  27.10             36  \n",
       "3045  16.84             11  \n",
       "3055  15.83             24  \n",
       "3077  21.45             41  \n",
       "3118  25.44             41  \n",
       "\n",
       "[102 rows x 9 columns]"
      ]
     },
     "execution_count": 176,
     "metadata": {},
     "output_type": "execute_result"
    }
   ],
   "source": [
    "final=final.rename(columns={ 0 :\"change\"})\n",
    "final"
   ]
  },
  {
   "cell_type": "markdown",
   "id": "cf90b6e8",
   "metadata": {},
   "source": [
    "Now trying to visualize our data."
   ]
  },
  {
   "cell_type": "code",
   "execution_count": 236,
   "id": "6203ab22",
   "metadata": {},
   "outputs": [
    {
     "data": {
      "application/vnd.plotly.v1+json": {
       "config": {
        "plotlyServerURL": "https://plot.ly"
       },
       "data": [
        {
         "hovertemplate": "<b>%{hovertext}</b><br><br>LATITUDE=%{lat}<br>LONGITUDE=%{lon}<br>change=%{marker.color}<extra></extra>",
         "hovertext": [
          "AGARTALA",
          "AGRA",
          "AHMADABAD",
          "AKOLA",
          "ALLAHABAD",
          "ALLAHABAD_BAMHRAULI",
          "AMBALA",
          "AMRITSAR",
          "AURANGABAD_CHIKALTH",
          "BALASORE",
          "BANGALORE",
          "BAREILLY",
          "BEGUMPETOBSY",
          "BELGAUM_SAMBRA",
          "BHOPAL_BAIRAGARH",
          "BHUBANESWAR",
          "BHUJ_RUDRAMATA",
          "BIKANER",
          "BOMBAY_COLABA",
          "BOMBAY_SANTACRUZ",
          "CALCUTTA_ALIPORE",
          "CALCUTTA_DUM_DUM",
          "CHERRAPUNJI",
          "CHERRA_POONJEE",
          "CHITRADURGA",
          "COIMBATORE_PEELAMED",
          "CUDDALORE",
          "CUTTACK",
          "DALTONGANJ",
          "DARBHANGA",
          "DARJEELING",
          "DEHRADUN",
          "DIBRUGARH_MOHANBAR",
          "DUMKA",
          "DWARKA",
          "GADAG",
          "GANGANAGAR",
          "GAUHATI",
          "GAYA",
          "GOA_PANJIM",
          "GORAKHPUR",
          "GUNA",
          "GWALIOR",
          "HISSAR",
          "HONAVAR",
          "IMPHAL",
          "INDORE",
          "JABALPUR",
          "JAGDALPUR",
          "JAIPUR_SANGANER",
          "JAISALMER",
          "JHARSUGUDA",
          "JODHPUR",
          "KAKINADA",
          "KARAIKAL",
          "KODAIKANAL",
          "KOTA_AERODROME",
          "KOZHIKODE",
          "KURNOOL",
          "LUCKNOW_AMAUSI",
          "LUDHIANA",
          "MACHILIPATNAM",
          "MADRAS_MINAMBAKKAM",
          "MANGALORE_BAJPE",
          "MINICOY",
          "MINICOYOBSY",
          "MO_AMINI",
          "MO_RANCHI",
          "MUKTESWAR_KUMAON",
          "NAGPUR_SONEGAON",
          "NELLORE",
          "NEW_DELHI_PALAM",
          "NEW_DELHI_SAFDARJUN",
          "NORTH_LAKHIMPUR",
          "PAMBAN",
          "PATIALA",
          "PATNA",
          "PBO_ANANTAPUR",
          "PENDRA_ROAD",
          "POONA",
          "PORT_BLAIR",
          "RAIPUR",
          "RAJKOT",
          "RAMGUNDAM",
          "RATNAGIRI",
          "SAGAR",
          "SANDHEADS",
          "SATNA",
          "SHILONG",
          "SHIMLA",
          "SHOLAPUR",
          "SILCHAR",
          "SRINAGAR",
          "SURAT",
          "TEZPUR",
          "THIRUVANANTHAPURAM",
          "TIRUCHCHIRAPALLI",
          "TRIVANDRUM",
          "UDAIPUR_DABOK",
          "VARANASI_BABATPUR",
          "VERAVAL",
          "VISHAKHAPATNAM"
         ],
         "lat": [
          23.883,
          27.1667,
          23.067,
          20.7,
          25.441,
          25.5,
          30.383,
          31.71,
          19.85,
          21.517,
          12.967,
          28.367,
          17.45,
          15.85,
          23.283,
          20.25,
          23.25,
          28,
          18.9,
          19.117,
          22.533,
          22.65,
          25.25,
          25.25,
          14.233,
          11.033,
          11.767,
          20.467,
          24.05,
          26.1667,
          27.05,
          30.317,
          27.483,
          24.267,
          22.3667,
          15.417,
          29.917,
          26.1,
          24.75,
          15.483,
          26.75,
          24.65,
          26.233,
          29.167,
          14.283,
          24.667,
          22.717,
          23.2,
          19.083,
          26.817,
          26.9,
          21.917,
          26.3,
          16.95,
          10.917,
          10.2333,
          25.15,
          11.25,
          15.8,
          26.75,
          30.9333,
          16.2,
          13,
          12.917,
          8.3,
          8.3,
          11.117,
          23.317,
          29.4667,
          21.1,
          14.45,
          28.567,
          28.583,
          27.233,
          9.267,
          30.333,
          25.6,
          14.583,
          22.767,
          18.533,
          11.667,
          21.217,
          22.3,
          18.767,
          16.983,
          23.85,
          20.85,
          24.567,
          25.6,
          31.1,
          17.667,
          24.82,
          34.083,
          21.2,
          26.617,
          8.483,
          10.767,
          8.5,
          24.617,
          25.45,
          20.9,
          17.717
         ],
         "legendgroup": "",
         "lon": [
          91.25,
          78.0333,
          72.633,
          77.033,
          81.735,
          81.9,
          76.767,
          74.797,
          75.4,
          86.933,
          77.583,
          79.4,
          78.47,
          74.617,
          77.35,
          85.833,
          69.667,
          73.3,
          72.8167,
          72.85,
          88.333,
          88.45,
          91.7333,
          91.73,
          76.433,
          77.05,
          79.767,
          85.933,
          84.067,
          85.9,
          88.27,
          78.033,
          95.017,
          87.25,
          69.0833,
          75.633,
          73.917,
          91.583,
          84.95,
          73.817,
          83.367,
          77.317,
          78.25,
          75.733,
          74.45,
          93.9,
          75.8,
          79.95,
          82.033,
          75.8,
          70.917,
          84.083,
          73.017,
          82.233,
          79.833,
          77.4667,
          75.85,
          75.783,
          78.067,
          80.883,
          75.8667,
          81.15,
          80.183,
          74.883,
          73.15,
          73,
          72.733,
          85.317,
          79.65,
          79.05,
          79.983,
          77.117,
          77.2,
          94.117,
          79.3,
          76.467,
          85.1,
          77.633,
          81.9,
          73.85,
          92.717,
          81.667,
          70.783,
          79.433,
          73.333,
          78.75,
          88.25,
          80.833,
          91.89,
          77.167,
          75.9,
          92.83,
          74.833,
          72.833,
          92.783,
          76.95,
          78.717,
          77,
          73.883,
          82.867,
          70.367,
          83.233
         ],
         "marker": {
          "color": [
           -0.006183811129848239,
           -0.09541262135922329,
           0.006730859702591575,
           -0.008062624971095118,
           -0.029375055494716876,
           -0.015456665556137266,
           0.08135080645161286,
           -0.006997925311203316,
           0.012432445591314099,
           -0.008535321622646294,
           0.036048573570818115,
           -0.016921671885378114,
           0.010659470125093384,
           -0.003594076655052256,
           -0.02214120945028583,
           -0.016133488420135553,
           0.06992104800808188,
           0.017180137810346732,
           0.01144580471317541,
           0.03473019082522429,
           -0.010346634984974476,
           -0.016182926829268297,
           0.046505315432052705,
           -0.02196969696969707,
           0.015587015613548466,
           0.03437011427849289,
           0.02080581199666612,
           -0.010054644808743168,
           -0.004619796704508831,
           -0.07155016642891111,
           -0.04013292433537832,
           0.04361124694376528,
           0.051959662288930585,
           -0.0820879120879119,
           0.016960521326348618,
           0.008918216844784598,
           -0.007582417582417617,
           0.014095447695660186,
           -0.018130769230769214,
           0.02239895470383278,
           0.003939848437006616,
           -0.009171504550732231,
           -0.01839535532717763,
           -0.0033838255106870946,
           -0.049173300673606916,
           0.06331277990523787,
           0.0030051678590023037,
           -0.025226394467890417,
           -0.00013828899634456642,
           0.0067478731994967045,
           0.0026152359277330007,
           -0.018483861496963124,
           0.009676089101931486,
           0.026016631128165647,
           0.021293478260869626,
           0.06909090909090908,
           -0.018580394821543528,
           0.033391006056707945,
           0.025653099244929176,
           -0.037226267748478696,
           0.13179063360881538,
           0.012267045919423226,
           0.023744845901181068,
           0.023289171185398118,
           0.02521047670617493,
           0.014113772841738221,
           -0.006249999999999861,
           0.005267073384831474,
           0.01548473928233975,
           -0.02462120461695937,
           0.023466851259131335,
           0.0055877034358047025,
           -0.0024094076655052274,
           0.09547548433389141,
           0.024844173744931843,
           -0.011647126557102462,
           -0.02185513438609661,
           0.026258125009932767,
           -0.009553449032801422,
           -0.0004445988190343688,
           0.030734217877094974,
           0.0014272108363610858,
           0.015685536018150887,
           -0.00888194853663324,
           0.003240895098029197,
           0.001539546031298452,
           -0.052447665056360705,
           -0.022613636363636384,
           0.013454496208017325,
           0.004006465200568155,
           0.003781739503612052,
           0.016082518381040734,
           0.04876296814627764,
           0.02319921542925803,
           0.039424522224608086,
           0.016190897001659443,
           0.014605567154412198,
           0.022892088111541913,
           0.07242424242424235,
           -0.012996067688773023,
           0.024848432055749117,
           -0.03404972919743971
          ],
          "coloraxis": "coloraxis"
         },
         "mode": "markers",
         "name": "",
         "showlegend": false,
         "subplot": "mapbox",
         "type": "scattermapbox"
        }
       ],
       "layout": {
        "coloraxis": {
         "cmid": 0,
         "colorbar": {
          "title": {
           "font": {
            "size": 12
           },
           "text": "Avg Yearly Increase(C)"
          },
          "xpad": 0
         },
         "colorscale": [
          [
           0,
           "rgb(26,26,26)"
          ],
          [
           0.1,
           "rgb(77,77,77)"
          ],
          [
           0.2,
           "rgb(135,135,135)"
          ],
          [
           0.3,
           "rgb(186,186,186)"
          ],
          [
           0.4,
           "rgb(224,224,224)"
          ],
          [
           0.5,
           "rgb(255,255,255)"
          ],
          [
           0.6,
           "rgb(253,219,199)"
          ],
          [
           0.7,
           "rgb(244,165,130)"
          ],
          [
           0.8,
           "rgb(214,96,77)"
          ],
          [
           0.9,
           "rgb(178,24,43)"
          ],
          [
           1,
           "rgb(103,0,31)"
          ]
         ]
        },
        "height": 300,
        "legend": {
         "tracegroupgap": 0
        },
        "mapbox": {
         "center": {
          "lat": 21.423778431372547,
          "lon": 79.85018627450978
         },
         "domain": {
          "x": [
           0,
           1
          ],
          "y": [
           0,
           1
          ]
         },
         "style": "carto-positron",
         "zoom": 2
        },
        "margin": {
         "b": 0,
         "l": 0,
         "r": 0,
         "t": 0
        },
        "template": {
         "data": {
          "bar": [
           {
            "error_x": {
             "color": "#2a3f5f"
            },
            "error_y": {
             "color": "#2a3f5f"
            },
            "marker": {
             "line": {
              "color": "#E5ECF6",
              "width": 0.5
             },
             "pattern": {
              "fillmode": "overlay",
              "size": 10,
              "solidity": 0.2
             }
            },
            "type": "bar"
           }
          ],
          "barpolar": [
           {
            "marker": {
             "line": {
              "color": "#E5ECF6",
              "width": 0.5
             },
             "pattern": {
              "fillmode": "overlay",
              "size": 10,
              "solidity": 0.2
             }
            },
            "type": "barpolar"
           }
          ],
          "carpet": [
           {
            "aaxis": {
             "endlinecolor": "#2a3f5f",
             "gridcolor": "white",
             "linecolor": "white",
             "minorgridcolor": "white",
             "startlinecolor": "#2a3f5f"
            },
            "baxis": {
             "endlinecolor": "#2a3f5f",
             "gridcolor": "white",
             "linecolor": "white",
             "minorgridcolor": "white",
             "startlinecolor": "#2a3f5f"
            },
            "type": "carpet"
           }
          ],
          "choropleth": [
           {
            "colorbar": {
             "outlinewidth": 0,
             "ticks": ""
            },
            "type": "choropleth"
           }
          ],
          "contour": [
           {
            "colorbar": {
             "outlinewidth": 0,
             "ticks": ""
            },
            "colorscale": [
             [
              0,
              "#0d0887"
             ],
             [
              0.1111111111111111,
              "#46039f"
             ],
             [
              0.2222222222222222,
              "#7201a8"
             ],
             [
              0.3333333333333333,
              "#9c179e"
             ],
             [
              0.4444444444444444,
              "#bd3786"
             ],
             [
              0.5555555555555556,
              "#d8576b"
             ],
             [
              0.6666666666666666,
              "#ed7953"
             ],
             [
              0.7777777777777778,
              "#fb9f3a"
             ],
             [
              0.8888888888888888,
              "#fdca26"
             ],
             [
              1,
              "#f0f921"
             ]
            ],
            "type": "contour"
           }
          ],
          "contourcarpet": [
           {
            "colorbar": {
             "outlinewidth": 0,
             "ticks": ""
            },
            "type": "contourcarpet"
           }
          ],
          "heatmap": [
           {
            "colorbar": {
             "outlinewidth": 0,
             "ticks": ""
            },
            "colorscale": [
             [
              0,
              "#0d0887"
             ],
             [
              0.1111111111111111,
              "#46039f"
             ],
             [
              0.2222222222222222,
              "#7201a8"
             ],
             [
              0.3333333333333333,
              "#9c179e"
             ],
             [
              0.4444444444444444,
              "#bd3786"
             ],
             [
              0.5555555555555556,
              "#d8576b"
             ],
             [
              0.6666666666666666,
              "#ed7953"
             ],
             [
              0.7777777777777778,
              "#fb9f3a"
             ],
             [
              0.8888888888888888,
              "#fdca26"
             ],
             [
              1,
              "#f0f921"
             ]
            ],
            "type": "heatmap"
           }
          ],
          "heatmapgl": [
           {
            "colorbar": {
             "outlinewidth": 0,
             "ticks": ""
            },
            "colorscale": [
             [
              0,
              "#0d0887"
             ],
             [
              0.1111111111111111,
              "#46039f"
             ],
             [
              0.2222222222222222,
              "#7201a8"
             ],
             [
              0.3333333333333333,
              "#9c179e"
             ],
             [
              0.4444444444444444,
              "#bd3786"
             ],
             [
              0.5555555555555556,
              "#d8576b"
             ],
             [
              0.6666666666666666,
              "#ed7953"
             ],
             [
              0.7777777777777778,
              "#fb9f3a"
             ],
             [
              0.8888888888888888,
              "#fdca26"
             ],
             [
              1,
              "#f0f921"
             ]
            ],
            "type": "heatmapgl"
           }
          ],
          "histogram": [
           {
            "marker": {
             "pattern": {
              "fillmode": "overlay",
              "size": 10,
              "solidity": 0.2
             }
            },
            "type": "histogram"
           }
          ],
          "histogram2d": [
           {
            "colorbar": {
             "outlinewidth": 0,
             "ticks": ""
            },
            "colorscale": [
             [
              0,
              "#0d0887"
             ],
             [
              0.1111111111111111,
              "#46039f"
             ],
             [
              0.2222222222222222,
              "#7201a8"
             ],
             [
              0.3333333333333333,
              "#9c179e"
             ],
             [
              0.4444444444444444,
              "#bd3786"
             ],
             [
              0.5555555555555556,
              "#d8576b"
             ],
             [
              0.6666666666666666,
              "#ed7953"
             ],
             [
              0.7777777777777778,
              "#fb9f3a"
             ],
             [
              0.8888888888888888,
              "#fdca26"
             ],
             [
              1,
              "#f0f921"
             ]
            ],
            "type": "histogram2d"
           }
          ],
          "histogram2dcontour": [
           {
            "colorbar": {
             "outlinewidth": 0,
             "ticks": ""
            },
            "colorscale": [
             [
              0,
              "#0d0887"
             ],
             [
              0.1111111111111111,
              "#46039f"
             ],
             [
              0.2222222222222222,
              "#7201a8"
             ],
             [
              0.3333333333333333,
              "#9c179e"
             ],
             [
              0.4444444444444444,
              "#bd3786"
             ],
             [
              0.5555555555555556,
              "#d8576b"
             ],
             [
              0.6666666666666666,
              "#ed7953"
             ],
             [
              0.7777777777777778,
              "#fb9f3a"
             ],
             [
              0.8888888888888888,
              "#fdca26"
             ],
             [
              1,
              "#f0f921"
             ]
            ],
            "type": "histogram2dcontour"
           }
          ],
          "mesh3d": [
           {
            "colorbar": {
             "outlinewidth": 0,
             "ticks": ""
            },
            "type": "mesh3d"
           }
          ],
          "parcoords": [
           {
            "line": {
             "colorbar": {
              "outlinewidth": 0,
              "ticks": ""
             }
            },
            "type": "parcoords"
           }
          ],
          "pie": [
           {
            "automargin": true,
            "type": "pie"
           }
          ],
          "scatter": [
           {
            "marker": {
             "colorbar": {
              "outlinewidth": 0,
              "ticks": ""
             }
            },
            "type": "scatter"
           }
          ],
          "scatter3d": [
           {
            "line": {
             "colorbar": {
              "outlinewidth": 0,
              "ticks": ""
             }
            },
            "marker": {
             "colorbar": {
              "outlinewidth": 0,
              "ticks": ""
             }
            },
            "type": "scatter3d"
           }
          ],
          "scattercarpet": [
           {
            "marker": {
             "colorbar": {
              "outlinewidth": 0,
              "ticks": ""
             }
            },
            "type": "scattercarpet"
           }
          ],
          "scattergeo": [
           {
            "marker": {
             "colorbar": {
              "outlinewidth": 0,
              "ticks": ""
             }
            },
            "type": "scattergeo"
           }
          ],
          "scattergl": [
           {
            "marker": {
             "colorbar": {
              "outlinewidth": 0,
              "ticks": ""
             }
            },
            "type": "scattergl"
           }
          ],
          "scattermapbox": [
           {
            "marker": {
             "colorbar": {
              "outlinewidth": 0,
              "ticks": ""
             }
            },
            "type": "scattermapbox"
           }
          ],
          "scatterpolar": [
           {
            "marker": {
             "colorbar": {
              "outlinewidth": 0,
              "ticks": ""
             }
            },
            "type": "scatterpolar"
           }
          ],
          "scatterpolargl": [
           {
            "marker": {
             "colorbar": {
              "outlinewidth": 0,
              "ticks": ""
             }
            },
            "type": "scatterpolargl"
           }
          ],
          "scatterternary": [
           {
            "marker": {
             "colorbar": {
              "outlinewidth": 0,
              "ticks": ""
             }
            },
            "type": "scatterternary"
           }
          ],
          "surface": [
           {
            "colorbar": {
             "outlinewidth": 0,
             "ticks": ""
            },
            "colorscale": [
             [
              0,
              "#0d0887"
             ],
             [
              0.1111111111111111,
              "#46039f"
             ],
             [
              0.2222222222222222,
              "#7201a8"
             ],
             [
              0.3333333333333333,
              "#9c179e"
             ],
             [
              0.4444444444444444,
              "#bd3786"
             ],
             [
              0.5555555555555556,
              "#d8576b"
             ],
             [
              0.6666666666666666,
              "#ed7953"
             ],
             [
              0.7777777777777778,
              "#fb9f3a"
             ],
             [
              0.8888888888888888,
              "#fdca26"
             ],
             [
              1,
              "#f0f921"
             ]
            ],
            "type": "surface"
           }
          ],
          "table": [
           {
            "cells": {
             "fill": {
              "color": "#EBF0F8"
             },
             "line": {
              "color": "white"
             }
            },
            "header": {
             "fill": {
              "color": "#C8D4E3"
             },
             "line": {
              "color": "white"
             }
            },
            "type": "table"
           }
          ]
         },
         "layout": {
          "annotationdefaults": {
           "arrowcolor": "#2a3f5f",
           "arrowhead": 0,
           "arrowwidth": 1
          },
          "autotypenumbers": "strict",
          "coloraxis": {
           "colorbar": {
            "outlinewidth": 0,
            "ticks": ""
           }
          },
          "colorscale": {
           "diverging": [
            [
             0,
             "#8e0152"
            ],
            [
             0.1,
             "#c51b7d"
            ],
            [
             0.2,
             "#de77ae"
            ],
            [
             0.3,
             "#f1b6da"
            ],
            [
             0.4,
             "#fde0ef"
            ],
            [
             0.5,
             "#f7f7f7"
            ],
            [
             0.6,
             "#e6f5d0"
            ],
            [
             0.7,
             "#b8e186"
            ],
            [
             0.8,
             "#7fbc41"
            ],
            [
             0.9,
             "#4d9221"
            ],
            [
             1,
             "#276419"
            ]
           ],
           "sequential": [
            [
             0,
             "#0d0887"
            ],
            [
             0.1111111111111111,
             "#46039f"
            ],
            [
             0.2222222222222222,
             "#7201a8"
            ],
            [
             0.3333333333333333,
             "#9c179e"
            ],
            [
             0.4444444444444444,
             "#bd3786"
            ],
            [
             0.5555555555555556,
             "#d8576b"
            ],
            [
             0.6666666666666666,
             "#ed7953"
            ],
            [
             0.7777777777777778,
             "#fb9f3a"
            ],
            [
             0.8888888888888888,
             "#fdca26"
            ],
            [
             1,
             "#f0f921"
            ]
           ],
           "sequentialminus": [
            [
             0,
             "#0d0887"
            ],
            [
             0.1111111111111111,
             "#46039f"
            ],
            [
             0.2222222222222222,
             "#7201a8"
            ],
            [
             0.3333333333333333,
             "#9c179e"
            ],
            [
             0.4444444444444444,
             "#bd3786"
            ],
            [
             0.5555555555555556,
             "#d8576b"
            ],
            [
             0.6666666666666666,
             "#ed7953"
            ],
            [
             0.7777777777777778,
             "#fb9f3a"
            ],
            [
             0.8888888888888888,
             "#fdca26"
            ],
            [
             1,
             "#f0f921"
            ]
           ]
          },
          "colorway": [
           "#636efa",
           "#EF553B",
           "#00cc96",
           "#ab63fa",
           "#FFA15A",
           "#19d3f3",
           "#FF6692",
           "#B6E880",
           "#FF97FF",
           "#FECB52"
          ],
          "font": {
           "color": "#2a3f5f"
          },
          "geo": {
           "bgcolor": "white",
           "lakecolor": "white",
           "landcolor": "#E5ECF6",
           "showlakes": true,
           "showland": true,
           "subunitcolor": "white"
          },
          "hoverlabel": {
           "align": "left"
          },
          "hovermode": "closest",
          "mapbox": {
           "style": "light"
          },
          "paper_bgcolor": "white",
          "plot_bgcolor": "#E5ECF6",
          "polar": {
           "angularaxis": {
            "gridcolor": "white",
            "linecolor": "white",
            "ticks": ""
           },
           "bgcolor": "#E5ECF6",
           "radialaxis": {
            "gridcolor": "white",
            "linecolor": "white",
            "ticks": ""
           }
          },
          "scene": {
           "xaxis": {
            "backgroundcolor": "#E5ECF6",
            "gridcolor": "white",
            "gridwidth": 2,
            "linecolor": "white",
            "showbackground": true,
            "ticks": "",
            "zerolinecolor": "white"
           },
           "yaxis": {
            "backgroundcolor": "#E5ECF6",
            "gridcolor": "white",
            "gridwidth": 2,
            "linecolor": "white",
            "showbackground": true,
            "ticks": "",
            "zerolinecolor": "white"
           },
           "zaxis": {
            "backgroundcolor": "#E5ECF6",
            "gridcolor": "white",
            "gridwidth": 2,
            "linecolor": "white",
            "showbackground": true,
            "ticks": "",
            "zerolinecolor": "white"
           }
          },
          "shapedefaults": {
           "line": {
            "color": "#2a3f5f"
           }
          },
          "ternary": {
           "aaxis": {
            "gridcolor": "white",
            "linecolor": "white",
            "ticks": ""
           },
           "baxis": {
            "gridcolor": "white",
            "linecolor": "white",
            "ticks": ""
           },
           "bgcolor": "#E5ECF6",
           "caxis": {
            "gridcolor": "white",
            "linecolor": "white",
            "ticks": ""
           }
          },
          "title": {
           "x": 0.05
          },
          "xaxis": {
           "automargin": true,
           "gridcolor": "white",
           "linecolor": "white",
           "ticks": "",
           "title": {
            "standoff": 15
           },
           "zerolinecolor": "white",
           "zerolinewidth": 2
          },
          "yaxis": {
           "automargin": true,
           "gridcolor": "white",
           "linecolor": "white",
           "ticks": "",
           "title": {
            "standoff": 15
           },
           "zerolinecolor": "white",
           "zerolinewidth": 2
          }
         }
        }
       }
      },
      "text/html": [
       "<div>                            <div id=\"f6b1e018-124c-4c3c-ae4c-c39da8ae268a\" class=\"plotly-graph-div\" style=\"height:300px; width:100%;\"></div>            <script type=\"text/javascript\">                require([\"plotly\"], function(Plotly) {                    window.PLOTLYENV=window.PLOTLYENV || {};                                    if (document.getElementById(\"f6b1e018-124c-4c3c-ae4c-c39da8ae268a\")) {                    Plotly.newPlot(                        \"f6b1e018-124c-4c3c-ae4c-c39da8ae268a\",                        [{\"hovertemplate\":\"<b>%{hovertext}</b><br><br>LATITUDE=%{lat}<br>LONGITUDE=%{lon}<br>change=%{marker.color}<extra></extra>\",\"hovertext\":[\"AGARTALA\",\"AGRA\",\"AHMADABAD\",\"AKOLA\",\"ALLAHABAD\",\"ALLAHABAD_BAMHRAULI\",\"AMBALA\",\"AMRITSAR\",\"AURANGABAD_CHIKALTH\",\"BALASORE\",\"BANGALORE\",\"BAREILLY\",\"BEGUMPETOBSY\",\"BELGAUM_SAMBRA\",\"BHOPAL_BAIRAGARH\",\"BHUBANESWAR\",\"BHUJ_RUDRAMATA\",\"BIKANER\",\"BOMBAY_COLABA\",\"BOMBAY_SANTACRUZ\",\"CALCUTTA_ALIPORE\",\"CALCUTTA_DUM_DUM\",\"CHERRAPUNJI\",\"CHERRA_POONJEE\",\"CHITRADURGA\",\"COIMBATORE_PEELAMED\",\"CUDDALORE\",\"CUTTACK\",\"DALTONGANJ\",\"DARBHANGA\",\"DARJEELING\",\"DEHRADUN\",\"DIBRUGARH_MOHANBAR\",\"DUMKA\",\"DWARKA\",\"GADAG\",\"GANGANAGAR\",\"GAUHATI\",\"GAYA\",\"GOA_PANJIM\",\"GORAKHPUR\",\"GUNA\",\"GWALIOR\",\"HISSAR\",\"HONAVAR\",\"IMPHAL\",\"INDORE\",\"JABALPUR\",\"JAGDALPUR\",\"JAIPUR_SANGANER\",\"JAISALMER\",\"JHARSUGUDA\",\"JODHPUR\",\"KAKINADA\",\"KARAIKAL\",\"KODAIKANAL\",\"KOTA_AERODROME\",\"KOZHIKODE\",\"KURNOOL\",\"LUCKNOW_AMAUSI\",\"LUDHIANA\",\"MACHILIPATNAM\",\"MADRAS_MINAMBAKKAM\",\"MANGALORE_BAJPE\",\"MINICOY\",\"MINICOYOBSY\",\"MO_AMINI\",\"MO_RANCHI\",\"MUKTESWAR_KUMAON\",\"NAGPUR_SONEGAON\",\"NELLORE\",\"NEW_DELHI_PALAM\",\"NEW_DELHI_SAFDARJUN\",\"NORTH_LAKHIMPUR\",\"PAMBAN\",\"PATIALA\",\"PATNA\",\"PBO_ANANTAPUR\",\"PENDRA_ROAD\",\"POONA\",\"PORT_BLAIR\",\"RAIPUR\",\"RAJKOT\",\"RAMGUNDAM\",\"RATNAGIRI\",\"SAGAR\",\"SANDHEADS\",\"SATNA\",\"SHILONG\",\"SHIMLA\",\"SHOLAPUR\",\"SILCHAR\",\"SRINAGAR\",\"SURAT\",\"TEZPUR\",\"THIRUVANANTHAPURAM\",\"TIRUCHCHIRAPALLI\",\"TRIVANDRUM\",\"UDAIPUR_DABOK\",\"VARANASI_BABATPUR\",\"VERAVAL\",\"VISHAKHAPATNAM\"],\"lat\":[23.883,27.1667,23.067,20.7,25.441,25.5,30.383,31.71,19.85,21.517,12.967,28.367,17.45,15.85,23.283,20.25,23.25,28.0,18.9,19.117,22.533,22.65,25.25,25.25,14.233,11.033,11.767,20.467,24.05,26.1667,27.05,30.317,27.483,24.267,22.3667,15.417,29.917,26.1,24.75,15.483,26.75,24.65,26.233,29.167,14.283,24.667,22.717,23.2,19.083,26.817,26.9,21.917,26.3,16.95,10.917,10.2333,25.15,11.25,15.8,26.75,30.9333,16.2,13.0,12.917,8.3,8.3,11.117,23.317,29.4667,21.1,14.45,28.567,28.583,27.233,9.267,30.333,25.6,14.583,22.767,18.533,11.667,21.217,22.3,18.767,16.983,23.85,20.85,24.567,25.6,31.1,17.667,24.82,34.083,21.2,26.617,8.483,10.767,8.5,24.617,25.45,20.9,17.717],\"legendgroup\":\"\",\"lon\":[91.25,78.0333,72.633,77.033,81.735,81.9,76.767,74.797,75.4,86.933,77.583,79.4,78.47,74.617,77.35,85.833,69.667,73.3,72.8167,72.85,88.333,88.45,91.7333,91.73,76.433,77.05,79.767,85.933,84.067,85.9,88.27,78.033,95.017,87.25,69.0833,75.633,73.917,91.583,84.95,73.817,83.367,77.317,78.25,75.733,74.45,93.9,75.8,79.95,82.033,75.8,70.917,84.083,73.017,82.233,79.833,77.4667,75.85,75.783,78.067,80.883,75.8667,81.15,80.183,74.883,73.15,73.0,72.733,85.317,79.65,79.05,79.983,77.117,77.2,94.117,79.3,76.467,85.1,77.633,81.9,73.85,92.717,81.667,70.783,79.433,73.333,78.75,88.25,80.833,91.89,77.167,75.9,92.83,74.833,72.833,92.783,76.95,78.717,77.0,73.883,82.867,70.367,83.233],\"marker\":{\"color\":[-0.006183811129848239,-0.09541262135922329,0.006730859702591575,-0.008062624971095118,-0.029375055494716876,-0.015456665556137266,0.08135080645161286,-0.006997925311203316,0.012432445591314099,-0.008535321622646294,0.036048573570818115,-0.016921671885378114,0.010659470125093384,-0.003594076655052256,-0.02214120945028583,-0.016133488420135553,0.06992104800808188,0.017180137810346732,0.01144580471317541,0.03473019082522429,-0.010346634984974476,-0.016182926829268297,0.046505315432052705,-0.02196969696969707,0.015587015613548466,0.03437011427849289,0.02080581199666612,-0.010054644808743168,-0.004619796704508831,-0.07155016642891111,-0.04013292433537832,0.04361124694376528,0.051959662288930585,-0.0820879120879119,0.016960521326348618,0.008918216844784598,-0.007582417582417617,0.014095447695660186,-0.018130769230769214,0.02239895470383278,0.003939848437006616,-0.009171504550732231,-0.01839535532717763,-0.0033838255106870946,-0.049173300673606916,0.06331277990523787,0.0030051678590023037,-0.025226394467890417,-0.00013828899634456642,0.0067478731994967045,0.0026152359277330007,-0.018483861496963124,0.009676089101931486,0.026016631128165647,0.021293478260869626,0.06909090909090908,-0.018580394821543528,0.033391006056707945,0.025653099244929176,-0.037226267748478696,0.13179063360881538,0.012267045919423226,0.023744845901181068,0.023289171185398118,0.02521047670617493,0.014113772841738221,-0.006249999999999861,0.005267073384831474,0.01548473928233975,-0.02462120461695937,0.023466851259131335,0.0055877034358047025,-0.0024094076655052274,0.09547548433389141,0.024844173744931843,-0.011647126557102462,-0.02185513438609661,0.026258125009932767,-0.009553449032801422,-0.0004445988190343688,0.030734217877094974,0.0014272108363610858,0.015685536018150887,-0.00888194853663324,0.003240895098029197,0.001539546031298452,-0.052447665056360705,-0.022613636363636384,0.013454496208017325,0.004006465200568155,0.003781739503612052,0.016082518381040734,0.04876296814627764,0.02319921542925803,0.039424522224608086,0.016190897001659443,0.014605567154412198,0.022892088111541913,0.07242424242424235,-0.012996067688773023,0.024848432055749117,-0.03404972919743971],\"coloraxis\":\"coloraxis\"},\"mode\":\"markers\",\"name\":\"\",\"showlegend\":false,\"subplot\":\"mapbox\",\"type\":\"scattermapbox\"}],                        {\"coloraxis\":{\"cmid\":0,\"colorbar\":{\"title\":{\"font\":{\"size\":12},\"text\":\"Avg Yearly Increase(C)\"},\"xpad\":0},\"colorscale\":[[0.0,\"rgb(26,26,26)\"],[0.1,\"rgb(77,77,77)\"],[0.2,\"rgb(135,135,135)\"],[0.3,\"rgb(186,186,186)\"],[0.4,\"rgb(224,224,224)\"],[0.5,\"rgb(255,255,255)\"],[0.6,\"rgb(253,219,199)\"],[0.7,\"rgb(244,165,130)\"],[0.8,\"rgb(214,96,77)\"],[0.9,\"rgb(178,24,43)\"],[1.0,\"rgb(103,0,31)\"]]},\"height\":300,\"legend\":{\"tracegroupgap\":0},\"mapbox\":{\"center\":{\"lat\":21.423778431372547,\"lon\":79.85018627450978},\"domain\":{\"x\":[0.0,1.0],\"y\":[0.0,1.0]},\"style\":\"carto-positron\",\"zoom\":2},\"margin\":{\"b\":0,\"l\":0,\"r\":0,\"t\":0},\"template\":{\"data\":{\"bar\":[{\"error_x\":{\"color\":\"#2a3f5f\"},\"error_y\":{\"color\":\"#2a3f5f\"},\"marker\":{\"line\":{\"color\":\"#E5ECF6\",\"width\":0.5},\"pattern\":{\"fillmode\":\"overlay\",\"size\":10,\"solidity\":0.2}},\"type\":\"bar\"}],\"barpolar\":[{\"marker\":{\"line\":{\"color\":\"#E5ECF6\",\"width\":0.5},\"pattern\":{\"fillmode\":\"overlay\",\"size\":10,\"solidity\":0.2}},\"type\":\"barpolar\"}],\"carpet\":[{\"aaxis\":{\"endlinecolor\":\"#2a3f5f\",\"gridcolor\":\"white\",\"linecolor\":\"white\",\"minorgridcolor\":\"white\",\"startlinecolor\":\"#2a3f5f\"},\"baxis\":{\"endlinecolor\":\"#2a3f5f\",\"gridcolor\":\"white\",\"linecolor\":\"white\",\"minorgridcolor\":\"white\",\"startlinecolor\":\"#2a3f5f\"},\"type\":\"carpet\"}],\"choropleth\":[{\"colorbar\":{\"outlinewidth\":0,\"ticks\":\"\"},\"type\":\"choropleth\"}],\"contour\":[{\"colorbar\":{\"outlinewidth\":0,\"ticks\":\"\"},\"colorscale\":[[0.0,\"#0d0887\"],[0.1111111111111111,\"#46039f\"],[0.2222222222222222,\"#7201a8\"],[0.3333333333333333,\"#9c179e\"],[0.4444444444444444,\"#bd3786\"],[0.5555555555555556,\"#d8576b\"],[0.6666666666666666,\"#ed7953\"],[0.7777777777777778,\"#fb9f3a\"],[0.8888888888888888,\"#fdca26\"],[1.0,\"#f0f921\"]],\"type\":\"contour\"}],\"contourcarpet\":[{\"colorbar\":{\"outlinewidth\":0,\"ticks\":\"\"},\"type\":\"contourcarpet\"}],\"heatmap\":[{\"colorbar\":{\"outlinewidth\":0,\"ticks\":\"\"},\"colorscale\":[[0.0,\"#0d0887\"],[0.1111111111111111,\"#46039f\"],[0.2222222222222222,\"#7201a8\"],[0.3333333333333333,\"#9c179e\"],[0.4444444444444444,\"#bd3786\"],[0.5555555555555556,\"#d8576b\"],[0.6666666666666666,\"#ed7953\"],[0.7777777777777778,\"#fb9f3a\"],[0.8888888888888888,\"#fdca26\"],[1.0,\"#f0f921\"]],\"type\":\"heatmap\"}],\"heatmapgl\":[{\"colorbar\":{\"outlinewidth\":0,\"ticks\":\"\"},\"colorscale\":[[0.0,\"#0d0887\"],[0.1111111111111111,\"#46039f\"],[0.2222222222222222,\"#7201a8\"],[0.3333333333333333,\"#9c179e\"],[0.4444444444444444,\"#bd3786\"],[0.5555555555555556,\"#d8576b\"],[0.6666666666666666,\"#ed7953\"],[0.7777777777777778,\"#fb9f3a\"],[0.8888888888888888,\"#fdca26\"],[1.0,\"#f0f921\"]],\"type\":\"heatmapgl\"}],\"histogram\":[{\"marker\":{\"pattern\":{\"fillmode\":\"overlay\",\"size\":10,\"solidity\":0.2}},\"type\":\"histogram\"}],\"histogram2d\":[{\"colorbar\":{\"outlinewidth\":0,\"ticks\":\"\"},\"colorscale\":[[0.0,\"#0d0887\"],[0.1111111111111111,\"#46039f\"],[0.2222222222222222,\"#7201a8\"],[0.3333333333333333,\"#9c179e\"],[0.4444444444444444,\"#bd3786\"],[0.5555555555555556,\"#d8576b\"],[0.6666666666666666,\"#ed7953\"],[0.7777777777777778,\"#fb9f3a\"],[0.8888888888888888,\"#fdca26\"],[1.0,\"#f0f921\"]],\"type\":\"histogram2d\"}],\"histogram2dcontour\":[{\"colorbar\":{\"outlinewidth\":0,\"ticks\":\"\"},\"colorscale\":[[0.0,\"#0d0887\"],[0.1111111111111111,\"#46039f\"],[0.2222222222222222,\"#7201a8\"],[0.3333333333333333,\"#9c179e\"],[0.4444444444444444,\"#bd3786\"],[0.5555555555555556,\"#d8576b\"],[0.6666666666666666,\"#ed7953\"],[0.7777777777777778,\"#fb9f3a\"],[0.8888888888888888,\"#fdca26\"],[1.0,\"#f0f921\"]],\"type\":\"histogram2dcontour\"}],\"mesh3d\":[{\"colorbar\":{\"outlinewidth\":0,\"ticks\":\"\"},\"type\":\"mesh3d\"}],\"parcoords\":[{\"line\":{\"colorbar\":{\"outlinewidth\":0,\"ticks\":\"\"}},\"type\":\"parcoords\"}],\"pie\":[{\"automargin\":true,\"type\":\"pie\"}],\"scatter\":[{\"marker\":{\"colorbar\":{\"outlinewidth\":0,\"ticks\":\"\"}},\"type\":\"scatter\"}],\"scatter3d\":[{\"line\":{\"colorbar\":{\"outlinewidth\":0,\"ticks\":\"\"}},\"marker\":{\"colorbar\":{\"outlinewidth\":0,\"ticks\":\"\"}},\"type\":\"scatter3d\"}],\"scattercarpet\":[{\"marker\":{\"colorbar\":{\"outlinewidth\":0,\"ticks\":\"\"}},\"type\":\"scattercarpet\"}],\"scattergeo\":[{\"marker\":{\"colorbar\":{\"outlinewidth\":0,\"ticks\":\"\"}},\"type\":\"scattergeo\"}],\"scattergl\":[{\"marker\":{\"colorbar\":{\"outlinewidth\":0,\"ticks\":\"\"}},\"type\":\"scattergl\"}],\"scattermapbox\":[{\"marker\":{\"colorbar\":{\"outlinewidth\":0,\"ticks\":\"\"}},\"type\":\"scattermapbox\"}],\"scatterpolar\":[{\"marker\":{\"colorbar\":{\"outlinewidth\":0,\"ticks\":\"\"}},\"type\":\"scatterpolar\"}],\"scatterpolargl\":[{\"marker\":{\"colorbar\":{\"outlinewidth\":0,\"ticks\":\"\"}},\"type\":\"scatterpolargl\"}],\"scatterternary\":[{\"marker\":{\"colorbar\":{\"outlinewidth\":0,\"ticks\":\"\"}},\"type\":\"scatterternary\"}],\"surface\":[{\"colorbar\":{\"outlinewidth\":0,\"ticks\":\"\"},\"colorscale\":[[0.0,\"#0d0887\"],[0.1111111111111111,\"#46039f\"],[0.2222222222222222,\"#7201a8\"],[0.3333333333333333,\"#9c179e\"],[0.4444444444444444,\"#bd3786\"],[0.5555555555555556,\"#d8576b\"],[0.6666666666666666,\"#ed7953\"],[0.7777777777777778,\"#fb9f3a\"],[0.8888888888888888,\"#fdca26\"],[1.0,\"#f0f921\"]],\"type\":\"surface\"}],\"table\":[{\"cells\":{\"fill\":{\"color\":\"#EBF0F8\"},\"line\":{\"color\":\"white\"}},\"header\":{\"fill\":{\"color\":\"#C8D4E3\"},\"line\":{\"color\":\"white\"}},\"type\":\"table\"}]},\"layout\":{\"annotationdefaults\":{\"arrowcolor\":\"#2a3f5f\",\"arrowhead\":0,\"arrowwidth\":1},\"autotypenumbers\":\"strict\",\"coloraxis\":{\"colorbar\":{\"outlinewidth\":0,\"ticks\":\"\"}},\"colorscale\":{\"diverging\":[[0,\"#8e0152\"],[0.1,\"#c51b7d\"],[0.2,\"#de77ae\"],[0.3,\"#f1b6da\"],[0.4,\"#fde0ef\"],[0.5,\"#f7f7f7\"],[0.6,\"#e6f5d0\"],[0.7,\"#b8e186\"],[0.8,\"#7fbc41\"],[0.9,\"#4d9221\"],[1,\"#276419\"]],\"sequential\":[[0.0,\"#0d0887\"],[0.1111111111111111,\"#46039f\"],[0.2222222222222222,\"#7201a8\"],[0.3333333333333333,\"#9c179e\"],[0.4444444444444444,\"#bd3786\"],[0.5555555555555556,\"#d8576b\"],[0.6666666666666666,\"#ed7953\"],[0.7777777777777778,\"#fb9f3a\"],[0.8888888888888888,\"#fdca26\"],[1.0,\"#f0f921\"]],\"sequentialminus\":[[0.0,\"#0d0887\"],[0.1111111111111111,\"#46039f\"],[0.2222222222222222,\"#7201a8\"],[0.3333333333333333,\"#9c179e\"],[0.4444444444444444,\"#bd3786\"],[0.5555555555555556,\"#d8576b\"],[0.6666666666666666,\"#ed7953\"],[0.7777777777777778,\"#fb9f3a\"],[0.8888888888888888,\"#fdca26\"],[1.0,\"#f0f921\"]]},\"colorway\":[\"#636efa\",\"#EF553B\",\"#00cc96\",\"#ab63fa\",\"#FFA15A\",\"#19d3f3\",\"#FF6692\",\"#B6E880\",\"#FF97FF\",\"#FECB52\"],\"font\":{\"color\":\"#2a3f5f\"},\"geo\":{\"bgcolor\":\"white\",\"lakecolor\":\"white\",\"landcolor\":\"#E5ECF6\",\"showlakes\":true,\"showland\":true,\"subunitcolor\":\"white\"},\"hoverlabel\":{\"align\":\"left\"},\"hovermode\":\"closest\",\"mapbox\":{\"style\":\"light\"},\"paper_bgcolor\":\"white\",\"plot_bgcolor\":\"#E5ECF6\",\"polar\":{\"angularaxis\":{\"gridcolor\":\"white\",\"linecolor\":\"white\",\"ticks\":\"\"},\"bgcolor\":\"#E5ECF6\",\"radialaxis\":{\"gridcolor\":\"white\",\"linecolor\":\"white\",\"ticks\":\"\"}},\"scene\":{\"xaxis\":{\"backgroundcolor\":\"#E5ECF6\",\"gridcolor\":\"white\",\"gridwidth\":2,\"linecolor\":\"white\",\"showbackground\":true,\"ticks\":\"\",\"zerolinecolor\":\"white\"},\"yaxis\":{\"backgroundcolor\":\"#E5ECF6\",\"gridcolor\":\"white\",\"gridwidth\":2,\"linecolor\":\"white\",\"showbackground\":true,\"ticks\":\"\",\"zerolinecolor\":\"white\"},\"zaxis\":{\"backgroundcolor\":\"#E5ECF6\",\"gridcolor\":\"white\",\"gridwidth\":2,\"linecolor\":\"white\",\"showbackground\":true,\"ticks\":\"\",\"zerolinecolor\":\"white\"}},\"shapedefaults\":{\"line\":{\"color\":\"#2a3f5f\"}},\"ternary\":{\"aaxis\":{\"gridcolor\":\"white\",\"linecolor\":\"white\",\"ticks\":\"\"},\"baxis\":{\"gridcolor\":\"white\",\"linecolor\":\"white\",\"ticks\":\"\"},\"bgcolor\":\"#E5ECF6\",\"caxis\":{\"gridcolor\":\"white\",\"linecolor\":\"white\",\"ticks\":\"\"}},\"title\":{\"x\":0.05},\"xaxis\":{\"automargin\":true,\"gridcolor\":\"white\",\"linecolor\":\"white\",\"ticks\":\"\",\"title\":{\"standoff\":15},\"zerolinecolor\":\"white\",\"zerolinewidth\":2},\"yaxis\":{\"automargin\":true,\"gridcolor\":\"white\",\"linecolor\":\"white\",\"ticks\":\"\",\"title\":{\"standoff\":15},\"zerolinecolor\":\"white\",\"zerolinewidth\":2}}}},                        {\"responsive\": true}                    ).then(function(){\n",
       "                            \n",
       "var gd = document.getElementById('f6b1e018-124c-4c3c-ae4c-c39da8ae268a');\n",
       "var x = new MutationObserver(function (mutations, observer) {{\n",
       "        var display = window.getComputedStyle(gd).display;\n",
       "        if (!display || display === 'none') {{\n",
       "            console.log([gd, 'removed!']);\n",
       "            Plotly.purge(gd);\n",
       "            observer.disconnect();\n",
       "        }}\n",
       "}});\n",
       "\n",
       "// Listen for the removal of the full notebook cells\n",
       "var notebookContainer = gd.closest('#notebook-container');\n",
       "if (notebookContainer) {{\n",
       "    x.observe(notebookContainer, {childList: true});\n",
       "}}\n",
       "\n",
       "// Listen for the clearing of the current output cell\n",
       "var outputEl = gd.closest('.output');\n",
       "if (outputEl) {{\n",
       "    x.observe(outputEl, {childList: true});\n",
       "}}\n",
       "\n",
       "                        })                };                });            </script>        </div>"
      ]
     },
     "metadata": {},
     "output_type": "display_data"
    }
   ],
   "source": [
    "color_map = px.colors.diverging.RdGy_r\n",
    "fig = px.scatter_mapbox(final, \n",
    "                        lat = \"LATITUDE\",\n",
    "                        lon = \"LONGITUDE\", \n",
    "                        hover_name = \"NAME\", \n",
    "                        color = \"change\",\n",
    "                        zoom = 2,\n",
    "                        #opacity = 0.2,\n",
    "                        height = 300,\n",
    "                        mapbox_style=\"carto-positron\",\n",
    "                        color_continuous_scale=color_map)\n",
    "fig.update_layout(margin={\"r\":0,\"t\":0,\"l\":0,\"b\":0})\n",
    "fig.update_coloraxes(cmid=0)\n",
    "fig.update_coloraxes(colorbar_title_text=\"Avg Yearly Increase(C)\",colorbar_title_font_size=10)\n",
    "fig.show()"
   ]
  },
  {
   "cell_type": "markdown",
   "id": "3fa493b3",
   "metadata": {},
   "source": [
    "Now we should able to finish the function."
   ]
  },
  {
   "cell_type": "code",
   "execution_count": 241,
   "id": "b2f58afb",
   "metadata": {},
   "outputs": [],
   "source": [
    "def temperature_coefficient_plot(country,year_begin,year_end,month,min_obs,**kwargs):\n",
    "    temp_vs_data=query_climate_database(country,year_begin,year_end,month)\n",
    "    temp_vs_data[\"years_of_data\"]=temp_vs_data.groupby([\"NAME\"])['Year'].transform(year_dur)\n",
    "    temp_vs_data_2=temp_vs_data[temp_vs_data[\"years_of_data\"]>=10]\n",
    "    coefs = temp_vs_data_2.groupby([\"NAME\"]).apply(coef)\n",
    "    coefs=coefs.reset_index()\n",
    "    final=pd.merge(coefs,temp_vs_data_2,how='inner',on = [\"NAME\"]).drop_duplicates('NAME')\n",
    "    final=final.rename(columns={ 0 :\"change\"})\n",
    "    fig=px.scatter_mapbox(final, \n",
    "                        lat = \"LATITUDE\",\n",
    "                        lon = \"LONGITUDE\", \n",
    "                        hover_name = \"NAME\", \n",
    "                        color = \"change\",\n",
    "                        height = 300,\n",
    "                        **kwargs)\n",
    "    fig.update_layout(margin={\"r\":0,\"t\":0,\"l\":0,\"b\":0})\n",
    "    fig.update_coloraxes(cmid=0)\n",
    "    fig.update_coloraxes(colorbar_title_text=\"Avg Yearly Increase(C)\",colorbar_title_font_size=10)\n",
    "    return fig"
   ]
  },
  {
   "cell_type": "code",
   "execution_count": 242,
   "id": "85713686",
   "metadata": {},
   "outputs": [
    {
     "data": {
      "application/vnd.plotly.v1+json": {
       "config": {
        "plotlyServerURL": "https://plot.ly"
       },
       "data": [
        {
         "hovertemplate": "<b>%{hovertext}</b><br><br>LATITUDE=%{lat}<br>LONGITUDE=%{lon}<br>change=%{marker.color}<extra></extra>",
         "hovertext": [
          "AGARTALA",
          "AGRA",
          "AHMADABAD",
          "AKOLA",
          "ALLAHABAD",
          "ALLAHABAD_BAMHRAULI",
          "AMBALA",
          "AMRITSAR",
          "AURANGABAD_CHIKALTH",
          "BALASORE",
          "BANGALORE",
          "BAREILLY",
          "BEGUMPETOBSY",
          "BELGAUM_SAMBRA",
          "BHOPAL_BAIRAGARH",
          "BHUBANESWAR",
          "BHUJ_RUDRAMATA",
          "BIKANER",
          "BOMBAY_COLABA",
          "BOMBAY_SANTACRUZ",
          "CALCUTTA_ALIPORE",
          "CALCUTTA_DUM_DUM",
          "CHERRAPUNJI",
          "CHERRA_POONJEE",
          "CHITRADURGA",
          "COIMBATORE_PEELAMED",
          "CUDDALORE",
          "CUTTACK",
          "DALTONGANJ",
          "DARBHANGA",
          "DARJEELING",
          "DEHRADUN",
          "DIBRUGARH_MOHANBAR",
          "DUMKA",
          "DWARKA",
          "GADAG",
          "GANGANAGAR",
          "GAUHATI",
          "GAYA",
          "GOA_PANJIM",
          "GORAKHPUR",
          "GUNA",
          "GWALIOR",
          "HISSAR",
          "HONAVAR",
          "IMPHAL",
          "INDORE",
          "JABALPUR",
          "JAGDALPUR",
          "JAIPUR_SANGANER",
          "JAISALMER",
          "JHARSUGUDA",
          "JODHPUR",
          "KAKINADA",
          "KARAIKAL",
          "KODAIKANAL",
          "KOTA_AERODROME",
          "KOZHIKODE",
          "KURNOOL",
          "LUCKNOW_AMAUSI",
          "LUDHIANA",
          "MACHILIPATNAM",
          "MADRAS_MINAMBAKKAM",
          "MANGALORE_BAJPE",
          "MINICOY",
          "MINICOYOBSY",
          "MO_AMINI",
          "MO_RANCHI",
          "MUKTESWAR_KUMAON",
          "NAGPUR_SONEGAON",
          "NELLORE",
          "NEW_DELHI_PALAM",
          "NEW_DELHI_SAFDARJUN",
          "NORTH_LAKHIMPUR",
          "PAMBAN",
          "PATIALA",
          "PATNA",
          "PBO_ANANTAPUR",
          "PENDRA_ROAD",
          "POONA",
          "PORT_BLAIR",
          "RAIPUR",
          "RAJKOT",
          "RAMGUNDAM",
          "RATNAGIRI",
          "SAGAR",
          "SANDHEADS",
          "SATNA",
          "SHILONG",
          "SHIMLA",
          "SHOLAPUR",
          "SILCHAR",
          "SRINAGAR",
          "SURAT",
          "TEZPUR",
          "THIRUVANANTHAPURAM",
          "TIRUCHCHIRAPALLI",
          "TRIVANDRUM",
          "UDAIPUR_DABOK",
          "VARANASI_BABATPUR",
          "VERAVAL",
          "VISHAKHAPATNAM"
         ],
         "lat": [
          23.883,
          27.1667,
          23.067,
          20.7,
          25.441,
          25.5,
          30.383,
          31.71,
          19.85,
          21.517,
          12.967,
          28.367,
          17.45,
          15.85,
          23.283,
          20.25,
          23.25,
          28,
          18.9,
          19.117,
          22.533,
          22.65,
          25.25,
          25.25,
          14.233,
          11.033,
          11.767,
          20.467,
          24.05,
          26.1667,
          27.05,
          30.317,
          27.483,
          24.267,
          22.3667,
          15.417,
          29.917,
          26.1,
          24.75,
          15.483,
          26.75,
          24.65,
          26.233,
          29.167,
          14.283,
          24.667,
          22.717,
          23.2,
          19.083,
          26.817,
          26.9,
          21.917,
          26.3,
          16.95,
          10.917,
          10.2333,
          25.15,
          11.25,
          15.8,
          26.75,
          30.9333,
          16.2,
          13,
          12.917,
          8.3,
          8.3,
          11.117,
          23.317,
          29.4667,
          21.1,
          14.45,
          28.567,
          28.583,
          27.233,
          9.267,
          30.333,
          25.6,
          14.583,
          22.767,
          18.533,
          11.667,
          21.217,
          22.3,
          18.767,
          16.983,
          23.85,
          20.85,
          24.567,
          25.6,
          31.1,
          17.667,
          24.82,
          34.083,
          21.2,
          26.617,
          8.483,
          10.767,
          8.5,
          24.617,
          25.45,
          20.9,
          17.717
         ],
         "legendgroup": "",
         "lon": [
          91.25,
          78.0333,
          72.633,
          77.033,
          81.735,
          81.9,
          76.767,
          74.797,
          75.4,
          86.933,
          77.583,
          79.4,
          78.47,
          74.617,
          77.35,
          85.833,
          69.667,
          73.3,
          72.8167,
          72.85,
          88.333,
          88.45,
          91.7333,
          91.73,
          76.433,
          77.05,
          79.767,
          85.933,
          84.067,
          85.9,
          88.27,
          78.033,
          95.017,
          87.25,
          69.0833,
          75.633,
          73.917,
          91.583,
          84.95,
          73.817,
          83.367,
          77.317,
          78.25,
          75.733,
          74.45,
          93.9,
          75.8,
          79.95,
          82.033,
          75.8,
          70.917,
          84.083,
          73.017,
          82.233,
          79.833,
          77.4667,
          75.85,
          75.783,
          78.067,
          80.883,
          75.8667,
          81.15,
          80.183,
          74.883,
          73.15,
          73,
          72.733,
          85.317,
          79.65,
          79.05,
          79.983,
          77.117,
          77.2,
          94.117,
          79.3,
          76.467,
          85.1,
          77.633,
          81.9,
          73.85,
          92.717,
          81.667,
          70.783,
          79.433,
          73.333,
          78.75,
          88.25,
          80.833,
          91.89,
          77.167,
          75.9,
          92.83,
          74.833,
          72.833,
          92.783,
          76.95,
          78.717,
          77,
          73.883,
          82.867,
          70.367,
          83.233
         ],
         "marker": {
          "color": [
           -0.006183811129848239,
           -0.09541262135922329,
           0.006730859702591575,
           -0.008062624971095118,
           -0.029375055494716876,
           -0.015456665556137266,
           0.08135080645161286,
           -0.006997925311203316,
           0.012432445591314099,
           -0.008535321622646294,
           0.036048573570818115,
           -0.016921671885378114,
           0.010659470125093384,
           -0.003594076655052256,
           -0.02214120945028583,
           -0.016133488420135553,
           0.06992104800808188,
           0.017180137810346732,
           0.01144580471317541,
           0.03473019082522429,
           -0.010346634984974476,
           -0.016182926829268297,
           0.046505315432052705,
           -0.02196969696969707,
           0.015587015613548466,
           0.03437011427849289,
           0.02080581199666612,
           -0.010054644808743168,
           -0.004619796704508831,
           -0.07155016642891111,
           -0.04013292433537832,
           0.04361124694376528,
           0.051959662288930585,
           -0.0820879120879119,
           0.016960521326348618,
           0.008918216844784598,
           -0.007582417582417617,
           0.014095447695660186,
           -0.018130769230769214,
           0.02239895470383278,
           0.003939848437006616,
           -0.009171504550732231,
           -0.01839535532717763,
           -0.0033838255106870946,
           -0.049173300673606916,
           0.06331277990523787,
           0.0030051678590023037,
           -0.025226394467890417,
           -0.00013828899634456642,
           0.0067478731994967045,
           0.0026152359277330007,
           -0.018483861496963124,
           0.009676089101931486,
           0.026016631128165647,
           0.021293478260869626,
           0.06909090909090908,
           -0.018580394821543528,
           0.033391006056707945,
           0.025653099244929176,
           -0.037226267748478696,
           0.13179063360881538,
           0.012267045919423226,
           0.023744845901181068,
           0.023289171185398118,
           0.02521047670617493,
           0.014113772841738221,
           -0.006249999999999861,
           0.005267073384831474,
           0.01548473928233975,
           -0.02462120461695937,
           0.023466851259131335,
           0.0055877034358047025,
           -0.0024094076655052274,
           0.09547548433389141,
           0.024844173744931843,
           -0.011647126557102462,
           -0.02185513438609661,
           0.026258125009932767,
           -0.009553449032801422,
           -0.0004445988190343688,
           0.030734217877094974,
           0.0014272108363610858,
           0.015685536018150887,
           -0.00888194853663324,
           0.003240895098029197,
           0.001539546031298452,
           -0.052447665056360705,
           -0.022613636363636384,
           0.013454496208017325,
           0.004006465200568155,
           0.003781739503612052,
           0.016082518381040734,
           0.04876296814627764,
           0.02319921542925803,
           0.039424522224608086,
           0.016190897001659443,
           0.014605567154412198,
           0.022892088111541913,
           0.07242424242424235,
           -0.012996067688773023,
           0.024848432055749117,
           -0.03404972919743971
          ],
          "coloraxis": "coloraxis"
         },
         "mode": "markers",
         "name": "",
         "showlegend": false,
         "subplot": "mapbox",
         "type": "scattermapbox"
        }
       ],
       "layout": {
        "coloraxis": {
         "cmid": 0,
         "colorbar": {
          "title": {
           "font": {
            "size": 10
           },
           "text": "Avg Yearly Increase(C)"
          }
         },
         "colorscale": [
          [
           0,
           "rgb(26,26,26)"
          ],
          [
           0.1,
           "rgb(77,77,77)"
          ],
          [
           0.2,
           "rgb(135,135,135)"
          ],
          [
           0.3,
           "rgb(186,186,186)"
          ],
          [
           0.4,
           "rgb(224,224,224)"
          ],
          [
           0.5,
           "rgb(255,255,255)"
          ],
          [
           0.6,
           "rgb(253,219,199)"
          ],
          [
           0.7,
           "rgb(244,165,130)"
          ],
          [
           0.8,
           "rgb(214,96,77)"
          ],
          [
           0.9,
           "rgb(178,24,43)"
          ],
          [
           1,
           "rgb(103,0,31)"
          ]
         ]
        },
        "height": 300,
        "legend": {
         "tracegroupgap": 0
        },
        "mapbox": {
         "center": {
          "lat": 21.423778431372547,
          "lon": 79.85018627450978
         },
         "domain": {
          "x": [
           0,
           1
          ],
          "y": [
           0,
           1
          ]
         },
         "style": "carto-positron",
         "zoom": 2
        },
        "margin": {
         "b": 0,
         "l": 0,
         "r": 0,
         "t": 0
        },
        "template": {
         "data": {
          "bar": [
           {
            "error_x": {
             "color": "#2a3f5f"
            },
            "error_y": {
             "color": "#2a3f5f"
            },
            "marker": {
             "line": {
              "color": "#E5ECF6",
              "width": 0.5
             },
             "pattern": {
              "fillmode": "overlay",
              "size": 10,
              "solidity": 0.2
             }
            },
            "type": "bar"
           }
          ],
          "barpolar": [
           {
            "marker": {
             "line": {
              "color": "#E5ECF6",
              "width": 0.5
             },
             "pattern": {
              "fillmode": "overlay",
              "size": 10,
              "solidity": 0.2
             }
            },
            "type": "barpolar"
           }
          ],
          "carpet": [
           {
            "aaxis": {
             "endlinecolor": "#2a3f5f",
             "gridcolor": "white",
             "linecolor": "white",
             "minorgridcolor": "white",
             "startlinecolor": "#2a3f5f"
            },
            "baxis": {
             "endlinecolor": "#2a3f5f",
             "gridcolor": "white",
             "linecolor": "white",
             "minorgridcolor": "white",
             "startlinecolor": "#2a3f5f"
            },
            "type": "carpet"
           }
          ],
          "choropleth": [
           {
            "colorbar": {
             "outlinewidth": 0,
             "ticks": ""
            },
            "type": "choropleth"
           }
          ],
          "contour": [
           {
            "colorbar": {
             "outlinewidth": 0,
             "ticks": ""
            },
            "colorscale": [
             [
              0,
              "#0d0887"
             ],
             [
              0.1111111111111111,
              "#46039f"
             ],
             [
              0.2222222222222222,
              "#7201a8"
             ],
             [
              0.3333333333333333,
              "#9c179e"
             ],
             [
              0.4444444444444444,
              "#bd3786"
             ],
             [
              0.5555555555555556,
              "#d8576b"
             ],
             [
              0.6666666666666666,
              "#ed7953"
             ],
             [
              0.7777777777777778,
              "#fb9f3a"
             ],
             [
              0.8888888888888888,
              "#fdca26"
             ],
             [
              1,
              "#f0f921"
             ]
            ],
            "type": "contour"
           }
          ],
          "contourcarpet": [
           {
            "colorbar": {
             "outlinewidth": 0,
             "ticks": ""
            },
            "type": "contourcarpet"
           }
          ],
          "heatmap": [
           {
            "colorbar": {
             "outlinewidth": 0,
             "ticks": ""
            },
            "colorscale": [
             [
              0,
              "#0d0887"
             ],
             [
              0.1111111111111111,
              "#46039f"
             ],
             [
              0.2222222222222222,
              "#7201a8"
             ],
             [
              0.3333333333333333,
              "#9c179e"
             ],
             [
              0.4444444444444444,
              "#bd3786"
             ],
             [
              0.5555555555555556,
              "#d8576b"
             ],
             [
              0.6666666666666666,
              "#ed7953"
             ],
             [
              0.7777777777777778,
              "#fb9f3a"
             ],
             [
              0.8888888888888888,
              "#fdca26"
             ],
             [
              1,
              "#f0f921"
             ]
            ],
            "type": "heatmap"
           }
          ],
          "heatmapgl": [
           {
            "colorbar": {
             "outlinewidth": 0,
             "ticks": ""
            },
            "colorscale": [
             [
              0,
              "#0d0887"
             ],
             [
              0.1111111111111111,
              "#46039f"
             ],
             [
              0.2222222222222222,
              "#7201a8"
             ],
             [
              0.3333333333333333,
              "#9c179e"
             ],
             [
              0.4444444444444444,
              "#bd3786"
             ],
             [
              0.5555555555555556,
              "#d8576b"
             ],
             [
              0.6666666666666666,
              "#ed7953"
             ],
             [
              0.7777777777777778,
              "#fb9f3a"
             ],
             [
              0.8888888888888888,
              "#fdca26"
             ],
             [
              1,
              "#f0f921"
             ]
            ],
            "type": "heatmapgl"
           }
          ],
          "histogram": [
           {
            "marker": {
             "pattern": {
              "fillmode": "overlay",
              "size": 10,
              "solidity": 0.2
             }
            },
            "type": "histogram"
           }
          ],
          "histogram2d": [
           {
            "colorbar": {
             "outlinewidth": 0,
             "ticks": ""
            },
            "colorscale": [
             [
              0,
              "#0d0887"
             ],
             [
              0.1111111111111111,
              "#46039f"
             ],
             [
              0.2222222222222222,
              "#7201a8"
             ],
             [
              0.3333333333333333,
              "#9c179e"
             ],
             [
              0.4444444444444444,
              "#bd3786"
             ],
             [
              0.5555555555555556,
              "#d8576b"
             ],
             [
              0.6666666666666666,
              "#ed7953"
             ],
             [
              0.7777777777777778,
              "#fb9f3a"
             ],
             [
              0.8888888888888888,
              "#fdca26"
             ],
             [
              1,
              "#f0f921"
             ]
            ],
            "type": "histogram2d"
           }
          ],
          "histogram2dcontour": [
           {
            "colorbar": {
             "outlinewidth": 0,
             "ticks": ""
            },
            "colorscale": [
             [
              0,
              "#0d0887"
             ],
             [
              0.1111111111111111,
              "#46039f"
             ],
             [
              0.2222222222222222,
              "#7201a8"
             ],
             [
              0.3333333333333333,
              "#9c179e"
             ],
             [
              0.4444444444444444,
              "#bd3786"
             ],
             [
              0.5555555555555556,
              "#d8576b"
             ],
             [
              0.6666666666666666,
              "#ed7953"
             ],
             [
              0.7777777777777778,
              "#fb9f3a"
             ],
             [
              0.8888888888888888,
              "#fdca26"
             ],
             [
              1,
              "#f0f921"
             ]
            ],
            "type": "histogram2dcontour"
           }
          ],
          "mesh3d": [
           {
            "colorbar": {
             "outlinewidth": 0,
             "ticks": ""
            },
            "type": "mesh3d"
           }
          ],
          "parcoords": [
           {
            "line": {
             "colorbar": {
              "outlinewidth": 0,
              "ticks": ""
             }
            },
            "type": "parcoords"
           }
          ],
          "pie": [
           {
            "automargin": true,
            "type": "pie"
           }
          ],
          "scatter": [
           {
            "marker": {
             "colorbar": {
              "outlinewidth": 0,
              "ticks": ""
             }
            },
            "type": "scatter"
           }
          ],
          "scatter3d": [
           {
            "line": {
             "colorbar": {
              "outlinewidth": 0,
              "ticks": ""
             }
            },
            "marker": {
             "colorbar": {
              "outlinewidth": 0,
              "ticks": ""
             }
            },
            "type": "scatter3d"
           }
          ],
          "scattercarpet": [
           {
            "marker": {
             "colorbar": {
              "outlinewidth": 0,
              "ticks": ""
             }
            },
            "type": "scattercarpet"
           }
          ],
          "scattergeo": [
           {
            "marker": {
             "colorbar": {
              "outlinewidth": 0,
              "ticks": ""
             }
            },
            "type": "scattergeo"
           }
          ],
          "scattergl": [
           {
            "marker": {
             "colorbar": {
              "outlinewidth": 0,
              "ticks": ""
             }
            },
            "type": "scattergl"
           }
          ],
          "scattermapbox": [
           {
            "marker": {
             "colorbar": {
              "outlinewidth": 0,
              "ticks": ""
             }
            },
            "type": "scattermapbox"
           }
          ],
          "scatterpolar": [
           {
            "marker": {
             "colorbar": {
              "outlinewidth": 0,
              "ticks": ""
             }
            },
            "type": "scatterpolar"
           }
          ],
          "scatterpolargl": [
           {
            "marker": {
             "colorbar": {
              "outlinewidth": 0,
              "ticks": ""
             }
            },
            "type": "scatterpolargl"
           }
          ],
          "scatterternary": [
           {
            "marker": {
             "colorbar": {
              "outlinewidth": 0,
              "ticks": ""
             }
            },
            "type": "scatterternary"
           }
          ],
          "surface": [
           {
            "colorbar": {
             "outlinewidth": 0,
             "ticks": ""
            },
            "colorscale": [
             [
              0,
              "#0d0887"
             ],
             [
              0.1111111111111111,
              "#46039f"
             ],
             [
              0.2222222222222222,
              "#7201a8"
             ],
             [
              0.3333333333333333,
              "#9c179e"
             ],
             [
              0.4444444444444444,
              "#bd3786"
             ],
             [
              0.5555555555555556,
              "#d8576b"
             ],
             [
              0.6666666666666666,
              "#ed7953"
             ],
             [
              0.7777777777777778,
              "#fb9f3a"
             ],
             [
              0.8888888888888888,
              "#fdca26"
             ],
             [
              1,
              "#f0f921"
             ]
            ],
            "type": "surface"
           }
          ],
          "table": [
           {
            "cells": {
             "fill": {
              "color": "#EBF0F8"
             },
             "line": {
              "color": "white"
             }
            },
            "header": {
             "fill": {
              "color": "#C8D4E3"
             },
             "line": {
              "color": "white"
             }
            },
            "type": "table"
           }
          ]
         },
         "layout": {
          "annotationdefaults": {
           "arrowcolor": "#2a3f5f",
           "arrowhead": 0,
           "arrowwidth": 1
          },
          "autotypenumbers": "strict",
          "coloraxis": {
           "colorbar": {
            "outlinewidth": 0,
            "ticks": ""
           }
          },
          "colorscale": {
           "diverging": [
            [
             0,
             "#8e0152"
            ],
            [
             0.1,
             "#c51b7d"
            ],
            [
             0.2,
             "#de77ae"
            ],
            [
             0.3,
             "#f1b6da"
            ],
            [
             0.4,
             "#fde0ef"
            ],
            [
             0.5,
             "#f7f7f7"
            ],
            [
             0.6,
             "#e6f5d0"
            ],
            [
             0.7,
             "#b8e186"
            ],
            [
             0.8,
             "#7fbc41"
            ],
            [
             0.9,
             "#4d9221"
            ],
            [
             1,
             "#276419"
            ]
           ],
           "sequential": [
            [
             0,
             "#0d0887"
            ],
            [
             0.1111111111111111,
             "#46039f"
            ],
            [
             0.2222222222222222,
             "#7201a8"
            ],
            [
             0.3333333333333333,
             "#9c179e"
            ],
            [
             0.4444444444444444,
             "#bd3786"
            ],
            [
             0.5555555555555556,
             "#d8576b"
            ],
            [
             0.6666666666666666,
             "#ed7953"
            ],
            [
             0.7777777777777778,
             "#fb9f3a"
            ],
            [
             0.8888888888888888,
             "#fdca26"
            ],
            [
             1,
             "#f0f921"
            ]
           ],
           "sequentialminus": [
            [
             0,
             "#0d0887"
            ],
            [
             0.1111111111111111,
             "#46039f"
            ],
            [
             0.2222222222222222,
             "#7201a8"
            ],
            [
             0.3333333333333333,
             "#9c179e"
            ],
            [
             0.4444444444444444,
             "#bd3786"
            ],
            [
             0.5555555555555556,
             "#d8576b"
            ],
            [
             0.6666666666666666,
             "#ed7953"
            ],
            [
             0.7777777777777778,
             "#fb9f3a"
            ],
            [
             0.8888888888888888,
             "#fdca26"
            ],
            [
             1,
             "#f0f921"
            ]
           ]
          },
          "colorway": [
           "#636efa",
           "#EF553B",
           "#00cc96",
           "#ab63fa",
           "#FFA15A",
           "#19d3f3",
           "#FF6692",
           "#B6E880",
           "#FF97FF",
           "#FECB52"
          ],
          "font": {
           "color": "#2a3f5f"
          },
          "geo": {
           "bgcolor": "white",
           "lakecolor": "white",
           "landcolor": "#E5ECF6",
           "showlakes": true,
           "showland": true,
           "subunitcolor": "white"
          },
          "hoverlabel": {
           "align": "left"
          },
          "hovermode": "closest",
          "mapbox": {
           "style": "light"
          },
          "paper_bgcolor": "white",
          "plot_bgcolor": "#E5ECF6",
          "polar": {
           "angularaxis": {
            "gridcolor": "white",
            "linecolor": "white",
            "ticks": ""
           },
           "bgcolor": "#E5ECF6",
           "radialaxis": {
            "gridcolor": "white",
            "linecolor": "white",
            "ticks": ""
           }
          },
          "scene": {
           "xaxis": {
            "backgroundcolor": "#E5ECF6",
            "gridcolor": "white",
            "gridwidth": 2,
            "linecolor": "white",
            "showbackground": true,
            "ticks": "",
            "zerolinecolor": "white"
           },
           "yaxis": {
            "backgroundcolor": "#E5ECF6",
            "gridcolor": "white",
            "gridwidth": 2,
            "linecolor": "white",
            "showbackground": true,
            "ticks": "",
            "zerolinecolor": "white"
           },
           "zaxis": {
            "backgroundcolor": "#E5ECF6",
            "gridcolor": "white",
            "gridwidth": 2,
            "linecolor": "white",
            "showbackground": true,
            "ticks": "",
            "zerolinecolor": "white"
           }
          },
          "shapedefaults": {
           "line": {
            "color": "#2a3f5f"
           }
          },
          "ternary": {
           "aaxis": {
            "gridcolor": "white",
            "linecolor": "white",
            "ticks": ""
           },
           "baxis": {
            "gridcolor": "white",
            "linecolor": "white",
            "ticks": ""
           },
           "bgcolor": "#E5ECF6",
           "caxis": {
            "gridcolor": "white",
            "linecolor": "white",
            "ticks": ""
           }
          },
          "title": {
           "x": 0.05
          },
          "xaxis": {
           "automargin": true,
           "gridcolor": "white",
           "linecolor": "white",
           "ticks": "",
           "title": {
            "standoff": 15
           },
           "zerolinecolor": "white",
           "zerolinewidth": 2
          },
          "yaxis": {
           "automargin": true,
           "gridcolor": "white",
           "linecolor": "white",
           "ticks": "",
           "title": {
            "standoff": 15
           },
           "zerolinecolor": "white",
           "zerolinewidth": 2
          }
         }
        }
       }
      },
      "text/html": [
       "<div>                            <div id=\"cb8f9025-51ae-4424-80ec-e0b9465be429\" class=\"plotly-graph-div\" style=\"height:300px; width:100%;\"></div>            <script type=\"text/javascript\">                require([\"plotly\"], function(Plotly) {                    window.PLOTLYENV=window.PLOTLYENV || {};                                    if (document.getElementById(\"cb8f9025-51ae-4424-80ec-e0b9465be429\")) {                    Plotly.newPlot(                        \"cb8f9025-51ae-4424-80ec-e0b9465be429\",                        [{\"hovertemplate\":\"<b>%{hovertext}</b><br><br>LATITUDE=%{lat}<br>LONGITUDE=%{lon}<br>change=%{marker.color}<extra></extra>\",\"hovertext\":[\"AGARTALA\",\"AGRA\",\"AHMADABAD\",\"AKOLA\",\"ALLAHABAD\",\"ALLAHABAD_BAMHRAULI\",\"AMBALA\",\"AMRITSAR\",\"AURANGABAD_CHIKALTH\",\"BALASORE\",\"BANGALORE\",\"BAREILLY\",\"BEGUMPETOBSY\",\"BELGAUM_SAMBRA\",\"BHOPAL_BAIRAGARH\",\"BHUBANESWAR\",\"BHUJ_RUDRAMATA\",\"BIKANER\",\"BOMBAY_COLABA\",\"BOMBAY_SANTACRUZ\",\"CALCUTTA_ALIPORE\",\"CALCUTTA_DUM_DUM\",\"CHERRAPUNJI\",\"CHERRA_POONJEE\",\"CHITRADURGA\",\"COIMBATORE_PEELAMED\",\"CUDDALORE\",\"CUTTACK\",\"DALTONGANJ\",\"DARBHANGA\",\"DARJEELING\",\"DEHRADUN\",\"DIBRUGARH_MOHANBAR\",\"DUMKA\",\"DWARKA\",\"GADAG\",\"GANGANAGAR\",\"GAUHATI\",\"GAYA\",\"GOA_PANJIM\",\"GORAKHPUR\",\"GUNA\",\"GWALIOR\",\"HISSAR\",\"HONAVAR\",\"IMPHAL\",\"INDORE\",\"JABALPUR\",\"JAGDALPUR\",\"JAIPUR_SANGANER\",\"JAISALMER\",\"JHARSUGUDA\",\"JODHPUR\",\"KAKINADA\",\"KARAIKAL\",\"KODAIKANAL\",\"KOTA_AERODROME\",\"KOZHIKODE\",\"KURNOOL\",\"LUCKNOW_AMAUSI\",\"LUDHIANA\",\"MACHILIPATNAM\",\"MADRAS_MINAMBAKKAM\",\"MANGALORE_BAJPE\",\"MINICOY\",\"MINICOYOBSY\",\"MO_AMINI\",\"MO_RANCHI\",\"MUKTESWAR_KUMAON\",\"NAGPUR_SONEGAON\",\"NELLORE\",\"NEW_DELHI_PALAM\",\"NEW_DELHI_SAFDARJUN\",\"NORTH_LAKHIMPUR\",\"PAMBAN\",\"PATIALA\",\"PATNA\",\"PBO_ANANTAPUR\",\"PENDRA_ROAD\",\"POONA\",\"PORT_BLAIR\",\"RAIPUR\",\"RAJKOT\",\"RAMGUNDAM\",\"RATNAGIRI\",\"SAGAR\",\"SANDHEADS\",\"SATNA\",\"SHILONG\",\"SHIMLA\",\"SHOLAPUR\",\"SILCHAR\",\"SRINAGAR\",\"SURAT\",\"TEZPUR\",\"THIRUVANANTHAPURAM\",\"TIRUCHCHIRAPALLI\",\"TRIVANDRUM\",\"UDAIPUR_DABOK\",\"VARANASI_BABATPUR\",\"VERAVAL\",\"VISHAKHAPATNAM\"],\"lat\":[23.883,27.1667,23.067,20.7,25.441,25.5,30.383,31.71,19.85,21.517,12.967,28.367,17.45,15.85,23.283,20.25,23.25,28.0,18.9,19.117,22.533,22.65,25.25,25.25,14.233,11.033,11.767,20.467,24.05,26.1667,27.05,30.317,27.483,24.267,22.3667,15.417,29.917,26.1,24.75,15.483,26.75,24.65,26.233,29.167,14.283,24.667,22.717,23.2,19.083,26.817,26.9,21.917,26.3,16.95,10.917,10.2333,25.15,11.25,15.8,26.75,30.9333,16.2,13.0,12.917,8.3,8.3,11.117,23.317,29.4667,21.1,14.45,28.567,28.583,27.233,9.267,30.333,25.6,14.583,22.767,18.533,11.667,21.217,22.3,18.767,16.983,23.85,20.85,24.567,25.6,31.1,17.667,24.82,34.083,21.2,26.617,8.483,10.767,8.5,24.617,25.45,20.9,17.717],\"legendgroup\":\"\",\"lon\":[91.25,78.0333,72.633,77.033,81.735,81.9,76.767,74.797,75.4,86.933,77.583,79.4,78.47,74.617,77.35,85.833,69.667,73.3,72.8167,72.85,88.333,88.45,91.7333,91.73,76.433,77.05,79.767,85.933,84.067,85.9,88.27,78.033,95.017,87.25,69.0833,75.633,73.917,91.583,84.95,73.817,83.367,77.317,78.25,75.733,74.45,93.9,75.8,79.95,82.033,75.8,70.917,84.083,73.017,82.233,79.833,77.4667,75.85,75.783,78.067,80.883,75.8667,81.15,80.183,74.883,73.15,73.0,72.733,85.317,79.65,79.05,79.983,77.117,77.2,94.117,79.3,76.467,85.1,77.633,81.9,73.85,92.717,81.667,70.783,79.433,73.333,78.75,88.25,80.833,91.89,77.167,75.9,92.83,74.833,72.833,92.783,76.95,78.717,77.0,73.883,82.867,70.367,83.233],\"marker\":{\"color\":[-0.006183811129848239,-0.09541262135922329,0.006730859702591575,-0.008062624971095118,-0.029375055494716876,-0.015456665556137266,0.08135080645161286,-0.006997925311203316,0.012432445591314099,-0.008535321622646294,0.036048573570818115,-0.016921671885378114,0.010659470125093384,-0.003594076655052256,-0.02214120945028583,-0.016133488420135553,0.06992104800808188,0.017180137810346732,0.01144580471317541,0.03473019082522429,-0.010346634984974476,-0.016182926829268297,0.046505315432052705,-0.02196969696969707,0.015587015613548466,0.03437011427849289,0.02080581199666612,-0.010054644808743168,-0.004619796704508831,-0.07155016642891111,-0.04013292433537832,0.04361124694376528,0.051959662288930585,-0.0820879120879119,0.016960521326348618,0.008918216844784598,-0.007582417582417617,0.014095447695660186,-0.018130769230769214,0.02239895470383278,0.003939848437006616,-0.009171504550732231,-0.01839535532717763,-0.0033838255106870946,-0.049173300673606916,0.06331277990523787,0.0030051678590023037,-0.025226394467890417,-0.00013828899634456642,0.0067478731994967045,0.0026152359277330007,-0.018483861496963124,0.009676089101931486,0.026016631128165647,0.021293478260869626,0.06909090909090908,-0.018580394821543528,0.033391006056707945,0.025653099244929176,-0.037226267748478696,0.13179063360881538,0.012267045919423226,0.023744845901181068,0.023289171185398118,0.02521047670617493,0.014113772841738221,-0.006249999999999861,0.005267073384831474,0.01548473928233975,-0.02462120461695937,0.023466851259131335,0.0055877034358047025,-0.0024094076655052274,0.09547548433389141,0.024844173744931843,-0.011647126557102462,-0.02185513438609661,0.026258125009932767,-0.009553449032801422,-0.0004445988190343688,0.030734217877094974,0.0014272108363610858,0.015685536018150887,-0.00888194853663324,0.003240895098029197,0.001539546031298452,-0.052447665056360705,-0.022613636363636384,0.013454496208017325,0.004006465200568155,0.003781739503612052,0.016082518381040734,0.04876296814627764,0.02319921542925803,0.039424522224608086,0.016190897001659443,0.014605567154412198,0.022892088111541913,0.07242424242424235,-0.012996067688773023,0.024848432055749117,-0.03404972919743971],\"coloraxis\":\"coloraxis\"},\"mode\":\"markers\",\"name\":\"\",\"showlegend\":false,\"subplot\":\"mapbox\",\"type\":\"scattermapbox\"}],                        {\"coloraxis\":{\"cmid\":0,\"colorbar\":{\"title\":{\"font\":{\"size\":10},\"text\":\"Avg Yearly Increase(C)\"}},\"colorscale\":[[0.0,\"rgb(26,26,26)\"],[0.1,\"rgb(77,77,77)\"],[0.2,\"rgb(135,135,135)\"],[0.3,\"rgb(186,186,186)\"],[0.4,\"rgb(224,224,224)\"],[0.5,\"rgb(255,255,255)\"],[0.6,\"rgb(253,219,199)\"],[0.7,\"rgb(244,165,130)\"],[0.8,\"rgb(214,96,77)\"],[0.9,\"rgb(178,24,43)\"],[1.0,\"rgb(103,0,31)\"]]},\"height\":300,\"legend\":{\"tracegroupgap\":0},\"mapbox\":{\"center\":{\"lat\":21.423778431372547,\"lon\":79.85018627450978},\"domain\":{\"x\":[0.0,1.0],\"y\":[0.0,1.0]},\"style\":\"carto-positron\",\"zoom\":2},\"margin\":{\"b\":0,\"l\":0,\"r\":0,\"t\":0},\"template\":{\"data\":{\"bar\":[{\"error_x\":{\"color\":\"#2a3f5f\"},\"error_y\":{\"color\":\"#2a3f5f\"},\"marker\":{\"line\":{\"color\":\"#E5ECF6\",\"width\":0.5},\"pattern\":{\"fillmode\":\"overlay\",\"size\":10,\"solidity\":0.2}},\"type\":\"bar\"}],\"barpolar\":[{\"marker\":{\"line\":{\"color\":\"#E5ECF6\",\"width\":0.5},\"pattern\":{\"fillmode\":\"overlay\",\"size\":10,\"solidity\":0.2}},\"type\":\"barpolar\"}],\"carpet\":[{\"aaxis\":{\"endlinecolor\":\"#2a3f5f\",\"gridcolor\":\"white\",\"linecolor\":\"white\",\"minorgridcolor\":\"white\",\"startlinecolor\":\"#2a3f5f\"},\"baxis\":{\"endlinecolor\":\"#2a3f5f\",\"gridcolor\":\"white\",\"linecolor\":\"white\",\"minorgridcolor\":\"white\",\"startlinecolor\":\"#2a3f5f\"},\"type\":\"carpet\"}],\"choropleth\":[{\"colorbar\":{\"outlinewidth\":0,\"ticks\":\"\"},\"type\":\"choropleth\"}],\"contour\":[{\"colorbar\":{\"outlinewidth\":0,\"ticks\":\"\"},\"colorscale\":[[0.0,\"#0d0887\"],[0.1111111111111111,\"#46039f\"],[0.2222222222222222,\"#7201a8\"],[0.3333333333333333,\"#9c179e\"],[0.4444444444444444,\"#bd3786\"],[0.5555555555555556,\"#d8576b\"],[0.6666666666666666,\"#ed7953\"],[0.7777777777777778,\"#fb9f3a\"],[0.8888888888888888,\"#fdca26\"],[1.0,\"#f0f921\"]],\"type\":\"contour\"}],\"contourcarpet\":[{\"colorbar\":{\"outlinewidth\":0,\"ticks\":\"\"},\"type\":\"contourcarpet\"}],\"heatmap\":[{\"colorbar\":{\"outlinewidth\":0,\"ticks\":\"\"},\"colorscale\":[[0.0,\"#0d0887\"],[0.1111111111111111,\"#46039f\"],[0.2222222222222222,\"#7201a8\"],[0.3333333333333333,\"#9c179e\"],[0.4444444444444444,\"#bd3786\"],[0.5555555555555556,\"#d8576b\"],[0.6666666666666666,\"#ed7953\"],[0.7777777777777778,\"#fb9f3a\"],[0.8888888888888888,\"#fdca26\"],[1.0,\"#f0f921\"]],\"type\":\"heatmap\"}],\"heatmapgl\":[{\"colorbar\":{\"outlinewidth\":0,\"ticks\":\"\"},\"colorscale\":[[0.0,\"#0d0887\"],[0.1111111111111111,\"#46039f\"],[0.2222222222222222,\"#7201a8\"],[0.3333333333333333,\"#9c179e\"],[0.4444444444444444,\"#bd3786\"],[0.5555555555555556,\"#d8576b\"],[0.6666666666666666,\"#ed7953\"],[0.7777777777777778,\"#fb9f3a\"],[0.8888888888888888,\"#fdca26\"],[1.0,\"#f0f921\"]],\"type\":\"heatmapgl\"}],\"histogram\":[{\"marker\":{\"pattern\":{\"fillmode\":\"overlay\",\"size\":10,\"solidity\":0.2}},\"type\":\"histogram\"}],\"histogram2d\":[{\"colorbar\":{\"outlinewidth\":0,\"ticks\":\"\"},\"colorscale\":[[0.0,\"#0d0887\"],[0.1111111111111111,\"#46039f\"],[0.2222222222222222,\"#7201a8\"],[0.3333333333333333,\"#9c179e\"],[0.4444444444444444,\"#bd3786\"],[0.5555555555555556,\"#d8576b\"],[0.6666666666666666,\"#ed7953\"],[0.7777777777777778,\"#fb9f3a\"],[0.8888888888888888,\"#fdca26\"],[1.0,\"#f0f921\"]],\"type\":\"histogram2d\"}],\"histogram2dcontour\":[{\"colorbar\":{\"outlinewidth\":0,\"ticks\":\"\"},\"colorscale\":[[0.0,\"#0d0887\"],[0.1111111111111111,\"#46039f\"],[0.2222222222222222,\"#7201a8\"],[0.3333333333333333,\"#9c179e\"],[0.4444444444444444,\"#bd3786\"],[0.5555555555555556,\"#d8576b\"],[0.6666666666666666,\"#ed7953\"],[0.7777777777777778,\"#fb9f3a\"],[0.8888888888888888,\"#fdca26\"],[1.0,\"#f0f921\"]],\"type\":\"histogram2dcontour\"}],\"mesh3d\":[{\"colorbar\":{\"outlinewidth\":0,\"ticks\":\"\"},\"type\":\"mesh3d\"}],\"parcoords\":[{\"line\":{\"colorbar\":{\"outlinewidth\":0,\"ticks\":\"\"}},\"type\":\"parcoords\"}],\"pie\":[{\"automargin\":true,\"type\":\"pie\"}],\"scatter\":[{\"marker\":{\"colorbar\":{\"outlinewidth\":0,\"ticks\":\"\"}},\"type\":\"scatter\"}],\"scatter3d\":[{\"line\":{\"colorbar\":{\"outlinewidth\":0,\"ticks\":\"\"}},\"marker\":{\"colorbar\":{\"outlinewidth\":0,\"ticks\":\"\"}},\"type\":\"scatter3d\"}],\"scattercarpet\":[{\"marker\":{\"colorbar\":{\"outlinewidth\":0,\"ticks\":\"\"}},\"type\":\"scattercarpet\"}],\"scattergeo\":[{\"marker\":{\"colorbar\":{\"outlinewidth\":0,\"ticks\":\"\"}},\"type\":\"scattergeo\"}],\"scattergl\":[{\"marker\":{\"colorbar\":{\"outlinewidth\":0,\"ticks\":\"\"}},\"type\":\"scattergl\"}],\"scattermapbox\":[{\"marker\":{\"colorbar\":{\"outlinewidth\":0,\"ticks\":\"\"}},\"type\":\"scattermapbox\"}],\"scatterpolar\":[{\"marker\":{\"colorbar\":{\"outlinewidth\":0,\"ticks\":\"\"}},\"type\":\"scatterpolar\"}],\"scatterpolargl\":[{\"marker\":{\"colorbar\":{\"outlinewidth\":0,\"ticks\":\"\"}},\"type\":\"scatterpolargl\"}],\"scatterternary\":[{\"marker\":{\"colorbar\":{\"outlinewidth\":0,\"ticks\":\"\"}},\"type\":\"scatterternary\"}],\"surface\":[{\"colorbar\":{\"outlinewidth\":0,\"ticks\":\"\"},\"colorscale\":[[0.0,\"#0d0887\"],[0.1111111111111111,\"#46039f\"],[0.2222222222222222,\"#7201a8\"],[0.3333333333333333,\"#9c179e\"],[0.4444444444444444,\"#bd3786\"],[0.5555555555555556,\"#d8576b\"],[0.6666666666666666,\"#ed7953\"],[0.7777777777777778,\"#fb9f3a\"],[0.8888888888888888,\"#fdca26\"],[1.0,\"#f0f921\"]],\"type\":\"surface\"}],\"table\":[{\"cells\":{\"fill\":{\"color\":\"#EBF0F8\"},\"line\":{\"color\":\"white\"}},\"header\":{\"fill\":{\"color\":\"#C8D4E3\"},\"line\":{\"color\":\"white\"}},\"type\":\"table\"}]},\"layout\":{\"annotationdefaults\":{\"arrowcolor\":\"#2a3f5f\",\"arrowhead\":0,\"arrowwidth\":1},\"autotypenumbers\":\"strict\",\"coloraxis\":{\"colorbar\":{\"outlinewidth\":0,\"ticks\":\"\"}},\"colorscale\":{\"diverging\":[[0,\"#8e0152\"],[0.1,\"#c51b7d\"],[0.2,\"#de77ae\"],[0.3,\"#f1b6da\"],[0.4,\"#fde0ef\"],[0.5,\"#f7f7f7\"],[0.6,\"#e6f5d0\"],[0.7,\"#b8e186\"],[0.8,\"#7fbc41\"],[0.9,\"#4d9221\"],[1,\"#276419\"]],\"sequential\":[[0.0,\"#0d0887\"],[0.1111111111111111,\"#46039f\"],[0.2222222222222222,\"#7201a8\"],[0.3333333333333333,\"#9c179e\"],[0.4444444444444444,\"#bd3786\"],[0.5555555555555556,\"#d8576b\"],[0.6666666666666666,\"#ed7953\"],[0.7777777777777778,\"#fb9f3a\"],[0.8888888888888888,\"#fdca26\"],[1.0,\"#f0f921\"]],\"sequentialminus\":[[0.0,\"#0d0887\"],[0.1111111111111111,\"#46039f\"],[0.2222222222222222,\"#7201a8\"],[0.3333333333333333,\"#9c179e\"],[0.4444444444444444,\"#bd3786\"],[0.5555555555555556,\"#d8576b\"],[0.6666666666666666,\"#ed7953\"],[0.7777777777777778,\"#fb9f3a\"],[0.8888888888888888,\"#fdca26\"],[1.0,\"#f0f921\"]]},\"colorway\":[\"#636efa\",\"#EF553B\",\"#00cc96\",\"#ab63fa\",\"#FFA15A\",\"#19d3f3\",\"#FF6692\",\"#B6E880\",\"#FF97FF\",\"#FECB52\"],\"font\":{\"color\":\"#2a3f5f\"},\"geo\":{\"bgcolor\":\"white\",\"lakecolor\":\"white\",\"landcolor\":\"#E5ECF6\",\"showlakes\":true,\"showland\":true,\"subunitcolor\":\"white\"},\"hoverlabel\":{\"align\":\"left\"},\"hovermode\":\"closest\",\"mapbox\":{\"style\":\"light\"},\"paper_bgcolor\":\"white\",\"plot_bgcolor\":\"#E5ECF6\",\"polar\":{\"angularaxis\":{\"gridcolor\":\"white\",\"linecolor\":\"white\",\"ticks\":\"\"},\"bgcolor\":\"#E5ECF6\",\"radialaxis\":{\"gridcolor\":\"white\",\"linecolor\":\"white\",\"ticks\":\"\"}},\"scene\":{\"xaxis\":{\"backgroundcolor\":\"#E5ECF6\",\"gridcolor\":\"white\",\"gridwidth\":2,\"linecolor\":\"white\",\"showbackground\":true,\"ticks\":\"\",\"zerolinecolor\":\"white\"},\"yaxis\":{\"backgroundcolor\":\"#E5ECF6\",\"gridcolor\":\"white\",\"gridwidth\":2,\"linecolor\":\"white\",\"showbackground\":true,\"ticks\":\"\",\"zerolinecolor\":\"white\"},\"zaxis\":{\"backgroundcolor\":\"#E5ECF6\",\"gridcolor\":\"white\",\"gridwidth\":2,\"linecolor\":\"white\",\"showbackground\":true,\"ticks\":\"\",\"zerolinecolor\":\"white\"}},\"shapedefaults\":{\"line\":{\"color\":\"#2a3f5f\"}},\"ternary\":{\"aaxis\":{\"gridcolor\":\"white\",\"linecolor\":\"white\",\"ticks\":\"\"},\"baxis\":{\"gridcolor\":\"white\",\"linecolor\":\"white\",\"ticks\":\"\"},\"bgcolor\":\"#E5ECF6\",\"caxis\":{\"gridcolor\":\"white\",\"linecolor\":\"white\",\"ticks\":\"\"}},\"title\":{\"x\":0.05},\"xaxis\":{\"automargin\":true,\"gridcolor\":\"white\",\"linecolor\":\"white\",\"ticks\":\"\",\"title\":{\"standoff\":15},\"zerolinecolor\":\"white\",\"zerolinewidth\":2},\"yaxis\":{\"automargin\":true,\"gridcolor\":\"white\",\"linecolor\":\"white\",\"ticks\":\"\",\"title\":{\"standoff\":15},\"zerolinecolor\":\"white\",\"zerolinewidth\":2}}}},                        {\"responsive\": true}                    ).then(function(){\n",
       "                            \n",
       "var gd = document.getElementById('cb8f9025-51ae-4424-80ec-e0b9465be429');\n",
       "var x = new MutationObserver(function (mutations, observer) {{\n",
       "        var display = window.getComputedStyle(gd).display;\n",
       "        if (!display || display === 'none') {{\n",
       "            console.log([gd, 'removed!']);\n",
       "            Plotly.purge(gd);\n",
       "            observer.disconnect();\n",
       "        }}\n",
       "}});\n",
       "\n",
       "// Listen for the removal of the full notebook cells\n",
       "var notebookContainer = gd.closest('#notebook-container');\n",
       "if (notebookContainer) {{\n",
       "    x.observe(notebookContainer, {childList: true});\n",
       "}}\n",
       "\n",
       "// Listen for the clearing of the current output cell\n",
       "var outputEl = gd.closest('.output');\n",
       "if (outputEl) {{\n",
       "    x.observe(outputEl, {childList: true});\n",
       "}}\n",
       "\n",
       "                        })                };                });            </script>        </div>"
      ]
     },
     "metadata": {},
     "output_type": "display_data"
    }
   ],
   "source": [
    "color_map = px.colors.diverging.RdGy_r # choose a colormap\n",
    "\n",
    "fig = temperature_coefficient_plot(\"India\", 1980, 2020, 1, \n",
    "                                   min_obs = 10,\n",
    "                                   zoom = 2,\n",
    "                                   mapbox_style=\"carto-positron\",\n",
    "                                   color_continuous_scale=color_map)\n",
    "\n",
    "fig.show()"
   ]
  },
  {
   "cell_type": "code",
   "execution_count": null,
   "id": "64f01d4e",
   "metadata": {},
   "outputs": [],
   "source": []
  }
 ],
 "metadata": {
  "kernelspec": {
   "display_name": "Python 3",
   "language": "python",
   "name": "python3"
  },
  "language_info": {
   "codemirror_mode": {
    "name": "ipython",
    "version": 3
   },
   "file_extension": ".py",
   "mimetype": "text/x-python",
   "name": "python",
   "nbconvert_exporter": "python",
   "pygments_lexer": "ipython3",
   "version": "3.8.8"
  }
 },
 "nbformat": 4,
 "nbformat_minor": 5
}
