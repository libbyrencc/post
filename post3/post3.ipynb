{
 "cells": [
  {
   "cell_type": "markdown",
   "id": "87b784c9",
   "metadata": {},
   "source": [
    "# Blog post 3  \n",
    "## Message Bank"
   ]
  },
  {
   "cell_type": "code",
   "execution_count": null,
   "id": "4af46f48",
   "metadata": {},
   "outputs": [],
   "source": [
    "### "
   ]
  }
 ],
 "metadata": {
  "kernelspec": {
   "display_name": "Python 3",
   "language": "python",
   "name": "python3"
  },
  "language_info": {
   "codemirror_mode": {
    "name": "ipython",
    "version": 3
   },
   "file_extension": ".py",
   "mimetype": "text/x-python",
   "name": "python",
   "nbconvert_exporter": "python",
   "pygments_lexer": "ipython3",
   "version": "3.8.8"
  }
 },
 "nbformat": 4,
 "nbformat_minor": 5
}
