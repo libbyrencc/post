{
 "cells": [
  {
   "cell_type": "markdown",
   "id": "98a16341",
   "metadata": {},
   "source": [
    "# Blog post 3  \n",
    "## Message Bank   \n",
    "    Some code/resourse from Professor or TA's code, and this website is build with Flask"
   ]
  },
  {
   "cell_type": "markdown",
   "id": "73fc39d8",
   "metadata": {},
   "source": [
    "### Main page and base page  \n",
    "These two pages are kind of simple, the main page is basically a welcome and the base page is used as an navigate.\n",
    "\n",
    "And in app.py we have the following code to render our main page:"
   ]
  },
  {
   "cell_type": "code",
   "execution_count": null,
   "id": "955cc736",
   "metadata": {},
   "outputs": [],
   "source": [
    "from flask import Flask, g, render_template, request\n",
    "import sqlite3\n",
    "\n",
    "app = Flask(__name__)\n",
    "\n",
    "@app.route('/')\n",
    "\n",
    "def main():\n",
    "    return render_template('main_better.html')"
   ]
  },
  {
   "cell_type": "markdown",
   "id": "c9c30f03",
   "metadata": {},
   "source": [
    "And to run this website we need to open this repository in cmd/terminal to run the following code:    \n",
    "     export FLASK_ENV=development; flask run (Mac)    \n",
    "     set FLASK_ENV=development; flask run (Win)"
   ]
  },
  {
   "cell_type": "markdown",
   "id": "072c1a08",
   "metadata": {},
   "source": [
    "### Submit page    \n",
    "And now we need to write our page for users to submit their messages.And we could use form tag in html to transmit data.   \n",
    "The submit page should include codes as follows:"
   ]
  },
  {
   "cell_type": "code",
   "execution_count": null,
   "id": "13b99377",
   "metadata": {},
   "outputs": [],
   "source": [
    "<form method=\"post\" enctype=\"multipart/form-data\" class=\"cr\">\n",
    "    <label for=\"message\">Your message</label><br>\n",
    "    <input type=\"text\" name=\"message\" id=\"message\"><br>\n",
    "    <label for=\"name\">Your name or handle: </label><br>\n",
    "    <input type=\"text\" name=\"handle\" id=\"handle\"><br>\n",
    "    <input type=\"submit\" value=\"Submit\"><br>\n",
    "</form>"
   ]
  },
  {
   "cell_type": "markdown",
   "id": "6d5932fd",
   "metadata": {},
   "source": [
    "And we need to add navigate bar to this page, so add the following code to top of the submit.html"
   ]
  },
  {
   "cell_type": "code",
   "execution_count": null,
   "id": "7499ac1a",
   "metadata": {},
   "outputs": [],
   "source": [
    "{% extends 'base.html' %}"
   ]
  },
  {
   "cell_type": "markdown",
   "id": "c674805e",
   "metadata": {},
   "source": [
    "And for showing success/error to users:"
   ]
  },
  {
   "cell_type": "code",
   "execution_count": null,
   "id": "c693040d",
   "metadata": {},
   "outputs": [],
   "source": [
    "  {% if thanks %}\n",
    "    <br>\n",
    "    <div class=\"cr\">Thanks for submitting</div>\n",
    "  {% endif %}\n",
    "\n",
    "  {% if error %}\n",
    "    <br>\n",
    "    Oh no, we couldn't read that! \n",
    "  {% endif %}"
   ]
  },
  {
   "cell_type": "markdown",
   "id": "cb9d6b1d",
   "metadata": {},
   "source": [
    "Now we need to add code to app.py to get and store the data from the web page.  \n",
    "\n",
    "   \n",
    "   First we need a function to connect to the database:      \n",
    "      The following function will check if the database is in g and connect it if not.  \n",
    "      Also it will create the table for storing messages from users and create such a table if not exist."
   ]
  },
  {
   "cell_type": "code",
   "execution_count": null,
   "id": "618a49ac",
   "metadata": {},
   "outputs": [],
   "source": [
    "def get_message_db():\n",
    "    if 'message_db' not in g:\n",
    "        g.message_db = sqlite3.connect(\"messages_db.sqlite\")\n",
    "\n",
    "    cursor = g.message_db.cursor()\n",
    "    cursor.execute(\"CREATE TABLE IF NOT EXISTS messages(id INT,handle TEXT,message TEXT);\")\n",
    "    \n",
    "    return g.message_db"
   ]
  },
  {
   "cell_type": "markdown",
   "id": "f7bd7102",
   "metadata": {},
   "source": [
    "And we need to get data from users' input and store it into our database."
   ]
  },
  {
   "cell_type": "code",
   "execution_count": null,
   "id": "20e46abe",
   "metadata": {},
   "outputs": [],
   "source": [
    "def insert_message(request):\n",
    "    message=request.form[\"message\"]\n",
    "    handle=request.form[\"handle\"]\n",
    "    #Get data from submit page\n",
    "    \n",
    "    db=get_message_db()\n",
    "    #Connect to database\n",
    "    \n",
    "    cursor=db.cursor()\n",
    "    cursor.execute(\"SELECT COUNT(*) FROM messages;\")\n",
    "    number_row=cursor.fetchone()[0]\n",
    "    cursor.execute(f\"\"\"INSERT INTO messages (id,handle,message) VALUES ({number_row+1}, \"{handle}\", \"{message}\");\"\"\")\n",
    "    db.commit()\n",
    "    # Add a new row with handle and message and assign a unique id (here is number of row)\n",
    "    db.close()"
   ]
  },
  {
   "cell_type": "markdown",
   "id": "d80182f4",
   "metadata": {},
   "source": [
    "And write a function to render_template() the submit.html"
   ]
  },
  {
   "cell_type": "code",
   "execution_count": null,
   "id": "b0c470b0",
   "metadata": {},
   "outputs": [],
   "source": [
    "@app.route('/submit-basic/', methods=['POST', 'GET'])\n",
    "def submit_basic():\n",
    "    if request.method == 'GET':\n",
    "        return render_template('submit-basic.html')\n",
    "    else:\n",
    "        try:\n",
    "            insert_message(request)\n",
    "            return render_template('submit-basic.html', thanks = True)\n",
    "        except:\n",
    "            return render_template('submit-basic.html', error=True)"
   ]
  },
  {
   "cell_type": "markdown",
   "id": "441ef26c",
   "metadata": {},
   "source": [
    "### View page    \n",
    "This page will pick random message and handle from our database and show it to users.    \n",
    "\n",
    "First, we need a function that return such messages."
   ]
  },
  {
   "cell_type": "code",
   "execution_count": null,
   "id": "58e6f4de",
   "metadata": {},
   "outputs": [],
   "source": [
    "def random_messages(n):\n",
    "    db=get_message_db()\n",
    "    cursor=db.cursor()\n",
    "    cursor.execute(\"SELECT COUNT(*) FROM messages;\")\n",
    "    number_row=cursor.fetchone()[0]\n",
    "    if n > number_row:\n",
    "        n=number_row\n",
    "    # we don't want the number of messages showed > total messages\n",
    "    \n",
    "    a=[]\n",
    "    for i in range(n):\n",
    "        cursor.execute(\"SELECT handle,message FROM messages ORDER BY RANDOM() LIMIT 1;\")\n",
    "        message=cursor.fetchone()\n",
    "        a.append(message)\n",
    "    #Pick random data from our database and return such a list\n",
    "    \n",
    "    return a"
   ]
  },
  {
   "cell_type": "markdown",
   "id": "5f5b58e2",
   "metadata": {},
   "source": [
    "And we need to use a loop to showing the messages in view.html"
   ]
  },
  {
   "cell_type": "code",
   "execution_count": null,
   "id": "d456f22b",
   "metadata": {},
   "outputs": [],
   "source": [
    "<ul class=\"cr\">\n",
    "    {% for message in messages %}\n",
    "      <div class=\"cr\"><li>{{ message[1]|e }}</li>\n",
    "      <i>--{{ message[0]|e }}</i></div>\n",
    "    {% endfor %}\n",
    "</ul>"
   ]
  },
  {
   "cell_type": "markdown",
   "id": "8c85cf8e",
   "metadata": {},
   "source": [
    "Finally, we write a function to render view.html in app.py"
   ]
  },
  {
   "cell_type": "code",
   "execution_count": null,
   "id": "50a3b04c",
   "metadata": {},
   "outputs": [],
   "source": [
    "@app.route('/view/')\n",
    "def view():\n",
    "    message=random_messages(5)\n",
    "    #Here we use 5 random messages\n",
    "    return render_template('view.html',messages=message )"
   ]
  },
  {
   "cell_type": "markdown",
   "id": "3f049732",
   "metadata": {},
   "source": [
    "Now our website should work properly.   \n",
    "The final step is to add some \"fancy\" CSS style  \n",
    "\n",
    "## Final Screencut"
   ]
  },
  {
   "cell_type": "markdown",
   "id": "d2075916",
   "metadata": {},
   "source": []
  }
 ],
 "metadata": {
  "kernelspec": {
   "display_name": "Python 3",
   "language": "python",
   "name": "python3"
  },
  "language_info": {
   "codemirror_mode": {
    "name": "ipython",
    "version": 3
   },
   "file_extension": ".py",
   "mimetype": "text/x-python",
   "name": "python",
   "nbconvert_exporter": "python",
   "pygments_lexer": "ipython3",
   "version": "3.8.8"
  }
 },
 "nbformat": 4,
 "nbformat_minor": 5
}
